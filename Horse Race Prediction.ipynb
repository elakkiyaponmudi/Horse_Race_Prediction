{
 "cells": [
  {
   "cell_type": "code",
   "execution_count": 28,
   "id": "12e9115b-7f1f-4db5-bbc1-f2d2f060390e",
   "metadata": {},
   "outputs": [],
   "source": [
    "import pandas as pd\n",
    "import os\n",
    "\n",
    "# Define the paths to the horse and race data files\n",
    "horse_data_files = [f\"C:/Users/Elakkiya/Downloads/Horse Race Prediction/horses_{year}.csv\" for year in range(1990, 2021)]\n",
    "race_data_files = [f\"C:/Users/Elakkiya/Downloads/Horse Race Prediction/races_{year}.csv\" for year in range(1990, 2021)]\n",
    "forward_data_file = \"C:/Users/Elakkiya/Downloads/Horse Race Prediction/forward.csv\"\n",
    "\n",
    "horse_data_list = [pd.read_csv(file, low_memory=False) for file in horse_data_files]\n",
    "race_data_list = [pd.read_csv(file, low_memory=False) for file in race_data_files]  \n",
    "forward_data = pd.read_csv(forward_data_file)\n",
    "\n",
    "# Concatenate all years' data into single DataFrames\n",
    "horse_data = pd.concat(horse_data_list, ignore_index=True)\n",
    "race_data = pd.concat(race_data_list, ignore_index=True)\n"
   ]
  },
  {
   "cell_type": "code",
   "execution_count": 22,
   "id": "088abb62-5385-48a8-a423-31773299329f",
   "metadata": {},
   "outputs": [
    {
     "name": "stdout",
     "output_type": "stream",
     "text": [
      "rid                   0\n",
      "horseName             0\n",
      "age                 309\n",
      "saddle           179168\n",
      "decimalPrice          0\n",
      "isFav                 0\n",
      "trainerName        2850\n",
      "jockeyName          125\n",
      "position              0\n",
      "positionL        783662\n",
      "dist            1074385\n",
      "weightSt              0\n",
      "weightLb              0\n",
      "overWeight      4012988\n",
      "outHandicap     3994332\n",
      "headGear        3119695\n",
      "RPR              864877\n",
      "TR              1681610\n",
      "OR              1795263\n",
      "father             1289\n",
      "mother             4480\n",
      "gfather          119374\n",
      "runners               0\n",
      "margin                0\n",
      "weight                0\n",
      "res_win               0\n",
      "res_place             0\n",
      "price           4012304\n",
      "dtype: int64\n",
      "rid                 0\n",
      "course              0\n",
      "time                0\n",
      "date                0\n",
      "title               1\n",
      "rclass         152992\n",
      "band           231309\n",
      "ages            13054\n",
      "distance            0\n",
      "condition          48\n",
      "hurdles        274953\n",
      "prizes              0\n",
      "winningTime         0\n",
      "prize           19708\n",
      "metric              0\n",
      "countryCode         0\n",
      "ncond               0\n",
      "class               0\n",
      "currency       387291\n",
      "dtype: int64\n",
      "course             11\n",
      "countryCode         0\n",
      "marketTime          0\n",
      "title               0\n",
      "runners             0\n",
      "condition           5\n",
      "prize               0\n",
      "rclass          10716\n",
      "horseName           0\n",
      "trainerName         0\n",
      "jockeyName         92\n",
      "RPRc             5597\n",
      "TRc             10088\n",
      "OR               9470\n",
      "weightSt            0\n",
      "weightLb            0\n",
      "age                 0\n",
      "decimalPrice        0\n",
      "dtype: int64\n"
     ]
    }
   ],
   "source": [
    "# Check for missing values\n",
    "print(horse_data.isnull().sum())\n",
    "print(race_data.isnull().sum())\n",
    "print(forward_data.isnull().sum())\n",
    "\n"
   ]
  },
  {
   "cell_type": "code",
   "execution_count": 29,
   "id": "e77a88cc-ba11-4143-9484-d820bad8699a",
   "metadata": {},
   "outputs": [],
   "source": [
    "\n",
    "# Define a function to drop columns with more than a specified percentage of null values\n",
    "def drop_high_null_columns(df, threshold=0.7):\n",
    "    null_percentage = df.isnull().sum() / len(df)\n",
    "    columns_to_drop = null_percentage[null_percentage > threshold].index\n",
    "    return df.drop(columns=columns_to_drop)\n",
    "\n",
    "# Drop columns with more than 70% null values\n",
    "horse_data_cleaned = drop_high_null_columns(horse_data, threshold=0.7)\n",
    "race_data_cleaned = drop_high_null_columns(race_data, threshold=0.7)\n",
    "forward_data_cleaned = drop_high_null_columns(forward_data, threshold=0.7)\n",
    "\n"
   ]
  },
  {
   "cell_type": "code",
   "execution_count": 11,
   "id": "48961f6a-96af-4b01-951e-9cd2878506bd",
   "metadata": {},
   "outputs": [
    {
     "name": "stdout",
     "output_type": "stream",
     "text": [
      "rid                   0\n",
      "horseName             0\n",
      "age                 309\n",
      "saddle           179168\n",
      "decimalPrice          0\n",
      "isFav                 0\n",
      "trainerName        2850\n",
      "jockeyName          125\n",
      "position              0\n",
      "positionL        783662\n",
      "dist            1074385\n",
      "weightSt              0\n",
      "weightLb              0\n",
      "RPR              864877\n",
      "TR              1681610\n",
      "OR              1795263\n",
      "father             1289\n",
      "mother             4480\n",
      "gfather          119374\n",
      "runners               0\n",
      "margin                0\n",
      "weight                0\n",
      "res_win               0\n",
      "res_place             0\n",
      "dtype: int64\n",
      "rid                 0\n",
      "course              0\n",
      "time                0\n",
      "date                0\n",
      "title               1\n",
      "rclass         152992\n",
      "band           231309\n",
      "ages            13054\n",
      "distance            0\n",
      "condition          48\n",
      "hurdles        274953\n",
      "prizes              0\n",
      "winningTime         0\n",
      "prize           19708\n",
      "metric              0\n",
      "countryCode         0\n",
      "ncond               0\n",
      "class               0\n",
      "dtype: int64\n",
      "course             11\n",
      "countryCode         0\n",
      "marketTime          0\n",
      "title               0\n",
      "runners             0\n",
      "condition           5\n",
      "prize               0\n",
      "rclass          10716\n",
      "horseName           0\n",
      "trainerName         0\n",
      "jockeyName         92\n",
      "RPRc             5597\n",
      "TRc             10088\n",
      "OR               9470\n",
      "weightSt            0\n",
      "weightLb            0\n",
      "age                 0\n",
      "decimalPrice        0\n",
      "dtype: int64\n"
     ]
    }
   ],
   "source": [
    "# Check for missing values\n",
    "print(horse_data_cleaned.isnull().sum())\n",
    "print(race_data_cleaned.isnull().sum())\n",
    "print(forward_data_cleaned.isnull().sum())\n",
    "\n"
   ]
  },
  {
   "cell_type": "code",
   "execution_count": 30,
   "id": "cfa6d309-ffc5-4da0-b3e3-8b0849d4d661",
   "metadata": {},
   "outputs": [
    {
     "name": "stdout",
     "output_type": "stream",
     "text": [
      "      rid         horseName  age  saddle  decimalPrice  isFav  \\\n",
      "0  271018        Combermere  6.0     0.0      0.222222      0   \n",
      "1  271018     Royal Battery  6.0     0.0      0.090909      0   \n",
      "2  271018           Just So  7.0     0.0      0.029412      0   \n",
      "3  271018  Mandraki Shuffle  8.0     0.0      0.090909      0   \n",
      "4  271018    Turnberry Dawn  8.0     0.0      0.047619      0   \n",
      "5  271018         Yreka Bay  8.0     0.0      0.029412      0   \n",
      "6  271018         Hi' Upham  8.0     0.0      0.058824      0   \n",
      "7  271018    Lauderdale Lad  8.0     0.0      0.200000      0   \n",
      "8  271018  Providence Lodge  8.0     0.0      0.125000      0   \n",
      "9  271018     Duke Of Abson  5.0     0.0      0.038462      0   \n",
      "\n",
      "       trainerName      jockeyName  position  dist  ...    TR  OR  \\\n",
      "0        R G Frost         J Frost         1   NaN  ...  94.0 NaN   \n",
      "1       D H Barons         S Earle         2   NaN  ...  88.0 NaN   \n",
      "2      J D Roberts      S Burrough         3  25.0  ...  71.0 NaN   \n",
      "3  Oliver Sherwood      M Richards         4  45.0  ...  65.0 NaN   \n",
      "4      T B Hallett      P Richards         5  75.0  ...  45.0 NaN   \n",
      "5    J A C Edwards        W Irvine         6  77.5  ...  41.0 NaN   \n",
      "6     D R Gandolfo       S McNeill        40   NaN  ...   NaN NaN   \n",
      "7         J S King    B Powell Snr        40   NaN  ...   NaN NaN   \n",
      "8         F Walwyn       R Chapman        40   NaN  ...   NaN NaN   \n",
      "9       D H Barons  Carl Llewellyn        40   NaN  ...   NaN NaN   \n",
      "\n",
      "         father             mother         gfather runners    margin weight  \\\n",
      "0       Absalom     Queen's Parade  Sovereign Path      14  1.521003     69   \n",
      "1   Norfolk Air         All At Sea    Man The Rail      14  1.521003     69   \n",
      "2         Sousa       Just Camilla     Ascertain I      14  1.521003     66   \n",
      "3      Mandalus         Indictment     Desert Call      14  1.521003     69   \n",
      "4     Fair Turn       Shuil Alainn        Levanter      14  1.521003     69   \n",
      "5     Le Bavard      Maureens Dote      David Jack      14  1.521003     68   \n",
      "6      Deep Run  Highly Acceptable   Immortality I      14  1.521003     67   \n",
      "7      Politico       Cannes Beach      Canadel II      14  1.521003     72   \n",
      "8    The Parson          Pallatess       Pall Mall      14  1.521003     67   \n",
      "9  Lakenheath I       Moon Goddess       Greek God      14  1.521003     69   \n",
      "\n",
      "   res_win  res_place  \n",
      "0      1.0        1.0  \n",
      "1      0.0        1.0  \n",
      "2      0.0        1.0  \n",
      "3      0.0        0.0  \n",
      "4      0.0        0.0  \n",
      "5      0.0        0.0  \n",
      "6      0.0        0.0  \n",
      "7      0.0        0.0  \n",
      "8      0.0        0.0  \n",
      "9      0.0        0.0  \n",
      "\n",
      "[10 rows x 23 columns]\n",
      "      rid          course  time      date  \\\n",
      "0  271018          Exeter   195  90/01/01   \n",
      "1  275156   Tramore (IRE)   120  90/01/01   \n",
      "2  282203       Catterick   165  90/01/01   \n",
      "3  298761      Cheltenham   150  90/01/01   \n",
      "4  301118         Windsor   210  90/01/01   \n",
      "5  305074       Leicester    60  90/01/01   \n",
      "6  307119          Exeter   225  90/01/01   \n",
      "7  311645  Southwell (AW)   175  90/01/01   \n",
      "8  326302       Catterick   765  90/01/01   \n",
      "9  326330  Southwell (AW)   115  90/01/01   \n",
      "\n",
      "                                               title rclass  band  ages  \\\n",
      "0  David Garrett Memorial Challenge Trophy Novice...    NaN   NaN   6.0   \n",
      "1              Tattersalls Mares E.B.F. Novice Chase    NaN   NaN   NaN   \n",
      "2                       Scotch Corner Handicap Chase    NaN  62.5   NaN   \n",
      "3                           A. S. W. Handicap Hurdle    NaN   NaN   NaN   \n",
      "4                        Touchen End Handicap Hurdle    NaN  57.5   NaN   \n",
      "5                        Humberstone Novices' Hurdle    NaN   NaN   NaN   \n",
      "6               Deep Wealth Novices' Handicap Hurdle    NaN   NaN   NaN   \n",
      "7                       Jones Drainage Maiden Stakes    NaN   NaN   3.0   \n",
      "8                     Robinson Crusoe Novices' Chase    NaN   NaN   NaN   \n",
      "9                          Hair Of Dog Maiden Stakes    NaN   NaN   NaN   \n",
      "\n",
      "   distance     condition  hurdles  winningTime   prize  metric countryCode  \\\n",
      "0        25          Soft     19.0        398.3  4409.0  5028.0          GB   \n",
      "1        16          Soft     12.0        267.0     NaN  3218.0          IE   \n",
      "2         8  Good To Firm     12.0        238.0  3150.0  3116.5          GB   \n",
      "3        16  Good To Firm      NaN        243.8  7700.0  3218.0          GB   \n",
      "4        22          Good      NaN        330.7  3312.0  4424.0          GB   \n",
      "5        16          Good      8.0        226.6  2400.0  3218.0          GB   \n",
      "6        17          Soft      8.0        261.2  2840.0  3419.0          GB   \n",
      "7         6      Standard      NaN         76.4  3030.0  1206.0          GB   \n",
      "8        24  Good To Firm      NaN        390.3  3220.0  5128.5          GB   \n",
      "9         8      Standard      NaN         99.3  3450.0  1609.0          GB   \n",
      "\n",
      "  ncond  class  \n",
      "0     5      0  \n",
      "1     5      0  \n",
      "2     2      0  \n",
      "3     2      0  \n",
      "4     1      0  \n",
      "5     1      0  \n",
      "6     5      0  \n",
      "7     0      0  \n",
      "8     2      0  \n",
      "9     0      0  \n",
      "     course  countryCode                 marketTime  \\\n",
      "0  Limerick            0  2020-09-11 12:45:00+01:00   \n",
      "1  Limerick            0  2020-09-11 12:45:00+01:00   \n",
      "2  Limerick            0  2020-09-11 12:45:00+01:00   \n",
      "3  Limerick            0  2020-09-11 12:45:00+01:00   \n",
      "4  Limerick            0  2020-09-11 12:45:00+01:00   \n",
      "5  Limerick            0  2020-09-11 12:45:00+01:00   \n",
      "6  Limerick            0  2020-09-11 12:45:00+01:00   \n",
      "7  Limerick            0  2020-09-11 12:45:00+01:00   \n",
      "8  Limerick            0  2020-09-11 12:45:00+01:00   \n",
      "9  Limerick            0  2020-09-11 12:45:00+01:00   \n",
      "\n",
      "                                               title  runners  \\\n",
      "0  Irish Stallion Farms EBF Fillies Maiden (Plus ...       14   \n",
      "1  Irish Stallion Farms EBF Fillies Maiden (Plus ...       14   \n",
      "2  Irish Stallion Farms EBF Fillies Maiden (Plus ...       14   \n",
      "3  Irish Stallion Farms EBF Fillies Maiden (Plus ...       14   \n",
      "4  Irish Stallion Farms EBF Fillies Maiden (Plus ...       14   \n",
      "5  Irish Stallion Farms EBF Fillies Maiden (Plus ...       14   \n",
      "6  Irish Stallion Farms EBF Fillies Maiden (Plus ...       14   \n",
      "7  Irish Stallion Farms EBF Fillies Maiden (Plus ...       14   \n",
      "8  Irish Stallion Farms EBF Fillies Maiden (Plus ...       14   \n",
      "9  Irish Stallion Farms EBF Fillies Maiden (Plus ...       14   \n",
      "\n",
      "          condition    prize  rclass          horseName          trainerName  \\\n",
      "0  Yielding To Soft  13717.5     NaN  All Down To Rosie        Conor O'Dwyer   \n",
      "1  Yielding To Soft  13717.5     NaN         Colfer Kay           K J Condon   \n",
      "2  Yielding To Soft  13717.5     NaN          Dha Leath      Garvan Donnelly   \n",
      "3  Yielding To Soft  13717.5     NaN          Ellabella      Andrew McNamara   \n",
      "4  Yielding To Soft  13717.5     NaN             Fermoy  Mrs John Harrington   \n",
      "5  Yielding To Soft  13717.5     NaN         Markievicz     Ms Sheila Lavery   \n",
      "6  Yielding To Soft  13717.5     NaN       Mina Maccari           W McCreery   \n",
      "7  Yielding To Soft  13717.5     NaN        Mirage More            M Halford   \n",
      "8  Yielding To Soft  13717.5     NaN           Palifico  Mrs John Harrington   \n",
      "9  Yielding To Soft  13717.5     NaN           Perilous      Augustine Leahy   \n",
      "\n",
      "      jockeyName  RPRc   TRc  OR  weightSt  weightLb  age  decimalPrice  \n",
      "0  Kevin Manning   NaN   NaN NaN         9         2    2     50.000000  \n",
      "1        W J Lee  79.0  70.0 NaN         9         2    2      6.037778  \n",
      "2   J M Sheridan   NaN   NaN NaN         9         2    2     49.666667  \n",
      "3    Colin Keane   NaN   NaN NaN         9         2    2     17.944444  \n",
      "4     Tom Madden  73.0  58.0 NaN         9         2    2     17.594737  \n",
      "5  Robbie Colgan   NaN   NaN NaN         9         2    2     19.500000  \n",
      "6  Nathan Crosse   NaN   NaN NaN         9         2    2     14.061111  \n",
      "7   Ronan Whelan  77.0  54.0 NaN         9         2    2      9.872222  \n",
      "8    Shane Foley  90.0  85.0 NaN         9         2    2      3.077778  \n",
      "9   Mark Enright  55.0  20.0 NaN         9         2    2     63.947368  \n"
     ]
    }
   ],
   "source": [
    "import pandas as pd\n",
    "import re\n",
    "\n",
    "# Define cleaning and normalization functions\n",
    "def clean_distance(dist):\n",
    "    if pd.isnull(dist):\n",
    "        return None\n",
    "    dist_str = str(dist).lower()\n",
    "    miles_match = re.search(r'(\\d+)m', dist_str)\n",
    "    furlongs_match = re.search(r'(\\d+)f', dist_str)\n",
    "    miles = int(miles_match.group(1)) if miles_match else 0\n",
    "    furlongs = 0\n",
    "    if furlongs_match:\n",
    "        furlongs = int(furlongs_match.group(1))\n",
    "    fractional_match = re.search(r'(\\d+)/(\\d+)f', dist_str)\n",
    "    if fractional_match:\n",
    "        furlongs += int(fractional_match.group(1)) / int(fractional_match.group(2))\n",
    "    return miles * 8 + furlongs\n",
    "\n",
    "def normalize_time(time_str):\n",
    "    if pd.isnull(time_str):\n",
    "        return None\n",
    "    time_parts = time_str.split(':')\n",
    "    if len(time_parts) == 2:\n",
    "        return int(time_parts[0]) * 60 + int(time_parts[1])\n",
    "    elif len(time_parts) == 3:\n",
    "        return int(time_parts[0]) * 3600 + int(time_parts[1]) * 60 + int(time_parts[2])\n",
    "    return None\n",
    "\n",
    "def clean_ages(ages):\n",
    "    if pd.isnull(ages):\n",
    "        return None\n",
    "    match = re.search(r'\\d+', str(ages))\n",
    "    return int(match.group(0)) if match else None\n",
    "\n",
    "def clean_title(title):\n",
    "    return re.sub(r'[^a-zA-Z0-9\\s]', '', title).strip() if title else title\n",
    "\n",
    "\n",
    "def extract_numeric(value):\n",
    "    if pd.isnull(value):\n",
    "        return None\n",
    "    match = re.search(r'\\d+', str(value))\n",
    "    return int(match.group(0)) if match else None\n",
    "\n",
    "\n",
    "def clean_band(band):\n",
    "    if pd.isnull(band) or band.strip() == '':\n",
    "        return None  # Return None for empty or missing values\n",
    "\n",
    "    band = str(band).strip()  # Remove leading/trailing whitespace\n",
    "\n",
    "    # Handle ranges like '80-109', split and return the average of the range\n",
    "    if '-' in band:\n",
    "        band_range = band.split('-')\n",
    "\n",
    "        # Check if both parts of the range are valid numbers\n",
    "        if len(band_range) == 2 and band_range[0].strip() and band_range[1].strip():\n",
    "            try:\n",
    "                lower_bound = int(band_range[0].strip())\n",
    "                upper_bound = int(band_range[1].strip())\n",
    "                return (lower_bound + upper_bound) / 2  # Return the average\n",
    "            except ValueError:\n",
    "                return None  # If any part can't be converted to int, return None\n",
    "\n",
    "    # If no range, return the numeric value if valid\n",
    "    if band.isnumeric():\n",
    "        return int(band)\n",
    "\n",
    "    return None  # Return None if the value is not valid\n",
    "\n",
    "def clean_rclass(rclass):\n",
    "    if pd.isnull(rclass):\n",
    "        return None\n",
    "    match = re.search(r'\\d+', str(rclass))\n",
    "    return int(match.group(0)) if match else None\n",
    "\n",
    "\n",
    "# Drop 'prizes' column in race data\n",
    "if 'prizes' in race_data_cleaned.columns:\n",
    "    race_data_cleaned.drop('prizes', axis=1, inplace=True)\n",
    "if 'positionL' in horse_data_cleaned.columns:\n",
    "    horse_data_cleaned.drop('positionL', axis=1, inplace=True)\n",
    "\n",
    "\n",
    "# Apply cleaning functions if the 'rclass' column exists\n",
    "if 'rclass' in horse_data_cleaned.columns:\n",
    "    horse_data_cleaned['rclass'] = horse_data_cleaned['rclass'].apply(clean_rclass)\n",
    "if 'rclass' in forward_data_cleaned.columns:\n",
    "    forward_data_cleaned['rclass'] = forward_data_cleaned['rclass'].apply(clean_rclass)\n",
    "\n",
    "race_data_cleaned['distance'] = race_data_cleaned['distance'].apply(clean_distance)\n",
    "if 'time' in race_data_cleaned.columns:\n",
    "    race_data_cleaned['time'] = race_data_cleaned['time'].apply(normalize_time)\n",
    "race_data_cleaned['ages'] = race_data_cleaned['ages'].apply(clean_ages)\n",
    "race_data_cleaned['hurdles'] = race_data_cleaned['hurdles'].apply(extract_numeric)\n",
    "race_data_cleaned['band'] = race_data_cleaned['band'].apply(clean_band)\n",
    "\n",
    "# Print cleaned DataFrames\n",
    "print(horse_data_cleaned.head(10))\n",
    "print(race_data_cleaned.head(10))\n",
    "print(forward_data_cleaned.head(10))\n"
   ]
  },
  {
   "cell_type": "code",
   "execution_count": 31,
   "id": "f1b9fbe6-36c6-4b59-b450-d0c65b028c8d",
   "metadata": {},
   "outputs": [
    {
     "name": "stdout",
     "output_type": "stream",
     "text": [
      "\n",
      "Cleaned Forward Data:\n",
      "              course  countryCode                marketTime  \\\n",
      "0           Limerick            0 2020-09-11 11:45:00+00:00   \n",
      "1           Limerick            0 2020-09-11 11:45:00+00:00   \n",
      "2           Limerick            0 2020-09-11 11:45:00+00:00   \n",
      "3           Limerick            0 2020-09-11 11:45:00+00:00   \n",
      "4           Limerick            0 2020-09-11 11:45:00+00:00   \n",
      "...              ...          ...                       ...   \n",
      "33703  Wolverhampton            0 2020-12-05 20:00:00+00:00   \n",
      "33704  Wolverhampton            0 2020-12-05 20:00:00+00:00   \n",
      "33705  Wolverhampton            0 2020-12-05 20:00:00+00:00   \n",
      "33706  Wolverhampton            0 2020-12-05 20:00:00+00:00   \n",
      "33707  Wolverhampton            0 2020-12-05 20:00:00+00:00   \n",
      "\n",
      "                                                   title  runners  \\\n",
      "0      Irish Stallion Farms EBF Fillies Maiden (Plus ...       14   \n",
      "1      Irish Stallion Farms EBF Fillies Maiden (Plus ...       14   \n",
      "2      Irish Stallion Farms EBF Fillies Maiden (Plus ...       14   \n",
      "3      Irish Stallion Farms EBF Fillies Maiden (Plus ...       14   \n",
      "4      Irish Stallion Farms EBF Fillies Maiden (Plus ...       14   \n",
      "...                                                  ...      ...   \n",
      "33703                               Betway Novice Stakes       10   \n",
      "33704                               Betway Novice Stakes       10   \n",
      "33705                               Betway Novice Stakes       10   \n",
      "33706                               Betway Novice Stakes       10   \n",
      "33707                               Betway Novice Stakes       10   \n",
      "\n",
      "              condition    prize  rclass          horseName  \\\n",
      "0      Yielding To Soft  13717.5     NaN  All Down To Rosie   \n",
      "1      Yielding To Soft  13717.5     NaN         Colfer Kay   \n",
      "2      Yielding To Soft  13717.5     NaN          Dha Leath   \n",
      "3      Yielding To Soft  13717.5     NaN          Ellabella   \n",
      "4      Yielding To Soft  13717.5     NaN             Fermoy   \n",
      "...                 ...      ...     ...                ...   \n",
      "33703          Standard   5143.5     5.0       My Foxy Lady   \n",
      "33704          Standard   5143.5     5.0     Tannadice Park   \n",
      "33705          Standard   5143.5     5.0      The Boola Bee   \n",
      "33706          Standard   5143.5     5.0       Star Dreamer   \n",
      "33707          Standard   5143.5     5.0        Toora Loora   \n",
      "\n",
      "               trainerName      jockeyName  RPRc   TRc    OR  weightSt  \\\n",
      "0            Conor O'Dwyer   Kevin Manning   NaN   NaN   NaN         9   \n",
      "1               K J Condon         W J Lee  79.0  70.0   NaN         9   \n",
      "2          Garvan Donnelly    J M Sheridan   NaN   NaN   NaN         9   \n",
      "3          Andrew McNamara     Colin Keane   NaN   NaN   NaN         9   \n",
      "4      Mrs John Harrington      Tom Madden  73.0  58.0   NaN         9   \n",
      "...                    ...             ...   ...   ...   ...       ...   \n",
      "33703          Trevor Wall  Darragh Keenan   NaN   NaN   NaN         9   \n",
      "33704           Jim Goldie       Tom Eaves   NaN   NaN   NaN         9   \n",
      "33705          Nigel Hawke   David Probert  48.0   NaN   NaN         9   \n",
      "33706     Charlie Fellowes  Stevie Donohoe  64.0  22.0   NaN         8   \n",
      "33707        David Simcock     Luke Morris  90.0  46.0  78.0         8   \n",
      "\n",
      "       weightLb  age  decimalPrice  \n",
      "0             2    2     50.000000  \n",
      "1             2    2      6.037778  \n",
      "2             2    2     49.666667  \n",
      "3             2    2     17.944444  \n",
      "4             2    2     17.594737  \n",
      "...         ...  ...           ...  \n",
      "33703         1    8    187.650000  \n",
      "33704         1    5    185.250000  \n",
      "33705         1    7    137.550000  \n",
      "33706        11    3     49.250000  \n",
      "33707        11    3     17.905000  \n",
      "\n",
      "[33708 rows x 18 columns]\n"
     ]
    }
   ],
   "source": [
    "forward_data_cleaned['marketTime'] = pd.to_datetime(forward_data_cleaned['marketTime'], utc=True)\n",
    "print(\"\\nCleaned Forward Data:\")\n",
    "print(forward_data_cleaned)"
   ]
  },
  {
   "cell_type": "code",
   "execution_count": 32,
   "id": "f21498d8-cbf5-45f6-b9ef-4704b48addd2",
   "metadata": {},
   "outputs": [
    {
     "data": {
      "text/plain": [
       "course                       object\n",
       "countryCode                   int64\n",
       "marketTime      datetime64[ns, UTC]\n",
       "title                        object\n",
       "runners                       int64\n",
       "condition                    object\n",
       "prize                       float64\n",
       "rclass                      float64\n",
       "horseName                    object\n",
       "trainerName                  object\n",
       "jockeyName                   object\n",
       "RPRc                        float64\n",
       "TRc                         float64\n",
       "OR                          float64\n",
       "weightSt                      int64\n",
       "weightLb                      int64\n",
       "age                           int64\n",
       "decimalPrice                float64\n",
       "dtype: object"
      ]
     },
     "execution_count": 32,
     "metadata": {},
     "output_type": "execute_result"
    }
   ],
   "source": [
    "forward_data_cleaned.dtypes"
   ]
  },
  {
   "cell_type": "code",
   "execution_count": 35,
   "id": "262d2034-59e1-42bf-bb40-47723182f426",
   "metadata": {},
   "outputs": [
    {
     "name": "stdout",
     "output_type": "stream",
     "text": [
      "     course  countryCode                 marketTime  \\\n",
      "0  Limerick            0  2020-09-11 11:45:00+00:00   \n",
      "1  Limerick            0  2020-09-11 11:45:00+00:00   \n",
      "2  Limerick            0  2020-09-11 11:45:00+00:00   \n",
      "3  Limerick            0  2020-09-11 11:45:00+00:00   \n",
      "4  Limerick            0  2020-09-11 11:45:00+00:00   \n",
      "\n",
      "                                               title  runners  \\\n",
      "0  Irish Stallion Farms EBF Fillies Maiden (Plus ...       14   \n",
      "1  Irish Stallion Farms EBF Fillies Maiden (Plus ...       14   \n",
      "2  Irish Stallion Farms EBF Fillies Maiden (Plus ...       14   \n",
      "3  Irish Stallion Farms EBF Fillies Maiden (Plus ...       14   \n",
      "4  Irish Stallion Farms EBF Fillies Maiden (Plus ...       14   \n",
      "\n",
      "          condition    prize  rclass          horseName          trainerName  \\\n",
      "0  Yielding To Soft  13717.5     NaN  All Down To Rosie        Conor O'Dwyer   \n",
      "1  Yielding To Soft  13717.5     NaN         Colfer Kay           K J Condon   \n",
      "2  Yielding To Soft  13717.5     NaN          Dha Leath      Garvan Donnelly   \n",
      "3  Yielding To Soft  13717.5     NaN          Ellabella      Andrew McNamara   \n",
      "4  Yielding To Soft  13717.5     NaN             Fermoy  Mrs John Harrington   \n",
      "\n",
      "      jockeyName  RPRc   TRc  OR  weightSt  weightLb  age  decimalPrice  \n",
      "0  Kevin Manning   NaN   NaN NaN         9         2    2     50.000000  \n",
      "1        W J Lee  79.0  70.0 NaN         9         2    2      6.037778  \n",
      "2   J M Sheridan   NaN   NaN NaN         9         2    2     49.666667  \n",
      "3    Colin Keane   NaN   NaN NaN         9         2    2     17.944444  \n",
      "4     Tom Madden  73.0  58.0 NaN         9         2    2     17.594737  \n",
      "      rid         course  time      date  \\\n",
      "0  271018         Exeter   195  90/01/01   \n",
      "1  275156  Tramore (IRE)   120  90/01/01   \n",
      "2  282203      Catterick   165  90/01/01   \n",
      "3  298761     Cheltenham   150  90/01/01   \n",
      "4  301118        Windsor   210  90/01/01   \n",
      "\n",
      "                                               title rclass  band  ages  \\\n",
      "0  David Garrett Memorial Challenge Trophy Novice...    NaN   NaN   6.0   \n",
      "1              Tattersalls Mares E.B.F. Novice Chase    NaN   NaN   NaN   \n",
      "2                       Scotch Corner Handicap Chase    NaN  62.5   NaN   \n",
      "3                           A. S. W. Handicap Hurdle    NaN   NaN   NaN   \n",
      "4                        Touchen End Handicap Hurdle    NaN  57.5   NaN   \n",
      "\n",
      "   distance     condition  hurdles  winningTime   prize  metric countryCode  \\\n",
      "0        25          Soft     19.0        398.3  4409.0  5028.0          GB   \n",
      "1        16          Soft     12.0        267.0     NaN  3218.0          IE   \n",
      "2         8  Good To Firm     12.0        238.0  3150.0  3116.5          GB   \n",
      "3        16  Good To Firm      NaN        243.8  7700.0  3218.0          GB   \n",
      "4        22          Good      NaN        330.7  3312.0  4424.0          GB   \n",
      "\n",
      "  ncond  class  \n",
      "0     5      0  \n",
      "1     5      0  \n",
      "2     2      0  \n",
      "3     2      0  \n",
      "4     1      0  \n",
      "      rid         horseName  age  saddle  decimalPrice  isFav  \\\n",
      "0  271018        Combermere  6.0     0.0      0.222222      0   \n",
      "1  271018     Royal Battery  6.0     0.0      0.090909      0   \n",
      "2  271018           Just So  7.0     0.0      0.029412      0   \n",
      "3  271018  Mandraki Shuffle  8.0     0.0      0.090909      0   \n",
      "4  271018    Turnberry Dawn  8.0     0.0      0.047619      0   \n",
      "\n",
      "       trainerName  jockeyName  position  dist  ...    TR  OR       father  \\\n",
      "0        R G Frost     J Frost         1   NaN  ...  94.0 NaN      Absalom   \n",
      "1       D H Barons     S Earle         2   NaN  ...  88.0 NaN  Norfolk Air   \n",
      "2      J D Roberts  S Burrough         3  25.0  ...  71.0 NaN        Sousa   \n",
      "3  Oliver Sherwood  M Richards         4  45.0  ...  65.0 NaN     Mandalus   \n",
      "4      T B Hallett  P Richards         5  75.0  ...  45.0 NaN    Fair Turn   \n",
      "\n",
      "           mother         gfather runners    margin weight  res_win  res_place  \n",
      "0  Queen's Parade  Sovereign Path      14  1.521003     69      1.0        1.0  \n",
      "1      All At Sea    Man The Rail      14  1.521003     69      0.0        1.0  \n",
      "2    Just Camilla     Ascertain I      14  1.521003     66      0.0        1.0  \n",
      "3      Indictment     Desert Call      14  1.521003     69      0.0        0.0  \n",
      "4    Shuil Alainn        Levanter      14  1.521003     69      0.0        0.0  \n",
      "\n",
      "[5 rows x 23 columns]\n"
     ]
    }
   ],
   "source": [
    "import pandas as pd\n",
    "\n",
    "# Load the datasets\n",
    "forward_data = pd.read_csv(\"C:/Users/Elakkiya/Downloads/Horse Race Prediction/forward_cleaned.csv\")\n",
    "races_data = pd.read_csv(\"C:/Users/Elakkiya/Downloads/Horse Race Prediction/races_cleaned.csv\",low_memory=False)\n",
    "horses_data = pd.read_csv(\"C:/Users/Elakkiya/Downloads/Horse Race Prediction/horses_cleaned.csv\")\n",
    "\n",
    "# Display the first few rows to understand the data\n",
    "print(forward_data.head())\n",
    "print(races_data.head())\n",
    "print(horses_data.head())\n"
   ]
  },
  {
   "cell_type": "code",
   "execution_count": 53,
   "id": "a12bf59e-f13f-4723-a639-bf628bf452d6",
   "metadata": {},
   "outputs": [
    {
     "name": "stdout",
     "output_type": "stream",
     "text": [
      "      rid         horseName  age  saddle  decimalPrice  isFav  \\\n",
      "0  271018        Combermere  6.0     0.0      0.222222      0   \n",
      "1  271018     Royal Battery  6.0     0.0      0.090909      0   \n",
      "2  271018           Just So  7.0     0.0      0.029412      0   \n",
      "3  271018  Mandraki Shuffle  8.0     0.0      0.090909      0   \n",
      "4  271018    Turnberry Dawn  8.0     0.0      0.047619      0   \n",
      "\n",
      "       trainerName  jockeyName  position  dist  ...          mother  \\\n",
      "0        R G Frost     J Frost         1   NaN  ...  Queen's Parade   \n",
      "1       D H Barons     S Earle         2   NaN  ...      All At Sea   \n",
      "2      J D Roberts  S Burrough         3  25.0  ...    Just Camilla   \n",
      "3  Oliver Sherwood  M Richards         4  45.0  ...      Indictment   \n",
      "4      T B Hallett  P Richards         5  75.0  ...    Shuil Alainn   \n",
      "\n",
      "          gfather  runners    margin  weight res_win res_place avg_position  \\\n",
      "0  Sovereign Path       14  1.521003      69     1.0       1.0     9.103448   \n",
      "1    Man The Rail       14  1.521003      69     0.0       1.0    12.040000   \n",
      "2     Ascertain I       14  1.521003      66     0.0       1.0     6.972222   \n",
      "3     Desert Call       14  1.521003      69     0.0       0.0     5.535714   \n",
      "4        Levanter       14  1.521003      69     0.0       0.0     9.714286   \n",
      "\n",
      "   win_ratio  weight_in_pounds  \n",
      "0        NaN               154  \n",
      "1        NaN               154  \n",
      "2        NaN               147  \n",
      "3        NaN               154  \n",
      "4        NaN               154  \n",
      "\n",
      "[5 rows x 26 columns]\n",
      "      rid  course  time      date  \\\n",
      "0  271018  Exeter   195  90/01/01   \n",
      "1  271018  Exeter   195  90/01/01   \n",
      "2  271018  Exeter   195  90/01/01   \n",
      "3  271018  Exeter   195  90/01/01   \n",
      "4  271018  Exeter   195  90/01/01   \n",
      "\n",
      "                                               title rclass  band  ages  \\\n",
      "0  David Garrett Memorial Challenge Trophy Novice...    NaN   NaN   6.0   \n",
      "1  David Garrett Memorial Challenge Trophy Novice...    NaN   NaN   6.0   \n",
      "2  David Garrett Memorial Challenge Trophy Novice...    NaN   NaN   6.0   \n",
      "3  David Garrett Memorial Challenge Trophy Novice...    NaN   NaN   6.0   \n",
      "4  David Garrett Memorial Challenge Trophy Novice...    NaN   NaN   6.0   \n",
      "\n",
      "   distance condition  ...  metric  countryCode  ncond  class  \\\n",
      "0        25      Soft  ...  5028.0           GB      5      0   \n",
      "1        25      Soft  ...  5028.0           GB      5      0   \n",
      "2        25      Soft  ...  5028.0           GB      5      0   \n",
      "3        25      Soft  ...  5028.0           GB      5      0   \n",
      "4        25      Soft  ...  5028.0           GB      5      0   \n",
      "\n",
      "          horseName avg_position  win_ratio weight_in_pounds  total_races  \\\n",
      "0        Combermere     9.103448        NaN            154.0         29.0   \n",
      "1     Royal Battery    12.040000        NaN            154.0         25.0   \n",
      "2           Just So     6.972222        NaN            147.0         36.0   \n",
      "3  Mandraki Shuffle     5.535714        NaN            154.0         28.0   \n",
      "4    Turnberry Dawn     9.714286        NaN            154.0         21.0   \n",
      "\n",
      "   avg_distance  \n",
      "0     19.275862  \n",
      "1     27.600000  \n",
      "2     27.805556  \n",
      "3     24.000000  \n",
      "4     21.952381  \n",
      "\n",
      "[5 rows x 23 columns]\n",
      "     course  countryCode                marketTime  \\\n",
      "0  Limerick            0 2020-09-11 11:45:00+00:00   \n",
      "1  Limerick            0 2020-09-11 11:45:00+00:00   \n",
      "2  Limerick            0 2020-09-11 11:45:00+00:00   \n",
      "3  Limerick            0 2020-09-11 11:45:00+00:00   \n",
      "4  Limerick            0 2020-09-11 11:45:00+00:00   \n",
      "\n",
      "                                               title  runners  \\\n",
      "0  Irish Stallion Farms EBF Fillies Maiden (Plus ...       14   \n",
      "1  Irish Stallion Farms EBF Fillies Maiden (Plus ...       14   \n",
      "2  Irish Stallion Farms EBF Fillies Maiden (Plus ...       14   \n",
      "3  Irish Stallion Farms EBF Fillies Maiden (Plus ...       14   \n",
      "4  Irish Stallion Farms EBF Fillies Maiden (Plus ...       14   \n",
      "\n",
      "          condition    prize  rclass          horseName    trainerName  ...  \\\n",
      "0  Yielding To Soft  13717.5     NaN  All Down To Rosie  Conor O'Dwyer  ...   \n",
      "1  Yielding To Soft  13717.5     NaN  All Down To Rosie  Conor O'Dwyer  ...   \n",
      "2  Yielding To Soft  13717.5     NaN  All Down To Rosie  Conor O'Dwyer  ...   \n",
      "3  Yielding To Soft  13717.5     NaN  All Down To Rosie  Conor O'Dwyer  ...   \n",
      "4  Yielding To Soft  13717.5     NaN         Colfer Kay     K J Condon  ...   \n",
      "\n",
      "  age  decimalPrice  time_to_race  weight_in_pounds  day_of_week  hour_of_day  \\\n",
      "0   2     50.000000 -1.345439e+08             128.0            4           11   \n",
      "1   2     50.000000 -1.345439e+08             118.0            4           11   \n",
      "2   2     50.000000 -1.345439e+08             118.0            4           11   \n",
      "3   2     50.000000 -1.345439e+08             122.0            4           11   \n",
      "4   2      6.037778 -1.345439e+08             128.0            4           11   \n",
      "\n",
      "   minute_of_day  is_weekend  horse_age_category  weight_per_age  \n",
      "0             45       False               Young            64.0  \n",
      "1             45       False               Young            59.0  \n",
      "2             45       False               Young            59.0  \n",
      "3             45       False               Young            61.0  \n",
      "4             45       False               Young            64.0  \n",
      "\n",
      "[5 rows x 26 columns]\n"
     ]
    }
   ],
   "source": [
    "import pandas as pd\n",
    "import numpy as np\n",
    "from sklearn.preprocessing import MinMaxScaler, LabelEncoder\n",
    "\n",
    "# Load the datasets\n",
    "forward_data = pd.read_csv(\"C:/Users/Elakkiya/Downloads/Horse Race Prediction/forward_cleaned.csv\")\n",
    "races_data = pd.read_csv(\"C:/Users/Elakkiya/Downloads/Horse Race Prediction/races_cleaned.csv\", low_memory=False)\n",
    "horses_data = pd.read_csv(\"C:/Users/Elakkiya/Downloads/Horse Race Prediction/horses_cleaned.csv\")\n",
    "\n",
    "# Convert weight from stones and pounds to pounds\n",
    "def convert_weight_to_pounds(row):\n",
    "    # Assuming weightSt is in stones and weightLb is in pounds\n",
    "    weight_in_pounds = (row['weightSt'] * 14) + row['weightLb']\n",
    "    return weight_in_pounds\n",
    "\n",
    "# Calculate average position and win ratio for horses\n",
    "def calculate_performance_metrics(horses_df):\n",
    "    horses_df['avg_position'] = horses_df.groupby('horseName')['position'].transform('mean')\n",
    "    horses_df['win_ratio'] = horses_df.groupby('horseName')['position'].apply(lambda x: (x == 1).mean())\n",
    "    horses_df['weight_in_pounds'] = horses_df.apply(convert_weight_to_pounds, axis=1)  # Apply weight conversion\n",
    "    return horses_df\n",
    "\n",
    "# Aggregate race features like race distance and total races per horse\n",
    "def race_features(races_df, horses_df):\n",
    "    # Merge race data with horse data\n",
    "    race_horse_data = pd.merge(races_df, horses_df[['rid', 'horseName', 'avg_position', 'win_ratio', 'weight_in_pounds']], on='rid', how='left')\n",
    "    \n",
    "    # Aggregate total races and average distance per horse\n",
    "    race_horse_data['total_races'] = race_horse_data.groupby('horseName')['rid'].transform('count')\n",
    "    race_horse_data['avg_distance'] = race_horse_data.groupby('horseName')['distance'].transform('mean')\n",
    "    return race_horse_data\n",
    "\n",
    "# Handle marketTime feature from forward_data (example of a time-based feature)\n",
    "def process_market_time(forward_df):\n",
    "    # Convert marketTime to UTC (timezone-aware)\n",
    "    forward_df['marketTime'] = pd.to_datetime(forward_df['marketTime'], utc=True)\n",
    "    \n",
    "    # Ensure 'now' is also timezone-aware in UTC\n",
    "    current_time = pd.to_datetime('now', utc=True)\n",
    "    \n",
    "    # Calculate time to race (in seconds)\n",
    "    forward_df['time_to_race'] = (forward_df['marketTime'] - current_time).dt.total_seconds()\n",
    "    \n",
    "    return forward_df\n",
    "\n",
    "# Feature Engineering for forward_data\n",
    "forward_data = process_market_time(forward_data)\n",
    "\n",
    "# Feature Engineering for horses_data\n",
    "horses_data = calculate_performance_metrics(horses_data)\n",
    "\n",
    "# Merge forward_data with horses_data to include weight_in_pounds\n",
    "forward_data = pd.merge(forward_data, horses_data[['horseName', 'weight_in_pounds']], on='horseName', how='left')\n",
    "\n",
    "# Feature Engineering for races_data\n",
    "race_horse_data = race_features(races_data, horses_data)\n",
    "races_data['time_per_distance'] = races_data['winningTime'] / races_data['distance']\n",
    "\n",
    "# Time-related features in forward_data\n",
    "forward_data['day_of_week'] = forward_data['marketTime'].dt.dayofweek\n",
    "forward_data['hour_of_day'] = forward_data['marketTime'].dt.hour\n",
    "forward_data['minute_of_day'] = forward_data['marketTime'].dt.minute\n",
    "forward_data['is_weekend'] = forward_data['marketTime'].dt.weekday >= 5\n",
    "\n",
    "\n",
    "# Horse-specific features in forward_data (added age and weight-related features)\n",
    "forward_data['horse_age_category'] = pd.cut(forward_data['age'], bins=[0, 3, 5, 10, 20], labels=[\"Young\", \"Adult\", \"Old\", \"Very Old\"])\n",
    "forward_data['weight_per_age'] = forward_data['weight_in_pounds'] / forward_data['age']\n",
    "\n",
    "\n",
    "# Display the modified DataFrames\n",
    "print(horses_data.head())\n",
    "print(race_horse_data.head())\n",
    "print(forward_data.head())\n"
   ]
  },
  {
   "cell_type": "code",
   "execution_count": 55,
   "id": "1f906331-f785-4e47-badd-3a9c51e85f60",
   "metadata": {},
   "outputs": [],
   "source": [
    "# Save cleaned data to CSV\n",
    "horse_data_cleaned.to_csv(\"C:/Users/Elakkiya/Downloads/Horse Race Prediction/horses_fe.csv\", index=False)\n",
    "race_data_cleaned.to_csv(\"C:/Users/Elakkiya/Downloads/Horse Race Prediction/races_fe.csv\", index=False)\n",
    "forward_data_cleaned.to_csv(\"C:/Users/Elakkiya/Downloads/Horse Race Prediction/forward_fe.csv\", index=False)\n"
   ]
  },
  {
   "cell_type": "code",
   "execution_count": 10,
   "id": "a4b04e2f-cb8c-40a5-9348-147f249fa2d6",
   "metadata": {},
   "outputs": [
    {
     "name": "stdout",
     "output_type": "stream",
     "text": [
      "      rid         horseName  age  saddle  decimalPrice  isFav  \\\n",
      "0  271018        Combermere  6.0     0.0      0.222222      0   \n",
      "1  271018     Royal Battery  6.0     0.0      0.090909      0   \n",
      "2  271018           Just So  7.0     0.0      0.029412      0   \n",
      "3  271018  Mandraki Shuffle  8.0     0.0      0.090909      0   \n",
      "4  271018    Turnberry Dawn  8.0     0.0      0.047619      0   \n",
      "\n",
      "       trainerName  jockeyName  position  dist  ...       father  \\\n",
      "0        R G Frost     J Frost         1   NaN  ...      Absalom   \n",
      "1       D H Barons     S Earle         2   NaN  ...  Norfolk Air   \n",
      "2      J D Roberts  S Burrough         3  25.0  ...        Sousa   \n",
      "3  Oliver Sherwood  M Richards         4  45.0  ...     Mandalus   \n",
      "4      T B Hallett  P Richards         5  75.0  ...    Fair Turn   \n",
      "\n",
      "           mother         gfather  runners    margin weight res_win res_place  \\\n",
      "0  Queen's Parade  Sovereign Path       14  1.521003     69     1.0       1.0   \n",
      "1      All At Sea    Man The Rail       14  1.521003     69     0.0       1.0   \n",
      "2    Just Camilla     Ascertain I       14  1.521003     66     0.0       1.0   \n",
      "3      Indictment     Desert Call       14  1.521003     69     0.0       0.0   \n",
      "4    Shuil Alainn        Levanter       14  1.521003     69     0.0       0.0   \n",
      "\n",
      "   avg_position  weight_in_pounds  \n",
      "0      9.103448               154  \n",
      "1     12.040000               154  \n",
      "2      6.972222               147  \n",
      "3      5.535714               154  \n",
      "4      9.714286               154  \n",
      "\n",
      "[5 rows x 25 columns]\n",
      "      rid  course  time      date  \\\n",
      "0  271018  Exeter   195  90/01/01   \n",
      "1  271018  Exeter   195  90/01/01   \n",
      "2  271018  Exeter   195  90/01/01   \n",
      "3  271018  Exeter   195  90/01/01   \n",
      "4  271018  Exeter   195  90/01/01   \n",
      "\n",
      "                                               title rclass  band  ages  \\\n",
      "0  David Garrett Memorial Challenge Trophy Novice...    NaN   NaN   6.0   \n",
      "1  David Garrett Memorial Challenge Trophy Novice...    NaN   NaN   6.0   \n",
      "2  David Garrett Memorial Challenge Trophy Novice...    NaN   NaN   6.0   \n",
      "3  David Garrett Memorial Challenge Trophy Novice...    NaN   NaN   6.0   \n",
      "4  David Garrett Memorial Challenge Trophy Novice...    NaN   NaN   6.0   \n",
      "\n",
      "   distance condition  ...   prize  metric  countryCode  ncond class  \\\n",
      "0        25      Soft  ...  4409.0  5028.0           GB      5     0   \n",
      "1        25      Soft  ...  4409.0  5028.0           GB      5     0   \n",
      "2        25      Soft  ...  4409.0  5028.0           GB      5     0   \n",
      "3        25      Soft  ...  4409.0  5028.0           GB      5     0   \n",
      "4        25      Soft  ...  4409.0  5028.0           GB      5     0   \n",
      "\n",
      "          horseName  avg_position weight_in_pounds  total_races  avg_distance  \n",
      "0        Combermere      9.103448            154.0         29.0     19.275862  \n",
      "1     Royal Battery     12.040000            154.0         25.0     27.600000  \n",
      "2           Just So      6.972222            147.0         36.0     27.805556  \n",
      "3  Mandraki Shuffle      5.535714            154.0         28.0     24.000000  \n",
      "4    Turnberry Dawn      9.714286            154.0         21.0     21.952381  \n",
      "\n",
      "[5 rows x 22 columns]\n",
      "     course  countryCode                marketTime  \\\n",
      "0  Limerick            0 2020-09-11 11:45:00+00:00   \n",
      "1  Limerick            0 2020-09-11 11:45:00+00:00   \n",
      "2  Limerick            0 2020-09-11 11:45:00+00:00   \n",
      "3  Limerick            0 2020-09-11 11:45:00+00:00   \n",
      "4  Limerick            0 2020-09-11 11:45:00+00:00   \n",
      "\n",
      "                                               title  runners  \\\n",
      "0  Irish Stallion Farms EBF Fillies Maiden (Plus ...       14   \n",
      "1  Irish Stallion Farms EBF Fillies Maiden (Plus ...       14   \n",
      "2  Irish Stallion Farms EBF Fillies Maiden (Plus ...       14   \n",
      "3  Irish Stallion Farms EBF Fillies Maiden (Plus ...       14   \n",
      "4  Irish Stallion Farms EBF Fillies Maiden (Plus ...       14   \n",
      "\n",
      "          condition    prize  rclass          horseName    trainerName  ...  \\\n",
      "0  Yielding To Soft  13717.5     NaN  All Down To Rosie  Conor O'Dwyer  ...   \n",
      "1  Yielding To Soft  13717.5     NaN  All Down To Rosie  Conor O'Dwyer  ...   \n",
      "2  Yielding To Soft  13717.5     NaN  All Down To Rosie  Conor O'Dwyer  ...   \n",
      "3  Yielding To Soft  13717.5     NaN  All Down To Rosie  Conor O'Dwyer  ...   \n",
      "4  Yielding To Soft  13717.5     NaN         Colfer Kay     K J Condon  ...   \n",
      "\n",
      "  age  decimalPrice  time_to_race  weight_in_pounds  day_of_week  hour_of_day  \\\n",
      "0   2     50.000000 -1.345978e+08             128.0            4           11   \n",
      "1   2     50.000000 -1.345978e+08             118.0            4           11   \n",
      "2   2     50.000000 -1.345978e+08             118.0            4           11   \n",
      "3   2     50.000000 -1.345978e+08             122.0            4           11   \n",
      "4   2      6.037778 -1.345978e+08             128.0            4           11   \n",
      "\n",
      "   minute_of_day  is_weekend  horse_age_category  weight_per_age  \n",
      "0             45       False               Young            64.0  \n",
      "1             45       False               Young            59.0  \n",
      "2             45       False               Young            59.0  \n",
      "3             45       False               Young            61.0  \n",
      "4             45       False               Young            64.0  \n",
      "\n",
      "[5 rows x 26 columns]\n"
     ]
    }
   ],
   "source": [
    "import pandas as pd\n",
    "import numpy as np\n",
    "from sklearn.preprocessing import MinMaxScaler, LabelEncoder\n",
    "\n",
    "# Load the datasets\n",
    "forward_data = pd.read_csv(\"C:/Users/Elakkiya/Downloads/Horse Race Prediction/forward_cleaned.csv\")\n",
    "races_data = pd.read_csv(\"C:/Users/Elakkiya/Downloads/Horse Race Prediction/races_cleaned.csv\", low_memory=False)\n",
    "horses_data = pd.read_csv(\"C:/Users/Elakkiya/Downloads/Horse Race Prediction/horses_cleaned.csv\")\n",
    "\n",
    "# Convert weight from stones and pounds to pounds\n",
    "def convert_weight_to_pounds(row):\n",
    "    weight_in_pounds = (row['weightSt'] * 14) + row['weightLb']\n",
    "    return weight_in_pounds\n",
    "\n",
    "# Calculate average position and win ratio for horses\n",
    "def calculate_performance_metrics(horses_df):\n",
    "    # Filter out rows where position is NaN or not a number\n",
    "    horses_df = horses_df[pd.to_numeric(horses_df['position'], errors='coerce').notnull()]\n",
    "    horses_df['position'] = horses_df['position'].astype(int)\n",
    "\n",
    "    # Calculate average position\n",
    "    horses_df['avg_position'] = horses_df.groupby('horseName')['position'].transform('mean')\n",
    "    \n",
    "      \n",
    "    horses_df['weight_in_pounds'] = horses_df.apply(convert_weight_to_pounds, axis=1)  # Apply weight conversion\n",
    "    return horses_df\n",
    "\n",
    "# Aggregate race features like race distance and total races per horse\n",
    "def race_features(races_df, horses_df):\n",
    "    race_horse_data = pd.merge(races_df, horses_df[['rid', 'horseName', 'avg_position', 'weight_in_pounds']], on='rid', how='left')\n",
    "    race_horse_data['total_races'] = race_horse_data.groupby('horseName')['rid'].transform('count')\n",
    "    race_horse_data['avg_distance'] = race_horse_data.groupby('horseName')['distance'].transform('mean')\n",
    "    return race_horse_data\n",
    "\n",
    "# Handle marketTime feature from forward_data (example of a time-based feature)\n",
    "def process_market_time(forward_df):\n",
    "    forward_df['marketTime'] = pd.to_datetime(forward_df['marketTime'], utc=True)\n",
    "    current_time = pd.to_datetime('now', utc=True)\n",
    "    forward_df['time_to_race'] = (forward_df['marketTime'] - current_time).dt.total_seconds()\n",
    "    return forward_df\n",
    "\n",
    "# Feature Engineering for forward_data\n",
    "forward_data = process_market_time(forward_data)\n",
    "\n",
    "# Feature Engineering for horses_data\n",
    "horses_data = calculate_performance_metrics(horses_data)\n",
    "\n",
    "# Merge forward_data with horses_data to include weight_in_pounds\n",
    "forward_data = pd.merge(forward_data, horses_data[['horseName', 'weight_in_pounds']], on='horseName', how='left')\n",
    "\n",
    "# Feature Engineering for races_data\n",
    "race_horse_data = race_features(races_data, horses_data)\n",
    "races_data['time_per_distance'] = races_data['winningTime'] / races_data['distance']\n",
    "\n",
    "# Time-related features in forward_data\n",
    "forward_data['day_of_week'] = forward_data['marketTime'].dt.dayofweek\n",
    "forward_data['hour_of_day'] = forward_data['marketTime'].dt.hour\n",
    "forward_data['minute_of_day'] = forward_data['marketTime'].dt.minute\n",
    "forward_data['is_weekend'] = forward_data['marketTime'].dt.weekday >= 5\n",
    "\n",
    "# Horse-specific features in forward_data (added age and weight-related features)\n",
    "forward_data['horse_age_category'] = pd.cut(forward_data['age'], bins=[0, 3, 5, 10, 20], labels=[\"Young\", \"Adult\", \"Old\", \"Very Old\"], include_lowest=True)\n",
    "forward_data['weight_per_age'] = forward_data['weight_in_pounds'] / forward_data['age']\n",
    "\n",
    "# Save the DataFrames to CSV files\n",
    "forward_data.to_csv(r\"C:\\Users\\Elakkiya\\Downloads\\Horse Race Prediction\\forward_processed.csv\", index=False)\n",
    "horses_data.to_csv(r\"C:\\Users\\Elakkiya\\Downloads\\Horse Race Prediction\\horses_processed.csv\", index=False)\n",
    "race_horse_data.to_csv(r\"C:\\Users\\Elakkiya\\Downloads\\Horse Race Prediction\\race_horse_processed.csv\", index=False)\n",
    "\n",
    "# Display the modified DataFrames\n",
    "print(horses_data.head())\n",
    "print(race_horse_data.head())\n",
    "print(forward_data.head())\n"
   ]
  },
  {
   "cell_type": "code",
   "execution_count": 4,
   "id": "fa0e4cf9-206a-498f-ad36-23f5835a4af4",
   "metadata": {},
   "outputs": [
    {
     "name": "stdout",
     "output_type": "stream",
     "text": [
      "Missing values in forward_data_imputed_full:\n",
      " course                0\n",
      "marketTime            0\n",
      "title                 0\n",
      "condition             0\n",
      "horseName             0\n",
      "trainerName           0\n",
      "jockeyName            0\n",
      "is_weekend            0\n",
      "horse_age_category    0\n",
      "countryCode           0\n",
      "runners               0\n",
      "prize                 0\n",
      "rclass                0\n",
      "RPRc                  0\n",
      "TRc                   0\n",
      "OR                    0\n",
      "weightSt              0\n",
      "weightLb              0\n",
      "age                   0\n",
      "decimalPrice          0\n",
      "time_to_race          0\n",
      "weight_in_pounds      0\n",
      "day_of_week           0\n",
      "hour_of_day           0\n",
      "minute_of_day         0\n",
      "weight_per_age        0\n",
      "dtype: int64\n",
      "Missing values in races_data_imputed_full:\n",
      " horseName           0\n",
      "trainerName         0\n",
      "jockeyName          0\n",
      "dist                0\n",
      "father              0\n",
      "mother              0\n",
      "gfather             0\n",
      "rid                 0\n",
      "age                 0\n",
      "saddle              0\n",
      "decimalPrice        0\n",
      "isFav               0\n",
      "position            0\n",
      "weightSt            0\n",
      "weightLb            0\n",
      "RPR                 0\n",
      "TR                  0\n",
      "OR                  0\n",
      "runners             0\n",
      "margin              0\n",
      "weight              0\n",
      "res_win             0\n",
      "res_place           0\n",
      "avg_position        0\n",
      "weight_in_pounds    0\n",
      "dtype: int64\n",
      "Missing values in horses_data_imputed_full:\n",
      " course              0\n",
      "date                0\n",
      "title               0\n",
      "rclass              0\n",
      "condition           0\n",
      "countryCode         0\n",
      "ncond               0\n",
      "horseName           0\n",
      "rid                 0\n",
      "time                0\n",
      "band                0\n",
      "ages                0\n",
      "distance            0\n",
      "hurdles             0\n",
      "winningTime         0\n",
      "prize               0\n",
      "metric              0\n",
      "class               0\n",
      "avg_position        0\n",
      "weight_in_pounds    0\n",
      "total_races         0\n",
      "avg_distance        0\n",
      "dtype: int64\n",
      "Missing values in categorical columns have been removed, and numerical values have been imputed. Both have been saved!\n"
     ]
    }
   ],
   "source": [
    "import pandas as pd\n",
    "from sklearn.experimental import enable_iterative_imputer  # Required for IterativeImputer\n",
    "from sklearn.impute import IterativeImputer\n",
    "\n",
    "# Load the datasets\n",
    "forward_data = pd.read_csv(r\"C:\\Users\\Elakkiya\\Downloads\\Horse Race Prediction\\forward_processed.csv\",low_memory=False)\n",
    "races_data = pd.read_csv(r\"C:\\Users\\Elakkiya\\Downloads\\Horse Race Prediction\\horses_processed.csv\",low_memory=False)\n",
    "horses_data = pd.read_csv(r\"C:\\Users\\Elakkiya\\Downloads\\Horse Race Prediction\\race_horse_processed.csv\",low_memory=False)\n",
    "\n",
    "# Remove rows with missing values in categorical columns (non-numeric)\n",
    "forward_data = forward_data.dropna(subset=forward_data.select_dtypes(exclude=['float64', 'int64']).columns)\n",
    "races_data = races_data.dropna(subset=races_data.select_dtypes(exclude=['float64', 'int64']).columns)\n",
    "horses_data = horses_data.dropna(subset=horses_data.select_dtypes(exclude=['float64', 'int64']).columns)\n",
    "\n",
    "# Initialize the IterativeImputer\n",
    "imputer = IterativeImputer(max_iter=10, random_state=0)\n",
    "\n",
    "# Apply the imputer to fill missing values in numerical columns\n",
    "forward_data_imputed = imputer.fit_transform(forward_data.select_dtypes(include=['float64', 'int64']))\n",
    "races_data_imputed = imputer.fit_transform(races_data.select_dtypes(include=['float64', 'int64']))\n",
    "horses_data_imputed = imputer.fit_transform(horses_data.select_dtypes(include=['float64', 'int64']))\n",
    "\n",
    "# Convert the imputed arrays back to DataFrames\n",
    "forward_data_imputed = pd.DataFrame(forward_data_imputed, columns=forward_data.select_dtypes(include=['float64', 'int64']).columns)\n",
    "races_data_imputed = pd.DataFrame(races_data_imputed, columns=races_data.select_dtypes(include=['float64', 'int64']).columns)\n",
    "horses_data_imputed = pd.DataFrame(horses_data_imputed, columns=horses_data.select_dtypes(include=['float64', 'int64']).columns)\n",
    "\n",
    "# Merge the imputed numerical data with the original categorical columns\n",
    "forward_data_imputed_full = pd.concat([forward_data.select_dtypes(exclude=['float64', 'int64']).reset_index(drop=True), forward_data_imputed], axis=1)\n",
    "races_data_imputed_full = pd.concat([races_data.select_dtypes(exclude=['float64', 'int64']).reset_index(drop=True), races_data_imputed], axis=1)\n",
    "horses_data_imputed_full = pd.concat([horses_data.select_dtypes(exclude=['float64', 'int64']).reset_index(drop=True), horses_data_imputed], axis=1)\n",
    "\n",
    "# Check for any remaining missing values in the final DataFrames\n",
    "print(\"Missing values in forward_data_imputed_full:\\n\", forward_data_imputed_full.isnull().sum())\n",
    "print(\"Missing values in races_data_imputed_full:\\n\", races_data_imputed_full.isnull().sum())\n",
    "print(\"Missing values in horses_data_imputed_full:\\n\", horses_data_imputed_full.isnull().sum())\n",
    "\n",
    "# Save the imputed data to CSV\n",
    "forward_data_imputed_full.to_csv(\"C:/Users/Elakkiya/Downloads/Horse Race Prediction/forward_imputed.csv\", index=False)\n",
    "races_data_imputed_full.to_csv(\"C:/Users/Elakkiya/Downloads/Horse Race Prediction/race_horse_imputed.csv\", index=False)\n",
    "horses_data_imputed_full.to_csv(\"C:/Users/Elakkiya/Downloads/Horse Race Prediction/horses_imputed.csv\", index=False)\n",
    "\n",
    "print(\"Missing values in categorical columns have been removed, and numerical values have been imputed. Both have been saved!\")\n"
   ]
  },
  {
   "cell_type": "code",
   "execution_count": 6,
   "id": "42bb91c4-5405-4cbc-9cbe-1351e4df1240",
   "metadata": {},
   "outputs": [],
   "source": [
    "import pandas as pd\n",
    "from sklearn.preprocessing import LabelEncoder, StandardScaler\n",
    "\n",
    "# Load your datasets\n",
    "horses_data_imputed_full = pd.read_csv(\"C:/Users/Elakkiya/Downloads/Horse Race Prediction/horses_imputed.csv\",low_memory=False)\n",
    "races_data = pd.read_csv(\"C:/Users/Elakkiya/Downloads/Horse Race Prediction/race_horse_imputed.csv\",low_memory=False)\n",
    "\n",
    "# Define the function for encoding categorical variables\n",
    "def encode_categorical_columns(df):\n",
    "    categorical_columns = df.select_dtypes(include=['object']).columns\n",
    "    le = LabelEncoder()\n",
    "\n",
    "    # Apply LabelEncoder to each categorical column with top 20 categories\n",
    "    for col in categorical_columns:\n",
    "        # Get the top 20 categories based on frequency\n",
    "        top_20_categories = df[col].value_counts().nlargest(20).index\n",
    "        \n",
    "        # Replace categories not in top 20 with 'Other'\n",
    "        df[col] = df[col].apply(lambda x: x if x in top_20_categories else 'Other')\n",
    "\n",
    "        # Encode the categories\n",
    "        df[col] = le.fit_transform(df[col])\n",
    "\n",
    "    return df\n",
    "\n",
    "# Define the function for scaling numerical columns\n",
    "def scale_numerical_columns(df):\n",
    "    numerical_columns = df.select_dtypes(include=['float64', 'int64']).columns\n",
    "    scaler = StandardScaler()\n",
    "\n",
    "    # Apply StandardScaler to each numerical column\n",
    "    df[numerical_columns] = scaler.fit_transform(df[numerical_columns])\n",
    "\n",
    "    return df\n",
    "\n",
    "# Encode categorical columns (top 20 categories) and scale numerical columns\n",
    "encoded_horses_data = encode_categorical_columns(horses_data_imputed_full)\n",
    "encoded_races_data = encode_categorical_columns(races_data)\n",
    "\n",
    "encoded_horses_data = scale_numerical_columns(encoded_horses_data)\n",
    "encoded_races_data = scale_numerical_columns(encoded_races_data)\n",
    "\n",
    "# Save the encoded and scaled datasets\n",
    "encoded_horses_data.to_csv(\"C:/Users/Elakkiya/Downloads/Horse Race Prediction/encoded_horses_data.csv\", index=False)\n",
    "encoded_races_data.to_csv(\"C:/Users/Elakkiya/Downloads/Horse Race Prediction/encoded_races_data.csv\", index=False)\n",
    "\n"
   ]
  },
  {
   "cell_type": "code",
   "execution_count": 3,
   "id": "51df8910-a9db-4ccb-9d3c-bc30a634f053",
   "metadata": {},
   "outputs": [
    {
     "name": "stdout",
     "output_type": "stream",
     "text": [
      "  course      date                                             title   rclass  \\\n",
      "0  Epsom  90/06/06  Ever Ready Derby (Group 1) 3YO Colts And Fillies  Class 1   \n",
      "1  Epsom  90/06/06  Ever Ready Derby (Group 1) 3YO Colts And Fillies  Class 1   \n",
      "2  Epsom  90/06/06  Ever Ready Derby (Group 1) 3YO Colts And Fillies  Class 1   \n",
      "3  Epsom  90/06/06  Ever Ready Derby (Group 1) 3YO Colts And Fillies  Class 1   \n",
      "4  Epsom  90/06/06  Ever Ready Derby (Group 1) 3YO Colts And Fillies  Class 1   \n",
      "\n",
      "  condition countryCode ncond     horseName_x       rid   time  ...    RPR  \\\n",
      "0      Good          GB     1  Quest For Fame  305728.0  225.0  ...  119.0   \n",
      "1      Good          GB     1  Quest For Fame  305728.0  225.0  ...  115.0   \n",
      "2      Good          GB     1  Quest For Fame  305728.0  225.0  ...  112.0   \n",
      "3      Good          GB     1  Quest For Fame  305728.0  225.0  ...  112.0   \n",
      "4      Good          GB     1  Quest For Fame  305728.0  225.0  ...  111.0   \n",
      "\n",
      "      TR          OR  runners    margin  weight  res_win  res_place  \\\n",
      "0  102.0   97.701727     18.0  1.151942    57.0      0.0        1.0   \n",
      "1   98.0   96.586603     18.0  1.151942    57.0      0.0        1.0   \n",
      "2   95.0   98.227318     18.0  1.151942    57.0      0.0        0.0   \n",
      "3   95.0  100.376687     18.0  1.151942    57.0      0.0        0.0   \n",
      "4   95.0  102.473869     18.0  1.151942    57.0      0.0        0.0   \n",
      "\n",
      "   avg_position_y  weight_in_pounds_y  \n",
      "0        2.625000               126.0  \n",
      "1        5.000000               126.0  \n",
      "2        4.526316               126.0  \n",
      "3        4.111111               126.0  \n",
      "4        3.928571               126.0  \n",
      "\n",
      "[5 rows x 46 columns]\n"
     ]
    }
   ],
   "source": [
    "\n",
    "import pandas as pd\n",
    "#Save the encoded and scaled datasets\n",
    "horses_data=pd.read_csv(r\"C:\\Users\\Elakkiya\\Downloads\\Horse Race Prediction\\horses_imputed.csv\",low_memory=False)\n",
    "races_data=pd.read_csv(r\"C:\\Users\\Elakkiya\\Downloads\\Horse Race Prediction\\race_horse_imputed.csv\",low_memory=False)\n",
    "\n",
    "# Now, merge the datasets on 'rid'\n",
    "final_merged_data = pd.merge(horses_data,races_data, on='rid', how='inner')\n",
    "\n",
    "# Save the final merged dataset\n",
    "final_merged_data.to_csv(\"C:/Users/Elakkiya/Downloads/Horse Race Prediction/final_merged_data.csv\", index=False)\n",
    "\n",
    "# Display the final merged data\n",
    "print(final_merged_data.head())\n"
   ]
  },
  {
   "cell_type": "code",
   "execution_count": null,
   "id": "5b73c212-55fe-45b7-8809-afad9c55ce59",
   "metadata": {},
   "outputs": [
    {
     "name": "stderr",
     "output_type": "stream",
     "text": [
      "C:\\Users\\Elakkiya\\AppData\\Local\\Temp\\ipykernel_13232\\2303596474.py:44: DtypeWarning: Columns (25) have mixed types. Specify dtype option on import or set low_memory=False.\n",
      "  reduced_chunks = [reduce_memory_usage(chunk) for chunk in chunks]\n"
     ]
    },
    {
     "name": "stdout",
     "output_type": "stream",
     "text": [
      "Memory usage of dataframe is 17.55 MB\n",
      "Memory usage after optimization is: 8.54 MB\n",
      "Decreased by 51.4%\n"
     ]
    },
    {
     "name": "stderr",
     "output_type": "stream",
     "text": [
      "C:\\Users\\Elakkiya\\AppData\\Local\\Temp\\ipykernel_13232\\2303596474.py:44: DtypeWarning: Columns (6,25) have mixed types. Specify dtype option on import or set low_memory=False.\n",
      "  reduced_chunks = [reduce_memory_usage(chunk) for chunk in chunks]\n"
     ]
    },
    {
     "name": "stdout",
     "output_type": "stream",
     "text": [
      "Memory usage of dataframe is 17.55 MB\n",
      "Memory usage after optimization is: 8.87 MB\n",
      "Decreased by 49.5%\n"
     ]
    },
    {
     "name": "stderr",
     "output_type": "stream",
     "text": [
      "C:\\Users\\Elakkiya\\AppData\\Local\\Temp\\ipykernel_13232\\2303596474.py:44: DtypeWarning: Columns (6,25) have mixed types. Specify dtype option on import or set low_memory=False.\n",
      "  reduced_chunks = [reduce_memory_usage(chunk) for chunk in chunks]\n"
     ]
    },
    {
     "name": "stdout",
     "output_type": "stream",
     "text": [
      "Memory usage of dataframe is 17.55 MB\n",
      "Memory usage after optimization is: 8.87 MB\n",
      "Decreased by 49.5%\n"
     ]
    },
    {
     "name": "stderr",
     "output_type": "stream",
     "text": [
      "C:\\Users\\Elakkiya\\AppData\\Local\\Temp\\ipykernel_13232\\2303596474.py:44: DtypeWarning: Columns (25) have mixed types. Specify dtype option on import or set low_memory=False.\n",
      "  reduced_chunks = [reduce_memory_usage(chunk) for chunk in chunks]\n"
     ]
    },
    {
     "name": "stdout",
     "output_type": "stream",
     "text": [
      "Memory usage of dataframe is 17.55 MB\n",
      "Memory usage after optimization is: 8.54 MB\n",
      "Decreased by 51.4%\n"
     ]
    },
    {
     "name": "stderr",
     "output_type": "stream",
     "text": [
      "C:\\Users\\Elakkiya\\AppData\\Local\\Temp\\ipykernel_13232\\2303596474.py:44: DtypeWarning: Columns (25) have mixed types. Specify dtype option on import or set low_memory=False.\n",
      "  reduced_chunks = [reduce_memory_usage(chunk) for chunk in chunks]\n"
     ]
    },
    {
     "name": "stdout",
     "output_type": "stream",
     "text": [
      "Memory usage of dataframe is 17.55 MB\n",
      "Memory usage after optimization is: 8.54 MB\n",
      "Decreased by 51.4%\n"
     ]
    },
    {
     "name": "stderr",
     "output_type": "stream",
     "text": [
      "C:\\Users\\Elakkiya\\AppData\\Local\\Temp\\ipykernel_13232\\2303596474.py:44: DtypeWarning: Columns (6,25) have mixed types. Specify dtype option on import or set low_memory=False.\n",
      "  reduced_chunks = [reduce_memory_usage(chunk) for chunk in chunks]\n"
     ]
    },
    {
     "name": "stdout",
     "output_type": "stream",
     "text": [
      "Memory usage of dataframe is 17.55 MB\n",
      "Memory usage after optimization is: 8.87 MB\n",
      "Decreased by 49.5%\n"
     ]
    },
    {
     "name": "stderr",
     "output_type": "stream",
     "text": [
      "C:\\Users\\Elakkiya\\AppData\\Local\\Temp\\ipykernel_13232\\2303596474.py:44: DtypeWarning: Columns (25) have mixed types. Specify dtype option on import or set low_memory=False.\n",
      "  reduced_chunks = [reduce_memory_usage(chunk) for chunk in chunks]\n"
     ]
    },
    {
     "name": "stdout",
     "output_type": "stream",
     "text": [
      "Memory usage of dataframe is 17.55 MB\n",
      "Memory usage after optimization is: 8.54 MB\n",
      "Decreased by 51.4%\n"
     ]
    },
    {
     "name": "stderr",
     "output_type": "stream",
     "text": [
      "C:\\Users\\Elakkiya\\AppData\\Local\\Temp\\ipykernel_13232\\2303596474.py:44: DtypeWarning: Columns (25) have mixed types. Specify dtype option on import or set low_memory=False.\n",
      "  reduced_chunks = [reduce_memory_usage(chunk) for chunk in chunks]\n"
     ]
    },
    {
     "name": "stdout",
     "output_type": "stream",
     "text": [
      "Memory usage of dataframe is 17.55 MB\n",
      "Memory usage after optimization is: 8.54 MB\n",
      "Decreased by 51.4%\n"
     ]
    },
    {
     "name": "stderr",
     "output_type": "stream",
     "text": [
      "C:\\Users\\Elakkiya\\AppData\\Local\\Temp\\ipykernel_13232\\2303596474.py:44: DtypeWarning: Columns (25) have mixed types. Specify dtype option on import or set low_memory=False.\n",
      "  reduced_chunks = [reduce_memory_usage(chunk) for chunk in chunks]\n"
     ]
    },
    {
     "name": "stdout",
     "output_type": "stream",
     "text": [
      "Memory usage of dataframe is 17.55 MB\n",
      "Memory usage after optimization is: 8.54 MB\n",
      "Decreased by 51.4%\n"
     ]
    },
    {
     "name": "stderr",
     "output_type": "stream",
     "text": [
      "C:\\Users\\Elakkiya\\AppData\\Local\\Temp\\ipykernel_13232\\2303596474.py:44: DtypeWarning: Columns (25) have mixed types. Specify dtype option on import or set low_memory=False.\n",
      "  reduced_chunks = [reduce_memory_usage(chunk) for chunk in chunks]\n"
     ]
    },
    {
     "name": "stdout",
     "output_type": "stream",
     "text": [
      "Memory usage of dataframe is 17.55 MB\n",
      "Memory usage after optimization is: 8.54 MB\n",
      "Decreased by 51.4%\n"
     ]
    },
    {
     "name": "stderr",
     "output_type": "stream",
     "text": [
      "C:\\Users\\Elakkiya\\AppData\\Local\\Temp\\ipykernel_13232\\2303596474.py:44: DtypeWarning: Columns (6) have mixed types. Specify dtype option on import or set low_memory=False.\n",
      "  reduced_chunks = [reduce_memory_usage(chunk) for chunk in chunks]\n"
     ]
    },
    {
     "name": "stdout",
     "output_type": "stream",
     "text": [
      "Memory usage of dataframe is 17.55 MB\n",
      "Memory usage after optimization is: 8.87 MB\n",
      "Decreased by 49.5%\n"
     ]
    },
    {
     "name": "stderr",
     "output_type": "stream",
     "text": [
      "C:\\Users\\Elakkiya\\AppData\\Local\\Temp\\ipykernel_13232\\2303596474.py:44: DtypeWarning: Columns (6,25) have mixed types. Specify dtype option on import or set low_memory=False.\n",
      "  reduced_chunks = [reduce_memory_usage(chunk) for chunk in chunks]\n"
     ]
    },
    {
     "name": "stdout",
     "output_type": "stream",
     "text": [
      "Memory usage of dataframe is 17.55 MB\n",
      "Memory usage after optimization is: 8.87 MB\n",
      "Decreased by 49.5%\n"
     ]
    },
    {
     "name": "stderr",
     "output_type": "stream",
     "text": [
      "C:\\Users\\Elakkiya\\AppData\\Local\\Temp\\ipykernel_13232\\2303596474.py:44: DtypeWarning: Columns (25) have mixed types. Specify dtype option on import or set low_memory=False.\n",
      "  reduced_chunks = [reduce_memory_usage(chunk) for chunk in chunks]\n"
     ]
    },
    {
     "name": "stdout",
     "output_type": "stream",
     "text": [
      "Memory usage of dataframe is 17.55 MB\n",
      "Memory usage after optimization is: 8.54 MB\n",
      "Decreased by 51.4%\n"
     ]
    },
    {
     "name": "stderr",
     "output_type": "stream",
     "text": [
      "C:\\Users\\Elakkiya\\AppData\\Local\\Temp\\ipykernel_13232\\2303596474.py:44: DtypeWarning: Columns (25) have mixed types. Specify dtype option on import or set low_memory=False.\n",
      "  reduced_chunks = [reduce_memory_usage(chunk) for chunk in chunks]\n"
     ]
    },
    {
     "name": "stdout",
     "output_type": "stream",
     "text": [
      "Memory usage of dataframe is 17.55 MB\n",
      "Memory usage after optimization is: 8.54 MB\n",
      "Decreased by 51.4%\n"
     ]
    },
    {
     "name": "stderr",
     "output_type": "stream",
     "text": [
      "C:\\Users\\Elakkiya\\AppData\\Local\\Temp\\ipykernel_13232\\2303596474.py:44: DtypeWarning: Columns (25) have mixed types. Specify dtype option on import or set low_memory=False.\n",
      "  reduced_chunks = [reduce_memory_usage(chunk) for chunk in chunks]\n"
     ]
    },
    {
     "name": "stdout",
     "output_type": "stream",
     "text": [
      "Memory usage of dataframe is 17.55 MB\n",
      "Memory usage after optimization is: 8.54 MB\n",
      "Decreased by 51.4%\n"
     ]
    },
    {
     "name": "stderr",
     "output_type": "stream",
     "text": [
      "C:\\Users\\Elakkiya\\AppData\\Local\\Temp\\ipykernel_13232\\2303596474.py:44: DtypeWarning: Columns (25) have mixed types. Specify dtype option on import or set low_memory=False.\n",
      "  reduced_chunks = [reduce_memory_usage(chunk) for chunk in chunks]\n"
     ]
    },
    {
     "name": "stdout",
     "output_type": "stream",
     "text": [
      "Memory usage of dataframe is 17.55 MB\n",
      "Memory usage after optimization is: 8.54 MB\n",
      "Decreased by 51.4%\n"
     ]
    },
    {
     "name": "stderr",
     "output_type": "stream",
     "text": [
      "C:\\Users\\Elakkiya\\AppData\\Local\\Temp\\ipykernel_13232\\2303596474.py:44: DtypeWarning: Columns (25) have mixed types. Specify dtype option on import or set low_memory=False.\n",
      "  reduced_chunks = [reduce_memory_usage(chunk) for chunk in chunks]\n"
     ]
    },
    {
     "name": "stdout",
     "output_type": "stream",
     "text": [
      "Memory usage of dataframe is 17.55 MB\n",
      "Memory usage after optimization is: 8.54 MB\n",
      "Decreased by 51.4%\n"
     ]
    },
    {
     "name": "stderr",
     "output_type": "stream",
     "text": [
      "C:\\Users\\Elakkiya\\AppData\\Local\\Temp\\ipykernel_13232\\2303596474.py:44: DtypeWarning: Columns (25) have mixed types. Specify dtype option on import or set low_memory=False.\n",
      "  reduced_chunks = [reduce_memory_usage(chunk) for chunk in chunks]\n"
     ]
    },
    {
     "name": "stdout",
     "output_type": "stream",
     "text": [
      "Memory usage of dataframe is 17.55 MB\n",
      "Memory usage after optimization is: 8.54 MB\n",
      "Decreased by 51.4%\n"
     ]
    },
    {
     "name": "stderr",
     "output_type": "stream",
     "text": [
      "C:\\Users\\Elakkiya\\AppData\\Local\\Temp\\ipykernel_13232\\2303596474.py:44: DtypeWarning: Columns (25) have mixed types. Specify dtype option on import or set low_memory=False.\n",
      "  reduced_chunks = [reduce_memory_usage(chunk) for chunk in chunks]\n"
     ]
    },
    {
     "name": "stdout",
     "output_type": "stream",
     "text": [
      "Memory usage of dataframe is 17.55 MB\n",
      "Memory usage after optimization is: 8.54 MB\n",
      "Decreased by 51.4%\n"
     ]
    },
    {
     "name": "stderr",
     "output_type": "stream",
     "text": [
      "C:\\Users\\Elakkiya\\AppData\\Local\\Temp\\ipykernel_13232\\2303596474.py:44: DtypeWarning: Columns (25) have mixed types. Specify dtype option on import or set low_memory=False.\n",
      "  reduced_chunks = [reduce_memory_usage(chunk) for chunk in chunks]\n"
     ]
    },
    {
     "name": "stdout",
     "output_type": "stream",
     "text": [
      "Memory usage of dataframe is 17.55 MB\n",
      "Memory usage after optimization is: 8.54 MB\n",
      "Decreased by 51.4%\n"
     ]
    },
    {
     "name": "stderr",
     "output_type": "stream",
     "text": [
      "C:\\Users\\Elakkiya\\AppData\\Local\\Temp\\ipykernel_13232\\2303596474.py:44: DtypeWarning: Columns (25) have mixed types. Specify dtype option on import or set low_memory=False.\n",
      "  reduced_chunks = [reduce_memory_usage(chunk) for chunk in chunks]\n"
     ]
    },
    {
     "name": "stdout",
     "output_type": "stream",
     "text": [
      "Memory usage of dataframe is 17.55 MB\n",
      "Memory usage after optimization is: 8.54 MB\n",
      "Decreased by 51.4%\n"
     ]
    },
    {
     "name": "stderr",
     "output_type": "stream",
     "text": [
      "C:\\Users\\Elakkiya\\AppData\\Local\\Temp\\ipykernel_13232\\2303596474.py:44: DtypeWarning: Columns (25) have mixed types. Specify dtype option on import or set low_memory=False.\n",
      "  reduced_chunks = [reduce_memory_usage(chunk) for chunk in chunks]\n"
     ]
    },
    {
     "name": "stdout",
     "output_type": "stream",
     "text": [
      "Memory usage of dataframe is 17.55 MB\n",
      "Memory usage after optimization is: 8.54 MB\n",
      "Decreased by 51.4%\n"
     ]
    },
    {
     "name": "stderr",
     "output_type": "stream",
     "text": [
      "C:\\Users\\Elakkiya\\AppData\\Local\\Temp\\ipykernel_13232\\2303596474.py:44: DtypeWarning: Columns (25) have mixed types. Specify dtype option on import or set low_memory=False.\n",
      "  reduced_chunks = [reduce_memory_usage(chunk) for chunk in chunks]\n"
     ]
    },
    {
     "name": "stdout",
     "output_type": "stream",
     "text": [
      "Memory usage of dataframe is 17.55 MB\n",
      "Memory usage after optimization is: 8.54 MB\n",
      "Decreased by 51.4%\n"
     ]
    },
    {
     "name": "stderr",
     "output_type": "stream",
     "text": [
      "C:\\Users\\Elakkiya\\AppData\\Local\\Temp\\ipykernel_13232\\2303596474.py:44: DtypeWarning: Columns (25) have mixed types. Specify dtype option on import or set low_memory=False.\n",
      "  reduced_chunks = [reduce_memory_usage(chunk) for chunk in chunks]\n"
     ]
    },
    {
     "name": "stdout",
     "output_type": "stream",
     "text": [
      "Memory usage of dataframe is 17.55 MB\n",
      "Memory usage after optimization is: 8.54 MB\n",
      "Decreased by 51.4%\n"
     ]
    },
    {
     "name": "stderr",
     "output_type": "stream",
     "text": [
      "C:\\Users\\Elakkiya\\AppData\\Local\\Temp\\ipykernel_13232\\2303596474.py:44: DtypeWarning: Columns (25) have mixed types. Specify dtype option on import or set low_memory=False.\n",
      "  reduced_chunks = [reduce_memory_usage(chunk) for chunk in chunks]\n"
     ]
    },
    {
     "name": "stdout",
     "output_type": "stream",
     "text": [
      "Memory usage of dataframe is 17.55 MB\n",
      "Memory usage after optimization is: 8.54 MB\n",
      "Decreased by 51.4%\n"
     ]
    },
    {
     "name": "stderr",
     "output_type": "stream",
     "text": [
      "C:\\Users\\Elakkiya\\AppData\\Local\\Temp\\ipykernel_13232\\2303596474.py:44: DtypeWarning: Columns (25) have mixed types. Specify dtype option on import or set low_memory=False.\n",
      "  reduced_chunks = [reduce_memory_usage(chunk) for chunk in chunks]\n"
     ]
    },
    {
     "name": "stdout",
     "output_type": "stream",
     "text": [
      "Memory usage of dataframe is 17.55 MB\n",
      "Memory usage after optimization is: 8.54 MB\n",
      "Decreased by 51.4%\n"
     ]
    },
    {
     "name": "stderr",
     "output_type": "stream",
     "text": [
      "C:\\Users\\Elakkiya\\AppData\\Local\\Temp\\ipykernel_13232\\2303596474.py:44: DtypeWarning: Columns (25) have mixed types. Specify dtype option on import or set low_memory=False.\n",
      "  reduced_chunks = [reduce_memory_usage(chunk) for chunk in chunks]\n"
     ]
    },
    {
     "name": "stdout",
     "output_type": "stream",
     "text": [
      "Memory usage of dataframe is 17.55 MB\n",
      "Memory usage after optimization is: 8.54 MB\n",
      "Decreased by 51.4%\n"
     ]
    },
    {
     "name": "stderr",
     "output_type": "stream",
     "text": [
      "C:\\Users\\Elakkiya\\AppData\\Local\\Temp\\ipykernel_13232\\2303596474.py:44: DtypeWarning: Columns (25) have mixed types. Specify dtype option on import or set low_memory=False.\n",
      "  reduced_chunks = [reduce_memory_usage(chunk) for chunk in chunks]\n"
     ]
    },
    {
     "name": "stdout",
     "output_type": "stream",
     "text": [
      "Memory usage of dataframe is 17.55 MB\n",
      "Memory usage after optimization is: 8.54 MB\n",
      "Decreased by 51.4%\n"
     ]
    },
    {
     "name": "stderr",
     "output_type": "stream",
     "text": [
      "C:\\Users\\Elakkiya\\AppData\\Local\\Temp\\ipykernel_13232\\2303596474.py:44: DtypeWarning: Columns (6,25) have mixed types. Specify dtype option on import or set low_memory=False.\n",
      "  reduced_chunks = [reduce_memory_usage(chunk) for chunk in chunks]\n"
     ]
    },
    {
     "name": "stdout",
     "output_type": "stream",
     "text": [
      "Memory usage of dataframe is 17.55 MB\n",
      "Memory usage after optimization is: 8.87 MB\n",
      "Decreased by 49.5%\n"
     ]
    },
    {
     "name": "stderr",
     "output_type": "stream",
     "text": [
      "C:\\Users\\Elakkiya\\AppData\\Local\\Temp\\ipykernel_13232\\2303596474.py:44: DtypeWarning: Columns (25) have mixed types. Specify dtype option on import or set low_memory=False.\n",
      "  reduced_chunks = [reduce_memory_usage(chunk) for chunk in chunks]\n"
     ]
    },
    {
     "name": "stdout",
     "output_type": "stream",
     "text": [
      "Memory usage of dataframe is 17.55 MB\n",
      "Memory usage after optimization is: 8.54 MB\n",
      "Decreased by 51.4%\n",
      "Memory usage of dataframe is 17.55 MB\n",
      "Memory usage after optimization is: 8.25 MB\n",
      "Decreased by 53.0%\n"
     ]
    },
    {
     "name": "stderr",
     "output_type": "stream",
     "text": [
      "C:\\Users\\Elakkiya\\AppData\\Local\\Temp\\ipykernel_13232\\2303596474.py:44: DtypeWarning: Columns (25) have mixed types. Specify dtype option on import or set low_memory=False.\n",
      "  reduced_chunks = [reduce_memory_usage(chunk) for chunk in chunks]\n"
     ]
    },
    {
     "name": "stdout",
     "output_type": "stream",
     "text": [
      "Memory usage of dataframe is 17.55 MB\n",
      "Memory usage after optimization is: 8.54 MB\n",
      "Decreased by 51.4%\n"
     ]
    },
    {
     "name": "stderr",
     "output_type": "stream",
     "text": [
      "C:\\Users\\Elakkiya\\AppData\\Local\\Temp\\ipykernel_13232\\2303596474.py:44: DtypeWarning: Columns (25) have mixed types. Specify dtype option on import or set low_memory=False.\n",
      "  reduced_chunks = [reduce_memory_usage(chunk) for chunk in chunks]\n"
     ]
    },
    {
     "name": "stdout",
     "output_type": "stream",
     "text": [
      "Memory usage of dataframe is 17.55 MB\n",
      "Memory usage after optimization is: 8.44 MB\n",
      "Decreased by 51.9%\n"
     ]
    },
    {
     "name": "stderr",
     "output_type": "stream",
     "text": [
      "C:\\Users\\Elakkiya\\AppData\\Local\\Temp\\ipykernel_13232\\2303596474.py:44: DtypeWarning: Columns (25) have mixed types. Specify dtype option on import or set low_memory=False.\n",
      "  reduced_chunks = [reduce_memory_usage(chunk) for chunk in chunks]\n"
     ]
    },
    {
     "name": "stdout",
     "output_type": "stream",
     "text": [
      "Memory usage of dataframe is 17.55 MB\n",
      "Memory usage after optimization is: 8.44 MB\n",
      "Decreased by 51.9%\n"
     ]
    },
    {
     "name": "stderr",
     "output_type": "stream",
     "text": [
      "C:\\Users\\Elakkiya\\AppData\\Local\\Temp\\ipykernel_13232\\2303596474.py:44: DtypeWarning: Columns (25) have mixed types. Specify dtype option on import or set low_memory=False.\n",
      "  reduced_chunks = [reduce_memory_usage(chunk) for chunk in chunks]\n"
     ]
    },
    {
     "name": "stdout",
     "output_type": "stream",
     "text": [
      "Memory usage of dataframe is 17.55 MB\n",
      "Memory usage after optimization is: 8.54 MB\n",
      "Decreased by 51.4%\n"
     ]
    },
    {
     "name": "stderr",
     "output_type": "stream",
     "text": [
      "C:\\Users\\Elakkiya\\AppData\\Local\\Temp\\ipykernel_13232\\2303596474.py:44: DtypeWarning: Columns (6,25) have mixed types. Specify dtype option on import or set low_memory=False.\n",
      "  reduced_chunks = [reduce_memory_usage(chunk) for chunk in chunks]\n"
     ]
    },
    {
     "name": "stdout",
     "output_type": "stream",
     "text": [
      "Memory usage of dataframe is 17.55 MB\n",
      "Memory usage after optimization is: 8.87 MB\n",
      "Decreased by 49.5%\n"
     ]
    },
    {
     "name": "stderr",
     "output_type": "stream",
     "text": [
      "C:\\Users\\Elakkiya\\AppData\\Local\\Temp\\ipykernel_13232\\2303596474.py:44: DtypeWarning: Columns (25) have mixed types. Specify dtype option on import or set low_memory=False.\n",
      "  reduced_chunks = [reduce_memory_usage(chunk) for chunk in chunks]\n"
     ]
    },
    {
     "name": "stdout",
     "output_type": "stream",
     "text": [
      "Memory usage of dataframe is 17.55 MB\n",
      "Memory usage after optimization is: 8.54 MB\n",
      "Decreased by 51.4%\n"
     ]
    },
    {
     "name": "stderr",
     "output_type": "stream",
     "text": [
      "C:\\Users\\Elakkiya\\AppData\\Local\\Temp\\ipykernel_13232\\2303596474.py:44: DtypeWarning: Columns (25) have mixed types. Specify dtype option on import or set low_memory=False.\n",
      "  reduced_chunks = [reduce_memory_usage(chunk) for chunk in chunks]\n"
     ]
    },
    {
     "name": "stdout",
     "output_type": "stream",
     "text": [
      "Memory usage of dataframe is 17.55 MB\n",
      "Memory usage after optimization is: 8.54 MB\n",
      "Decreased by 51.4%\n"
     ]
    },
    {
     "name": "stderr",
     "output_type": "stream",
     "text": [
      "C:\\Users\\Elakkiya\\AppData\\Local\\Temp\\ipykernel_13232\\2303596474.py:44: DtypeWarning: Columns (6) have mixed types. Specify dtype option on import or set low_memory=False.\n",
      "  reduced_chunks = [reduce_memory_usage(chunk) for chunk in chunks]\n"
     ]
    },
    {
     "name": "stdout",
     "output_type": "stream",
     "text": [
      "Memory usage of dataframe is 17.55 MB\n",
      "Memory usage after optimization is: 8.87 MB\n",
      "Decreased by 49.5%\n"
     ]
    },
    {
     "name": "stderr",
     "output_type": "stream",
     "text": [
      "C:\\Users\\Elakkiya\\AppData\\Local\\Temp\\ipykernel_13232\\2303596474.py:44: DtypeWarning: Columns (6,25) have mixed types. Specify dtype option on import or set low_memory=False.\n",
      "  reduced_chunks = [reduce_memory_usage(chunk) for chunk in chunks]\n"
     ]
    },
    {
     "name": "stdout",
     "output_type": "stream",
     "text": [
      "Memory usage of dataframe is 17.55 MB\n",
      "Memory usage after optimization is: 8.87 MB\n",
      "Decreased by 49.5%\n"
     ]
    },
    {
     "name": "stderr",
     "output_type": "stream",
     "text": [
      "C:\\Users\\Elakkiya\\AppData\\Local\\Temp\\ipykernel_13232\\2303596474.py:44: DtypeWarning: Columns (6,25) have mixed types. Specify dtype option on import or set low_memory=False.\n",
      "  reduced_chunks = [reduce_memory_usage(chunk) for chunk in chunks]\n"
     ]
    },
    {
     "name": "stdout",
     "output_type": "stream",
     "text": [
      "Memory usage of dataframe is 17.55 MB\n",
      "Memory usage after optimization is: 8.87 MB\n",
      "Decreased by 49.5%\n"
     ]
    },
    {
     "name": "stderr",
     "output_type": "stream",
     "text": [
      "C:\\Users\\Elakkiya\\AppData\\Local\\Temp\\ipykernel_13232\\2303596474.py:44: DtypeWarning: Columns (25) have mixed types. Specify dtype option on import or set low_memory=False.\n",
      "  reduced_chunks = [reduce_memory_usage(chunk) for chunk in chunks]\n"
     ]
    },
    {
     "name": "stdout",
     "output_type": "stream",
     "text": [
      "Memory usage of dataframe is 17.55 MB\n",
      "Memory usage after optimization is: 8.54 MB\n",
      "Decreased by 51.4%\n"
     ]
    },
    {
     "name": "stderr",
     "output_type": "stream",
     "text": [
      "C:\\Users\\Elakkiya\\AppData\\Local\\Temp\\ipykernel_13232\\2303596474.py:44: DtypeWarning: Columns (25) have mixed types. Specify dtype option on import or set low_memory=False.\n",
      "  reduced_chunks = [reduce_memory_usage(chunk) for chunk in chunks]\n"
     ]
    },
    {
     "name": "stdout",
     "output_type": "stream",
     "text": [
      "Memory usage of dataframe is 17.55 MB\n",
      "Memory usage after optimization is: 8.54 MB\n",
      "Decreased by 51.4%\n"
     ]
    },
    {
     "name": "stderr",
     "output_type": "stream",
     "text": [
      "C:\\Users\\Elakkiya\\AppData\\Local\\Temp\\ipykernel_13232\\2303596474.py:44: DtypeWarning: Columns (25) have mixed types. Specify dtype option on import or set low_memory=False.\n",
      "  reduced_chunks = [reduce_memory_usage(chunk) for chunk in chunks]\n"
     ]
    },
    {
     "name": "stdout",
     "output_type": "stream",
     "text": [
      "Memory usage of dataframe is 17.55 MB\n",
      "Memory usage after optimization is: 8.54 MB\n",
      "Decreased by 51.4%\n"
     ]
    },
    {
     "name": "stderr",
     "output_type": "stream",
     "text": [
      "C:\\Users\\Elakkiya\\AppData\\Local\\Temp\\ipykernel_13232\\2303596474.py:44: DtypeWarning: Columns (25) have mixed types. Specify dtype option on import or set low_memory=False.\n",
      "  reduced_chunks = [reduce_memory_usage(chunk) for chunk in chunks]\n"
     ]
    },
    {
     "name": "stdout",
     "output_type": "stream",
     "text": [
      "Memory usage of dataframe is 17.55 MB\n",
      "Memory usage after optimization is: 8.54 MB\n",
      "Decreased by 51.4%\n"
     ]
    },
    {
     "name": "stderr",
     "output_type": "stream",
     "text": [
      "C:\\Users\\Elakkiya\\AppData\\Local\\Temp\\ipykernel_13232\\2303596474.py:44: DtypeWarning: Columns (25) have mixed types. Specify dtype option on import or set low_memory=False.\n",
      "  reduced_chunks = [reduce_memory_usage(chunk) for chunk in chunks]\n"
     ]
    },
    {
     "name": "stdout",
     "output_type": "stream",
     "text": [
      "Memory usage of dataframe is 17.55 MB\n",
      "Memory usage after optimization is: 8.54 MB\n",
      "Decreased by 51.4%\n"
     ]
    },
    {
     "name": "stderr",
     "output_type": "stream",
     "text": [
      "C:\\Users\\Elakkiya\\AppData\\Local\\Temp\\ipykernel_13232\\2303596474.py:44: DtypeWarning: Columns (25) have mixed types. Specify dtype option on import or set low_memory=False.\n",
      "  reduced_chunks = [reduce_memory_usage(chunk) for chunk in chunks]\n"
     ]
    },
    {
     "name": "stdout",
     "output_type": "stream",
     "text": [
      "Memory usage of dataframe is 17.55 MB\n",
      "Memory usage after optimization is: 8.54 MB\n",
      "Decreased by 51.4%\n"
     ]
    },
    {
     "name": "stderr",
     "output_type": "stream",
     "text": [
      "C:\\Users\\Elakkiya\\AppData\\Local\\Temp\\ipykernel_13232\\2303596474.py:44: DtypeWarning: Columns (25) have mixed types. Specify dtype option on import or set low_memory=False.\n",
      "  reduced_chunks = [reduce_memory_usage(chunk) for chunk in chunks]\n"
     ]
    },
    {
     "name": "stdout",
     "output_type": "stream",
     "text": [
      "Memory usage of dataframe is 17.55 MB\n",
      "Memory usage after optimization is: 8.54 MB\n",
      "Decreased by 51.4%\n"
     ]
    },
    {
     "name": "stderr",
     "output_type": "stream",
     "text": [
      "C:\\Users\\Elakkiya\\AppData\\Local\\Temp\\ipykernel_13232\\2303596474.py:44: DtypeWarning: Columns (25) have mixed types. Specify dtype option on import or set low_memory=False.\n",
      "  reduced_chunks = [reduce_memory_usage(chunk) for chunk in chunks]\n"
     ]
    },
    {
     "name": "stdout",
     "output_type": "stream",
     "text": [
      "Memory usage of dataframe is 17.55 MB\n",
      "Memory usage after optimization is: 8.54 MB\n",
      "Decreased by 51.4%\n"
     ]
    },
    {
     "name": "stderr",
     "output_type": "stream",
     "text": [
      "C:\\Users\\Elakkiya\\AppData\\Local\\Temp\\ipykernel_13232\\2303596474.py:44: DtypeWarning: Columns (25) have mixed types. Specify dtype option on import or set low_memory=False.\n",
      "  reduced_chunks = [reduce_memory_usage(chunk) for chunk in chunks]\n"
     ]
    },
    {
     "name": "stdout",
     "output_type": "stream",
     "text": [
      "Memory usage of dataframe is 17.55 MB\n",
      "Memory usage after optimization is: 8.54 MB\n",
      "Decreased by 51.4%\n"
     ]
    },
    {
     "name": "stderr",
     "output_type": "stream",
     "text": [
      "C:\\Users\\Elakkiya\\AppData\\Local\\Temp\\ipykernel_13232\\2303596474.py:44: DtypeWarning: Columns (25) have mixed types. Specify dtype option on import or set low_memory=False.\n",
      "  reduced_chunks = [reduce_memory_usage(chunk) for chunk in chunks]\n"
     ]
    },
    {
     "name": "stdout",
     "output_type": "stream",
     "text": [
      "Memory usage of dataframe is 17.55 MB\n",
      "Memory usage after optimization is: 8.54 MB\n",
      "Decreased by 51.4%\n"
     ]
    },
    {
     "name": "stderr",
     "output_type": "stream",
     "text": [
      "C:\\Users\\Elakkiya\\AppData\\Local\\Temp\\ipykernel_13232\\2303596474.py:44: DtypeWarning: Columns (25) have mixed types. Specify dtype option on import or set low_memory=False.\n",
      "  reduced_chunks = [reduce_memory_usage(chunk) for chunk in chunks]\n"
     ]
    },
    {
     "name": "stdout",
     "output_type": "stream",
     "text": [
      "Memory usage of dataframe is 17.55 MB\n",
      "Memory usage after optimization is: 8.54 MB\n",
      "Decreased by 51.4%\n"
     ]
    },
    {
     "name": "stderr",
     "output_type": "stream",
     "text": [
      "C:\\Users\\Elakkiya\\AppData\\Local\\Temp\\ipykernel_13232\\2303596474.py:44: DtypeWarning: Columns (25) have mixed types. Specify dtype option on import or set low_memory=False.\n",
      "  reduced_chunks = [reduce_memory_usage(chunk) for chunk in chunks]\n"
     ]
    },
    {
     "name": "stdout",
     "output_type": "stream",
     "text": [
      "Memory usage of dataframe is 17.55 MB\n",
      "Memory usage after optimization is: 8.54 MB\n",
      "Decreased by 51.4%\n"
     ]
    },
    {
     "name": "stderr",
     "output_type": "stream",
     "text": [
      "C:\\Users\\Elakkiya\\AppData\\Local\\Temp\\ipykernel_13232\\2303596474.py:44: DtypeWarning: Columns (25) have mixed types. Specify dtype option on import or set low_memory=False.\n",
      "  reduced_chunks = [reduce_memory_usage(chunk) for chunk in chunks]\n"
     ]
    },
    {
     "name": "stdout",
     "output_type": "stream",
     "text": [
      "Memory usage of dataframe is 17.55 MB\n",
      "Memory usage after optimization is: 8.54 MB\n",
      "Decreased by 51.4%\n"
     ]
    },
    {
     "name": "stderr",
     "output_type": "stream",
     "text": [
      "C:\\Users\\Elakkiya\\AppData\\Local\\Temp\\ipykernel_13232\\2303596474.py:44: DtypeWarning: Columns (6,25) have mixed types. Specify dtype option on import or set low_memory=False.\n",
      "  reduced_chunks = [reduce_memory_usage(chunk) for chunk in chunks]\n"
     ]
    },
    {
     "name": "stdout",
     "output_type": "stream",
     "text": [
      "Memory usage of dataframe is 17.55 MB\n",
      "Memory usage after optimization is: 8.87 MB\n",
      "Decreased by 49.5%\n"
     ]
    },
    {
     "name": "stderr",
     "output_type": "stream",
     "text": [
      "C:\\Users\\Elakkiya\\AppData\\Local\\Temp\\ipykernel_13232\\2303596474.py:44: DtypeWarning: Columns (25) have mixed types. Specify dtype option on import or set low_memory=False.\n",
      "  reduced_chunks = [reduce_memory_usage(chunk) for chunk in chunks]\n"
     ]
    },
    {
     "name": "stdout",
     "output_type": "stream",
     "text": [
      "Memory usage of dataframe is 17.55 MB\n",
      "Memory usage after optimization is: 8.54 MB\n",
      "Decreased by 51.4%\n"
     ]
    },
    {
     "name": "stderr",
     "output_type": "stream",
     "text": [
      "C:\\Users\\Elakkiya\\AppData\\Local\\Temp\\ipykernel_13232\\2303596474.py:44: DtypeWarning: Columns (25) have mixed types. Specify dtype option on import or set low_memory=False.\n",
      "  reduced_chunks = [reduce_memory_usage(chunk) for chunk in chunks]\n"
     ]
    },
    {
     "name": "stdout",
     "output_type": "stream",
     "text": [
      "Memory usage of dataframe is 17.55 MB\n",
      "Memory usage after optimization is: 8.54 MB\n",
      "Decreased by 51.4%\n"
     ]
    },
    {
     "name": "stderr",
     "output_type": "stream",
     "text": [
      "C:\\Users\\Elakkiya\\AppData\\Local\\Temp\\ipykernel_13232\\2303596474.py:44: DtypeWarning: Columns (25) have mixed types. Specify dtype option on import or set low_memory=False.\n",
      "  reduced_chunks = [reduce_memory_usage(chunk) for chunk in chunks]\n"
     ]
    },
    {
     "name": "stdout",
     "output_type": "stream",
     "text": [
      "Memory usage of dataframe is 17.55 MB\n",
      "Memory usage after optimization is: 8.54 MB\n",
      "Decreased by 51.4%\n",
      "Memory usage of dataframe is 17.55 MB\n",
      "Memory usage after optimization is: 8.25 MB\n",
      "Decreased by 53.0%\n"
     ]
    },
    {
     "name": "stderr",
     "output_type": "stream",
     "text": [
      "C:\\Users\\Elakkiya\\AppData\\Local\\Temp\\ipykernel_13232\\2303596474.py:44: DtypeWarning: Columns (25) have mixed types. Specify dtype option on import or set low_memory=False.\n",
      "  reduced_chunks = [reduce_memory_usage(chunk) for chunk in chunks]\n"
     ]
    },
    {
     "name": "stdout",
     "output_type": "stream",
     "text": [
      "Memory usage of dataframe is 17.55 MB\n",
      "Memory usage after optimization is: 8.54 MB\n",
      "Decreased by 51.4%\n"
     ]
    },
    {
     "name": "stderr",
     "output_type": "stream",
     "text": [
      "C:\\Users\\Elakkiya\\AppData\\Local\\Temp\\ipykernel_13232\\2303596474.py:44: DtypeWarning: Columns (25) have mixed types. Specify dtype option on import or set low_memory=False.\n",
      "  reduced_chunks = [reduce_memory_usage(chunk) for chunk in chunks]\n"
     ]
    },
    {
     "name": "stdout",
     "output_type": "stream",
     "text": [
      "Memory usage of dataframe is 17.55 MB\n",
      "Memory usage after optimization is: 8.54 MB\n",
      "Decreased by 51.4%\n"
     ]
    },
    {
     "name": "stderr",
     "output_type": "stream",
     "text": [
      "C:\\Users\\Elakkiya\\AppData\\Local\\Temp\\ipykernel_13232\\2303596474.py:44: DtypeWarning: Columns (25) have mixed types. Specify dtype option on import or set low_memory=False.\n",
      "  reduced_chunks = [reduce_memory_usage(chunk) for chunk in chunks]\n"
     ]
    },
    {
     "name": "stdout",
     "output_type": "stream",
     "text": [
      "Memory usage of dataframe is 17.55 MB\n",
      "Memory usage after optimization is: 8.54 MB\n",
      "Decreased by 51.4%\n"
     ]
    },
    {
     "name": "stderr",
     "output_type": "stream",
     "text": [
      "C:\\Users\\Elakkiya\\AppData\\Local\\Temp\\ipykernel_13232\\2303596474.py:44: DtypeWarning: Columns (25) have mixed types. Specify dtype option on import or set low_memory=False.\n",
      "  reduced_chunks = [reduce_memory_usage(chunk) for chunk in chunks]\n"
     ]
    },
    {
     "name": "stdout",
     "output_type": "stream",
     "text": [
      "Memory usage of dataframe is 17.55 MB\n",
      "Memory usage after optimization is: 8.54 MB\n",
      "Decreased by 51.4%\n"
     ]
    },
    {
     "name": "stderr",
     "output_type": "stream",
     "text": [
      "C:\\Users\\Elakkiya\\AppData\\Local\\Temp\\ipykernel_13232\\2303596474.py:44: DtypeWarning: Columns (25) have mixed types. Specify dtype option on import or set low_memory=False.\n",
      "  reduced_chunks = [reduce_memory_usage(chunk) for chunk in chunks]\n"
     ]
    },
    {
     "name": "stdout",
     "output_type": "stream",
     "text": [
      "Memory usage of dataframe is 17.55 MB\n",
      "Memory usage after optimization is: 8.54 MB\n",
      "Decreased by 51.4%\n"
     ]
    },
    {
     "name": "stderr",
     "output_type": "stream",
     "text": [
      "C:\\Users\\Elakkiya\\AppData\\Local\\Temp\\ipykernel_13232\\2303596474.py:44: DtypeWarning: Columns (25) have mixed types. Specify dtype option on import or set low_memory=False.\n",
      "  reduced_chunks = [reduce_memory_usage(chunk) for chunk in chunks]\n"
     ]
    },
    {
     "name": "stdout",
     "output_type": "stream",
     "text": [
      "Memory usage of dataframe is 17.55 MB\n",
      "Memory usage after optimization is: 8.54 MB\n",
      "Decreased by 51.4%\n"
     ]
    },
    {
     "name": "stderr",
     "output_type": "stream",
     "text": [
      "C:\\Users\\Elakkiya\\AppData\\Local\\Temp\\ipykernel_13232\\2303596474.py:44: DtypeWarning: Columns (25) have mixed types. Specify dtype option on import or set low_memory=False.\n",
      "  reduced_chunks = [reduce_memory_usage(chunk) for chunk in chunks]\n"
     ]
    },
    {
     "name": "stdout",
     "output_type": "stream",
     "text": [
      "Memory usage of dataframe is 17.55 MB\n",
      "Memory usage after optimization is: 8.54 MB\n",
      "Decreased by 51.4%\n"
     ]
    },
    {
     "name": "stderr",
     "output_type": "stream",
     "text": [
      "C:\\Users\\Elakkiya\\AppData\\Local\\Temp\\ipykernel_13232\\2303596474.py:44: DtypeWarning: Columns (25) have mixed types. Specify dtype option on import or set low_memory=False.\n",
      "  reduced_chunks = [reduce_memory_usage(chunk) for chunk in chunks]\n"
     ]
    },
    {
     "name": "stdout",
     "output_type": "stream",
     "text": [
      "Memory usage of dataframe is 17.55 MB\n",
      "Memory usage after optimization is: 8.54 MB\n",
      "Decreased by 51.4%\n"
     ]
    },
    {
     "name": "stderr",
     "output_type": "stream",
     "text": [
      "C:\\Users\\Elakkiya\\AppData\\Local\\Temp\\ipykernel_13232\\2303596474.py:44: DtypeWarning: Columns (25) have mixed types. Specify dtype option on import or set low_memory=False.\n",
      "  reduced_chunks = [reduce_memory_usage(chunk) for chunk in chunks]\n"
     ]
    },
    {
     "name": "stdout",
     "output_type": "stream",
     "text": [
      "Memory usage of dataframe is 17.55 MB\n",
      "Memory usage after optimization is: 8.54 MB\n",
      "Decreased by 51.4%\n"
     ]
    },
    {
     "name": "stderr",
     "output_type": "stream",
     "text": [
      "C:\\Users\\Elakkiya\\AppData\\Local\\Temp\\ipykernel_13232\\2303596474.py:44: DtypeWarning: Columns (25) have mixed types. Specify dtype option on import or set low_memory=False.\n",
      "  reduced_chunks = [reduce_memory_usage(chunk) for chunk in chunks]\n"
     ]
    },
    {
     "name": "stdout",
     "output_type": "stream",
     "text": [
      "Memory usage of dataframe is 17.55 MB\n",
      "Memory usage after optimization is: 8.54 MB\n",
      "Decreased by 51.4%\n"
     ]
    },
    {
     "name": "stderr",
     "output_type": "stream",
     "text": [
      "C:\\Users\\Elakkiya\\AppData\\Local\\Temp\\ipykernel_13232\\2303596474.py:44: DtypeWarning: Columns (25) have mixed types. Specify dtype option on import or set low_memory=False.\n",
      "  reduced_chunks = [reduce_memory_usage(chunk) for chunk in chunks]\n"
     ]
    },
    {
     "name": "stdout",
     "output_type": "stream",
     "text": [
      "Memory usage of dataframe is 17.55 MB\n",
      "Memory usage after optimization is: 8.44 MB\n",
      "Decreased by 51.9%\n"
     ]
    },
    {
     "name": "stderr",
     "output_type": "stream",
     "text": [
      "C:\\Users\\Elakkiya\\AppData\\Local\\Temp\\ipykernel_13232\\2303596474.py:44: DtypeWarning: Columns (25) have mixed types. Specify dtype option on import or set low_memory=False.\n",
      "  reduced_chunks = [reduce_memory_usage(chunk) for chunk in chunks]\n"
     ]
    },
    {
     "name": "stdout",
     "output_type": "stream",
     "text": [
      "Memory usage of dataframe is 17.55 MB\n",
      "Memory usage after optimization is: 8.54 MB\n",
      "Decreased by 51.4%\n",
      "Memory usage of dataframe is 17.55 MB\n",
      "Memory usage after optimization is: 8.54 MB\n",
      "Decreased by 51.4%\n"
     ]
    },
    {
     "name": "stderr",
     "output_type": "stream",
     "text": [
      "C:\\Users\\Elakkiya\\AppData\\Local\\Temp\\ipykernel_13232\\2303596474.py:44: DtypeWarning: Columns (25) have mixed types. Specify dtype option on import or set low_memory=False.\n",
      "  reduced_chunks = [reduce_memory_usage(chunk) for chunk in chunks]\n"
     ]
    },
    {
     "name": "stdout",
     "output_type": "stream",
     "text": [
      "Memory usage of dataframe is 17.55 MB\n",
      "Memory usage after optimization is: 8.54 MB\n",
      "Decreased by 51.4%\n",
      "Memory usage of dataframe is 17.55 MB\n",
      "Memory usage after optimization is: 8.25 MB\n",
      "Decreased by 53.0%\n"
     ]
    },
    {
     "name": "stderr",
     "output_type": "stream",
     "text": [
      "C:\\Users\\Elakkiya\\AppData\\Local\\Temp\\ipykernel_13232\\2303596474.py:44: DtypeWarning: Columns (25) have mixed types. Specify dtype option on import or set low_memory=False.\n",
      "  reduced_chunks = [reduce_memory_usage(chunk) for chunk in chunks]\n"
     ]
    },
    {
     "name": "stdout",
     "output_type": "stream",
     "text": [
      "Memory usage of dataframe is 17.55 MB\n",
      "Memory usage after optimization is: 8.54 MB\n",
      "Decreased by 51.4%\n"
     ]
    },
    {
     "name": "stderr",
     "output_type": "stream",
     "text": [
      "C:\\Users\\Elakkiya\\AppData\\Local\\Temp\\ipykernel_13232\\2303596474.py:44: DtypeWarning: Columns (25) have mixed types. Specify dtype option on import or set low_memory=False.\n",
      "  reduced_chunks = [reduce_memory_usage(chunk) for chunk in chunks]\n"
     ]
    },
    {
     "name": "stdout",
     "output_type": "stream",
     "text": [
      "Memory usage of dataframe is 17.55 MB\n",
      "Memory usage after optimization is: 8.54 MB\n",
      "Decreased by 51.4%\n"
     ]
    },
    {
     "name": "stderr",
     "output_type": "stream",
     "text": [
      "C:\\Users\\Elakkiya\\AppData\\Local\\Temp\\ipykernel_13232\\2303596474.py:44: DtypeWarning: Columns (25) have mixed types. Specify dtype option on import or set low_memory=False.\n",
      "  reduced_chunks = [reduce_memory_usage(chunk) for chunk in chunks]\n"
     ]
    },
    {
     "name": "stdout",
     "output_type": "stream",
     "text": [
      "Memory usage of dataframe is 17.55 MB\n",
      "Memory usage after optimization is: 8.54 MB\n",
      "Decreased by 51.4%\n"
     ]
    },
    {
     "name": "stderr",
     "output_type": "stream",
     "text": [
      "C:\\Users\\Elakkiya\\AppData\\Local\\Temp\\ipykernel_13232\\2303596474.py:44: DtypeWarning: Columns (25) have mixed types. Specify dtype option on import or set low_memory=False.\n",
      "  reduced_chunks = [reduce_memory_usage(chunk) for chunk in chunks]\n"
     ]
    },
    {
     "name": "stdout",
     "output_type": "stream",
     "text": [
      "Memory usage of dataframe is 17.55 MB\n",
      "Memory usage after optimization is: 8.54 MB\n",
      "Decreased by 51.4%\n"
     ]
    },
    {
     "name": "stderr",
     "output_type": "stream",
     "text": [
      "C:\\Users\\Elakkiya\\AppData\\Local\\Temp\\ipykernel_13232\\2303596474.py:44: DtypeWarning: Columns (25) have mixed types. Specify dtype option on import or set low_memory=False.\n",
      "  reduced_chunks = [reduce_memory_usage(chunk) for chunk in chunks]\n"
     ]
    },
    {
     "name": "stdout",
     "output_type": "stream",
     "text": [
      "Memory usage of dataframe is 17.55 MB\n",
      "Memory usage after optimization is: 8.54 MB\n",
      "Decreased by 51.4%\n"
     ]
    },
    {
     "name": "stderr",
     "output_type": "stream",
     "text": [
      "C:\\Users\\Elakkiya\\AppData\\Local\\Temp\\ipykernel_13232\\2303596474.py:44: DtypeWarning: Columns (25) have mixed types. Specify dtype option on import or set low_memory=False.\n",
      "  reduced_chunks = [reduce_memory_usage(chunk) for chunk in chunks]\n"
     ]
    },
    {
     "name": "stdout",
     "output_type": "stream",
     "text": [
      "Memory usage of dataframe is 17.55 MB\n",
      "Memory usage after optimization is: 8.54 MB\n",
      "Decreased by 51.4%\n"
     ]
    },
    {
     "name": "stderr",
     "output_type": "stream",
     "text": [
      "C:\\Users\\Elakkiya\\AppData\\Local\\Temp\\ipykernel_13232\\2303596474.py:44: DtypeWarning: Columns (25) have mixed types. Specify dtype option on import or set low_memory=False.\n",
      "  reduced_chunks = [reduce_memory_usage(chunk) for chunk in chunks]\n"
     ]
    },
    {
     "name": "stdout",
     "output_type": "stream",
     "text": [
      "Memory usage of dataframe is 17.55 MB\n",
      "Memory usage after optimization is: 8.54 MB\n",
      "Decreased by 51.4%\n"
     ]
    },
    {
     "name": "stderr",
     "output_type": "stream",
     "text": [
      "C:\\Users\\Elakkiya\\AppData\\Local\\Temp\\ipykernel_13232\\2303596474.py:44: DtypeWarning: Columns (25) have mixed types. Specify dtype option on import or set low_memory=False.\n",
      "  reduced_chunks = [reduce_memory_usage(chunk) for chunk in chunks]\n"
     ]
    },
    {
     "name": "stdout",
     "output_type": "stream",
     "text": [
      "Memory usage of dataframe is 17.55 MB\n",
      "Memory usage after optimization is: 8.54 MB\n",
      "Decreased by 51.4%\n"
     ]
    },
    {
     "name": "stderr",
     "output_type": "stream",
     "text": [
      "C:\\Users\\Elakkiya\\AppData\\Local\\Temp\\ipykernel_13232\\2303596474.py:44: DtypeWarning: Columns (25) have mixed types. Specify dtype option on import or set low_memory=False.\n",
      "  reduced_chunks = [reduce_memory_usage(chunk) for chunk in chunks]\n"
     ]
    },
    {
     "name": "stdout",
     "output_type": "stream",
     "text": [
      "Memory usage of dataframe is 17.55 MB\n",
      "Memory usage after optimization is: 8.54 MB\n",
      "Decreased by 51.4%\n"
     ]
    },
    {
     "name": "stderr",
     "output_type": "stream",
     "text": [
      "C:\\Users\\Elakkiya\\AppData\\Local\\Temp\\ipykernel_13232\\2303596474.py:44: DtypeWarning: Columns (25) have mixed types. Specify dtype option on import or set low_memory=False.\n",
      "  reduced_chunks = [reduce_memory_usage(chunk) for chunk in chunks]\n"
     ]
    },
    {
     "name": "stdout",
     "output_type": "stream",
     "text": [
      "Memory usage of dataframe is 17.55 MB\n",
      "Memory usage after optimization is: 8.54 MB\n",
      "Decreased by 51.4%\n"
     ]
    },
    {
     "name": "stderr",
     "output_type": "stream",
     "text": [
      "C:\\Users\\Elakkiya\\AppData\\Local\\Temp\\ipykernel_13232\\2303596474.py:44: DtypeWarning: Columns (25) have mixed types. Specify dtype option on import or set low_memory=False.\n",
      "  reduced_chunks = [reduce_memory_usage(chunk) for chunk in chunks]\n"
     ]
    },
    {
     "name": "stdout",
     "output_type": "stream",
     "text": [
      "Memory usage of dataframe is 17.55 MB\n",
      "Memory usage after optimization is: 8.54 MB\n",
      "Decreased by 51.4%\n"
     ]
    },
    {
     "name": "stderr",
     "output_type": "stream",
     "text": [
      "C:\\Users\\Elakkiya\\AppData\\Local\\Temp\\ipykernel_13232\\2303596474.py:44: DtypeWarning: Columns (25) have mixed types. Specify dtype option on import or set low_memory=False.\n",
      "  reduced_chunks = [reduce_memory_usage(chunk) for chunk in chunks]\n"
     ]
    },
    {
     "name": "stdout",
     "output_type": "stream",
     "text": [
      "Memory usage of dataframe is 17.55 MB\n",
      "Memory usage after optimization is: 8.54 MB\n",
      "Decreased by 51.4%\n",
      "Memory usage of dataframe is 17.55 MB\n",
      "Memory usage after optimization is: 8.25 MB\n",
      "Decreased by 53.0%\n"
     ]
    },
    {
     "name": "stderr",
     "output_type": "stream",
     "text": [
      "C:\\Users\\Elakkiya\\AppData\\Local\\Temp\\ipykernel_13232\\2303596474.py:44: DtypeWarning: Columns (25) have mixed types. Specify dtype option on import or set low_memory=False.\n",
      "  reduced_chunks = [reduce_memory_usage(chunk) for chunk in chunks]\n"
     ]
    },
    {
     "name": "stdout",
     "output_type": "stream",
     "text": [
      "Memory usage of dataframe is 17.55 MB\n",
      "Memory usage after optimization is: 8.54 MB\n",
      "Decreased by 51.4%\n"
     ]
    },
    {
     "name": "stderr",
     "output_type": "stream",
     "text": [
      "C:\\Users\\Elakkiya\\AppData\\Local\\Temp\\ipykernel_13232\\2303596474.py:44: DtypeWarning: Columns (25) have mixed types. Specify dtype option on import or set low_memory=False.\n",
      "  reduced_chunks = [reduce_memory_usage(chunk) for chunk in chunks]\n"
     ]
    },
    {
     "name": "stdout",
     "output_type": "stream",
     "text": [
      "Memory usage of dataframe is 17.55 MB\n",
      "Memory usage after optimization is: 8.54 MB\n",
      "Decreased by 51.4%\n"
     ]
    },
    {
     "name": "stderr",
     "output_type": "stream",
     "text": [
      "C:\\Users\\Elakkiya\\AppData\\Local\\Temp\\ipykernel_13232\\2303596474.py:44: DtypeWarning: Columns (25) have mixed types. Specify dtype option on import or set low_memory=False.\n",
      "  reduced_chunks = [reduce_memory_usage(chunk) for chunk in chunks]\n"
     ]
    },
    {
     "name": "stdout",
     "output_type": "stream",
     "text": [
      "Memory usage of dataframe is 17.55 MB\n",
      "Memory usage after optimization is: 8.54 MB\n",
      "Decreased by 51.4%\n"
     ]
    },
    {
     "name": "stderr",
     "output_type": "stream",
     "text": [
      "C:\\Users\\Elakkiya\\AppData\\Local\\Temp\\ipykernel_13232\\2303596474.py:44: DtypeWarning: Columns (25) have mixed types. Specify dtype option on import or set low_memory=False.\n",
      "  reduced_chunks = [reduce_memory_usage(chunk) for chunk in chunks]\n"
     ]
    },
    {
     "name": "stdout",
     "output_type": "stream",
     "text": [
      "Memory usage of dataframe is 17.55 MB\n",
      "Memory usage after optimization is: 8.54 MB\n",
      "Decreased by 51.4%\n"
     ]
    },
    {
     "name": "stderr",
     "output_type": "stream",
     "text": [
      "C:\\Users\\Elakkiya\\AppData\\Local\\Temp\\ipykernel_13232\\2303596474.py:44: DtypeWarning: Columns (25) have mixed types. Specify dtype option on import or set low_memory=False.\n",
      "  reduced_chunks = [reduce_memory_usage(chunk) for chunk in chunks]\n"
     ]
    },
    {
     "name": "stdout",
     "output_type": "stream",
     "text": [
      "Memory usage of dataframe is 17.55 MB\n",
      "Memory usage after optimization is: 8.54 MB\n",
      "Decreased by 51.4%\n"
     ]
    },
    {
     "name": "stderr",
     "output_type": "stream",
     "text": [
      "C:\\Users\\Elakkiya\\AppData\\Local\\Temp\\ipykernel_13232\\2303596474.py:44: DtypeWarning: Columns (25) have mixed types. Specify dtype option on import or set low_memory=False.\n",
      "  reduced_chunks = [reduce_memory_usage(chunk) for chunk in chunks]\n"
     ]
    },
    {
     "name": "stdout",
     "output_type": "stream",
     "text": [
      "Memory usage of dataframe is 17.55 MB\n",
      "Memory usage after optimization is: 8.54 MB\n",
      "Decreased by 51.4%\n"
     ]
    },
    {
     "name": "stderr",
     "output_type": "stream",
     "text": [
      "C:\\Users\\Elakkiya\\AppData\\Local\\Temp\\ipykernel_13232\\2303596474.py:44: DtypeWarning: Columns (6,25) have mixed types. Specify dtype option on import or set low_memory=False.\n",
      "  reduced_chunks = [reduce_memory_usage(chunk) for chunk in chunks]\n"
     ]
    },
    {
     "name": "stdout",
     "output_type": "stream",
     "text": [
      "Memory usage of dataframe is 17.55 MB\n",
      "Memory usage after optimization is: 8.87 MB\n",
      "Decreased by 49.5%\n"
     ]
    },
    {
     "name": "stderr",
     "output_type": "stream",
     "text": [
      "C:\\Users\\Elakkiya\\AppData\\Local\\Temp\\ipykernel_13232\\2303596474.py:44: DtypeWarning: Columns (25) have mixed types. Specify dtype option on import or set low_memory=False.\n",
      "  reduced_chunks = [reduce_memory_usage(chunk) for chunk in chunks]\n"
     ]
    },
    {
     "name": "stdout",
     "output_type": "stream",
     "text": [
      "Memory usage of dataframe is 17.55 MB\n",
      "Memory usage after optimization is: 8.54 MB\n",
      "Decreased by 51.4%\n"
     ]
    },
    {
     "name": "stderr",
     "output_type": "stream",
     "text": [
      "C:\\Users\\Elakkiya\\AppData\\Local\\Temp\\ipykernel_13232\\2303596474.py:44: DtypeWarning: Columns (25) have mixed types. Specify dtype option on import or set low_memory=False.\n",
      "  reduced_chunks = [reduce_memory_usage(chunk) for chunk in chunks]\n"
     ]
    },
    {
     "name": "stdout",
     "output_type": "stream",
     "text": [
      "Memory usage of dataframe is 17.55 MB\n",
      "Memory usage after optimization is: 8.54 MB\n",
      "Decreased by 51.4%\n"
     ]
    },
    {
     "name": "stderr",
     "output_type": "stream",
     "text": [
      "C:\\Users\\Elakkiya\\AppData\\Local\\Temp\\ipykernel_13232\\2303596474.py:44: DtypeWarning: Columns (25) have mixed types. Specify dtype option on import or set low_memory=False.\n",
      "  reduced_chunks = [reduce_memory_usage(chunk) for chunk in chunks]\n"
     ]
    },
    {
     "name": "stdout",
     "output_type": "stream",
     "text": [
      "Memory usage of dataframe is 17.55 MB\n",
      "Memory usage after optimization is: 8.54 MB\n",
      "Decreased by 51.4%\n"
     ]
    },
    {
     "name": "stderr",
     "output_type": "stream",
     "text": [
      "C:\\Users\\Elakkiya\\AppData\\Local\\Temp\\ipykernel_13232\\2303596474.py:44: DtypeWarning: Columns (25) have mixed types. Specify dtype option on import or set low_memory=False.\n",
      "  reduced_chunks = [reduce_memory_usage(chunk) for chunk in chunks]\n"
     ]
    },
    {
     "name": "stdout",
     "output_type": "stream",
     "text": [
      "Memory usage of dataframe is 17.55 MB\n",
      "Memory usage after optimization is: 8.54 MB\n",
      "Decreased by 51.4%\n"
     ]
    },
    {
     "name": "stderr",
     "output_type": "stream",
     "text": [
      "C:\\Users\\Elakkiya\\AppData\\Local\\Temp\\ipykernel_13232\\2303596474.py:44: DtypeWarning: Columns (25) have mixed types. Specify dtype option on import or set low_memory=False.\n",
      "  reduced_chunks = [reduce_memory_usage(chunk) for chunk in chunks]\n"
     ]
    },
    {
     "name": "stdout",
     "output_type": "stream",
     "text": [
      "Memory usage of dataframe is 17.55 MB\n",
      "Memory usage after optimization is: 8.54 MB\n",
      "Decreased by 51.4%\n"
     ]
    },
    {
     "name": "stderr",
     "output_type": "stream",
     "text": [
      "C:\\Users\\Elakkiya\\AppData\\Local\\Temp\\ipykernel_13232\\2303596474.py:44: DtypeWarning: Columns (25) have mixed types. Specify dtype option on import or set low_memory=False.\n",
      "  reduced_chunks = [reduce_memory_usage(chunk) for chunk in chunks]\n"
     ]
    },
    {
     "name": "stdout",
     "output_type": "stream",
     "text": [
      "Memory usage of dataframe is 17.55 MB\n",
      "Memory usage after optimization is: 8.54 MB\n",
      "Decreased by 51.4%\n",
      "Memory usage of dataframe is 17.55 MB\n",
      "Memory usage after optimization is: 8.25 MB\n",
      "Decreased by 53.0%\n"
     ]
    },
    {
     "name": "stderr",
     "output_type": "stream",
     "text": [
      "C:\\Users\\Elakkiya\\AppData\\Local\\Temp\\ipykernel_13232\\2303596474.py:44: DtypeWarning: Columns (25) have mixed types. Specify dtype option on import or set low_memory=False.\n",
      "  reduced_chunks = [reduce_memory_usage(chunk) for chunk in chunks]\n"
     ]
    },
    {
     "name": "stdout",
     "output_type": "stream",
     "text": [
      "Memory usage of dataframe is 17.55 MB\n",
      "Memory usage after optimization is: 8.54 MB\n",
      "Decreased by 51.4%\n"
     ]
    },
    {
     "name": "stderr",
     "output_type": "stream",
     "text": [
      "C:\\Users\\Elakkiya\\AppData\\Local\\Temp\\ipykernel_13232\\2303596474.py:44: DtypeWarning: Columns (25) have mixed types. Specify dtype option on import or set low_memory=False.\n",
      "  reduced_chunks = [reduce_memory_usage(chunk) for chunk in chunks]\n"
     ]
    },
    {
     "name": "stdout",
     "output_type": "stream",
     "text": [
      "Memory usage of dataframe is 17.55 MB\n",
      "Memory usage after optimization is: 8.54 MB\n",
      "Decreased by 51.4%\n",
      "Memory usage of dataframe is 17.55 MB\n",
      "Memory usage after optimization is: 8.25 MB\n",
      "Decreased by 53.0%\n"
     ]
    },
    {
     "name": "stderr",
     "output_type": "stream",
     "text": [
      "C:\\Users\\Elakkiya\\AppData\\Local\\Temp\\ipykernel_13232\\2303596474.py:44: DtypeWarning: Columns (25) have mixed types. Specify dtype option on import or set low_memory=False.\n",
      "  reduced_chunks = [reduce_memory_usage(chunk) for chunk in chunks]\n"
     ]
    },
    {
     "name": "stdout",
     "output_type": "stream",
     "text": [
      "Memory usage of dataframe is 17.55 MB\n",
      "Memory usage after optimization is: 8.54 MB\n",
      "Decreased by 51.4%\n"
     ]
    },
    {
     "name": "stderr",
     "output_type": "stream",
     "text": [
      "C:\\Users\\Elakkiya\\AppData\\Local\\Temp\\ipykernel_13232\\2303596474.py:44: DtypeWarning: Columns (25) have mixed types. Specify dtype option on import or set low_memory=False.\n",
      "  reduced_chunks = [reduce_memory_usage(chunk) for chunk in chunks]\n"
     ]
    },
    {
     "name": "stdout",
     "output_type": "stream",
     "text": [
      "Memory usage of dataframe is 17.55 MB\n",
      "Memory usage after optimization is: 8.54 MB\n",
      "Decreased by 51.4%\n"
     ]
    },
    {
     "name": "stderr",
     "output_type": "stream",
     "text": [
      "C:\\Users\\Elakkiya\\AppData\\Local\\Temp\\ipykernel_13232\\2303596474.py:44: DtypeWarning: Columns (25) have mixed types. Specify dtype option on import or set low_memory=False.\n",
      "  reduced_chunks = [reduce_memory_usage(chunk) for chunk in chunks]\n"
     ]
    },
    {
     "name": "stdout",
     "output_type": "stream",
     "text": [
      "Memory usage of dataframe is 17.55 MB\n",
      "Memory usage after optimization is: 8.54 MB\n",
      "Decreased by 51.4%\n"
     ]
    },
    {
     "name": "stderr",
     "output_type": "stream",
     "text": [
      "C:\\Users\\Elakkiya\\AppData\\Local\\Temp\\ipykernel_13232\\2303596474.py:44: DtypeWarning: Columns (25) have mixed types. Specify dtype option on import or set low_memory=False.\n",
      "  reduced_chunks = [reduce_memory_usage(chunk) for chunk in chunks]\n"
     ]
    },
    {
     "name": "stdout",
     "output_type": "stream",
     "text": [
      "Memory usage of dataframe is 17.55 MB\n",
      "Memory usage after optimization is: 8.54 MB\n",
      "Decreased by 51.4%\n"
     ]
    },
    {
     "name": "stderr",
     "output_type": "stream",
     "text": [
      "C:\\Users\\Elakkiya\\AppData\\Local\\Temp\\ipykernel_13232\\2303596474.py:44: DtypeWarning: Columns (25) have mixed types. Specify dtype option on import or set low_memory=False.\n",
      "  reduced_chunks = [reduce_memory_usage(chunk) for chunk in chunks]\n"
     ]
    },
    {
     "name": "stdout",
     "output_type": "stream",
     "text": [
      "Memory usage of dataframe is 17.55 MB\n",
      "Memory usage after optimization is: 8.54 MB\n",
      "Decreased by 51.4%\n"
     ]
    },
    {
     "name": "stderr",
     "output_type": "stream",
     "text": [
      "C:\\Users\\Elakkiya\\AppData\\Local\\Temp\\ipykernel_13232\\2303596474.py:44: DtypeWarning: Columns (25) have mixed types. Specify dtype option on import or set low_memory=False.\n",
      "  reduced_chunks = [reduce_memory_usage(chunk) for chunk in chunks]\n"
     ]
    },
    {
     "name": "stdout",
     "output_type": "stream",
     "text": [
      "Memory usage of dataframe is 17.55 MB\n",
      "Memory usage after optimization is: 8.54 MB\n",
      "Decreased by 51.4%\n"
     ]
    },
    {
     "name": "stderr",
     "output_type": "stream",
     "text": [
      "C:\\Users\\Elakkiya\\AppData\\Local\\Temp\\ipykernel_13232\\2303596474.py:44: DtypeWarning: Columns (25) have mixed types. Specify dtype option on import or set low_memory=False.\n",
      "  reduced_chunks = [reduce_memory_usage(chunk) for chunk in chunks]\n"
     ]
    },
    {
     "name": "stdout",
     "output_type": "stream",
     "text": [
      "Memory usage of dataframe is 17.55 MB\n",
      "Memory usage after optimization is: 8.54 MB\n",
      "Decreased by 51.4%\n",
      "Memory usage of dataframe is 17.55 MB\n",
      "Memory usage after optimization is: 8.25 MB\n",
      "Decreased by 53.0%\n"
     ]
    },
    {
     "name": "stderr",
     "output_type": "stream",
     "text": [
      "C:\\Users\\Elakkiya\\AppData\\Local\\Temp\\ipykernel_13232\\2303596474.py:44: DtypeWarning: Columns (25) have mixed types. Specify dtype option on import or set low_memory=False.\n",
      "  reduced_chunks = [reduce_memory_usage(chunk) for chunk in chunks]\n"
     ]
    },
    {
     "name": "stdout",
     "output_type": "stream",
     "text": [
      "Memory usage of dataframe is 17.55 MB\n",
      "Memory usage after optimization is: 8.54 MB\n",
      "Decreased by 51.4%\n"
     ]
    },
    {
     "name": "stderr",
     "output_type": "stream",
     "text": [
      "C:\\Users\\Elakkiya\\AppData\\Local\\Temp\\ipykernel_13232\\2303596474.py:44: DtypeWarning: Columns (25) have mixed types. Specify dtype option on import or set low_memory=False.\n",
      "  reduced_chunks = [reduce_memory_usage(chunk) for chunk in chunks]\n"
     ]
    },
    {
     "name": "stdout",
     "output_type": "stream",
     "text": [
      "Memory usage of dataframe is 17.55 MB\n",
      "Memory usage after optimization is: 8.54 MB\n",
      "Decreased by 51.4%\n"
     ]
    },
    {
     "name": "stderr",
     "output_type": "stream",
     "text": [
      "C:\\Users\\Elakkiya\\AppData\\Local\\Temp\\ipykernel_13232\\2303596474.py:44: DtypeWarning: Columns (25) have mixed types. Specify dtype option on import or set low_memory=False.\n",
      "  reduced_chunks = [reduce_memory_usage(chunk) for chunk in chunks]\n"
     ]
    },
    {
     "name": "stdout",
     "output_type": "stream",
     "text": [
      "Memory usage of dataframe is 17.55 MB\n",
      "Memory usage after optimization is: 8.54 MB\n",
      "Decreased by 51.4%\n"
     ]
    },
    {
     "name": "stderr",
     "output_type": "stream",
     "text": [
      "C:\\Users\\Elakkiya\\AppData\\Local\\Temp\\ipykernel_13232\\2303596474.py:44: DtypeWarning: Columns (25) have mixed types. Specify dtype option on import or set low_memory=False.\n",
      "  reduced_chunks = [reduce_memory_usage(chunk) for chunk in chunks]\n"
     ]
    },
    {
     "name": "stdout",
     "output_type": "stream",
     "text": [
      "Memory usage of dataframe is 17.55 MB\n",
      "Memory usage after optimization is: 8.54 MB\n",
      "Decreased by 51.4%\n",
      "Memory usage of dataframe is 17.55 MB\n",
      "Memory usage after optimization is: 8.25 MB\n",
      "Decreased by 53.0%\n",
      "Memory usage of dataframe is 17.55 MB\n",
      "Memory usage after optimization is: 8.25 MB\n",
      "Decreased by 53.0%\n",
      "Memory usage of dataframe is 17.55 MB\n",
      "Memory usage after optimization is: 8.25 MB\n",
      "Decreased by 53.0%\n"
     ]
    },
    {
     "name": "stderr",
     "output_type": "stream",
     "text": [
      "C:\\Users\\Elakkiya\\AppData\\Local\\Temp\\ipykernel_13232\\2303596474.py:44: DtypeWarning: Columns (25) have mixed types. Specify dtype option on import or set low_memory=False.\n",
      "  reduced_chunks = [reduce_memory_usage(chunk) for chunk in chunks]\n"
     ]
    },
    {
     "name": "stdout",
     "output_type": "stream",
     "text": [
      "Memory usage of dataframe is 17.55 MB\n",
      "Memory usage after optimization is: 8.54 MB\n",
      "Decreased by 51.4%\n"
     ]
    },
    {
     "name": "stderr",
     "output_type": "stream",
     "text": [
      "C:\\Users\\Elakkiya\\AppData\\Local\\Temp\\ipykernel_13232\\2303596474.py:44: DtypeWarning: Columns (25) have mixed types. Specify dtype option on import or set low_memory=False.\n",
      "  reduced_chunks = [reduce_memory_usage(chunk) for chunk in chunks]\n"
     ]
    },
    {
     "name": "stdout",
     "output_type": "stream",
     "text": [
      "Memory usage of dataframe is 17.55 MB\n",
      "Memory usage after optimization is: 8.54 MB\n",
      "Decreased by 51.4%\n"
     ]
    },
    {
     "name": "stderr",
     "output_type": "stream",
     "text": [
      "C:\\Users\\Elakkiya\\AppData\\Local\\Temp\\ipykernel_13232\\2303596474.py:44: DtypeWarning: Columns (6,25) have mixed types. Specify dtype option on import or set low_memory=False.\n",
      "  reduced_chunks = [reduce_memory_usage(chunk) for chunk in chunks]\n"
     ]
    },
    {
     "name": "stdout",
     "output_type": "stream",
     "text": [
      "Memory usage of dataframe is 17.55 MB\n",
      "Memory usage after optimization is: 8.87 MB\n",
      "Decreased by 49.5%\n"
     ]
    },
    {
     "name": "stderr",
     "output_type": "stream",
     "text": [
      "C:\\Users\\Elakkiya\\AppData\\Local\\Temp\\ipykernel_13232\\2303596474.py:44: DtypeWarning: Columns (25) have mixed types. Specify dtype option on import or set low_memory=False.\n",
      "  reduced_chunks = [reduce_memory_usage(chunk) for chunk in chunks]\n"
     ]
    },
    {
     "name": "stdout",
     "output_type": "stream",
     "text": [
      "Memory usage of dataframe is 17.55 MB\n",
      "Memory usage after optimization is: 8.54 MB\n",
      "Decreased by 51.4%\n"
     ]
    },
    {
     "name": "stderr",
     "output_type": "stream",
     "text": [
      "C:\\Users\\Elakkiya\\AppData\\Local\\Temp\\ipykernel_13232\\2303596474.py:44: DtypeWarning: Columns (25) have mixed types. Specify dtype option on import or set low_memory=False.\n",
      "  reduced_chunks = [reduce_memory_usage(chunk) for chunk in chunks]\n"
     ]
    },
    {
     "name": "stdout",
     "output_type": "stream",
     "text": [
      "Memory usage of dataframe is 17.55 MB\n",
      "Memory usage after optimization is: 8.54 MB\n",
      "Decreased by 51.4%\n"
     ]
    },
    {
     "name": "stderr",
     "output_type": "stream",
     "text": [
      "C:\\Users\\Elakkiya\\AppData\\Local\\Temp\\ipykernel_13232\\2303596474.py:44: DtypeWarning: Columns (25) have mixed types. Specify dtype option on import or set low_memory=False.\n",
      "  reduced_chunks = [reduce_memory_usage(chunk) for chunk in chunks]\n"
     ]
    },
    {
     "name": "stdout",
     "output_type": "stream",
     "text": [
      "Memory usage of dataframe is 17.55 MB\n",
      "Memory usage after optimization is: 8.54 MB\n",
      "Decreased by 51.4%\n"
     ]
    },
    {
     "name": "stderr",
     "output_type": "stream",
     "text": [
      "C:\\Users\\Elakkiya\\AppData\\Local\\Temp\\ipykernel_13232\\2303596474.py:44: DtypeWarning: Columns (25) have mixed types. Specify dtype option on import or set low_memory=False.\n",
      "  reduced_chunks = [reduce_memory_usage(chunk) for chunk in chunks]\n"
     ]
    },
    {
     "name": "stdout",
     "output_type": "stream",
     "text": [
      "Memory usage of dataframe is 17.55 MB\n",
      "Memory usage after optimization is: 8.54 MB\n",
      "Decreased by 51.4%\n"
     ]
    },
    {
     "name": "stderr",
     "output_type": "stream",
     "text": [
      "C:\\Users\\Elakkiya\\AppData\\Local\\Temp\\ipykernel_13232\\2303596474.py:44: DtypeWarning: Columns (25) have mixed types. Specify dtype option on import or set low_memory=False.\n",
      "  reduced_chunks = [reduce_memory_usage(chunk) for chunk in chunks]\n"
     ]
    },
    {
     "name": "stdout",
     "output_type": "stream",
     "text": [
      "Memory usage of dataframe is 17.55 MB\n",
      "Memory usage after optimization is: 8.54 MB\n",
      "Decreased by 51.4%\n",
      "Memory usage of dataframe is 17.55 MB\n",
      "Memory usage after optimization is: 8.25 MB\n",
      "Decreased by 53.0%\n"
     ]
    },
    {
     "name": "stderr",
     "output_type": "stream",
     "text": [
      "C:\\Users\\Elakkiya\\AppData\\Local\\Temp\\ipykernel_13232\\2303596474.py:44: DtypeWarning: Columns (25) have mixed types. Specify dtype option on import or set low_memory=False.\n",
      "  reduced_chunks = [reduce_memory_usage(chunk) for chunk in chunks]\n"
     ]
    },
    {
     "name": "stdout",
     "output_type": "stream",
     "text": [
      "Memory usage of dataframe is 17.55 MB\n",
      "Memory usage after optimization is: 8.54 MB\n",
      "Decreased by 51.4%\n"
     ]
    },
    {
     "name": "stderr",
     "output_type": "stream",
     "text": [
      "C:\\Users\\Elakkiya\\AppData\\Local\\Temp\\ipykernel_13232\\2303596474.py:44: DtypeWarning: Columns (25) have mixed types. Specify dtype option on import or set low_memory=False.\n",
      "  reduced_chunks = [reduce_memory_usage(chunk) for chunk in chunks]\n"
     ]
    },
    {
     "name": "stdout",
     "output_type": "stream",
     "text": [
      "Memory usage of dataframe is 17.55 MB\n",
      "Memory usage after optimization is: 8.54 MB\n",
      "Decreased by 51.4%\n",
      "Memory usage of dataframe is 17.55 MB\n",
      "Memory usage after optimization is: 8.25 MB\n",
      "Decreased by 53.0%\n"
     ]
    },
    {
     "name": "stderr",
     "output_type": "stream",
     "text": [
      "C:\\Users\\Elakkiya\\AppData\\Local\\Temp\\ipykernel_13232\\2303596474.py:44: DtypeWarning: Columns (25) have mixed types. Specify dtype option on import or set low_memory=False.\n",
      "  reduced_chunks = [reduce_memory_usage(chunk) for chunk in chunks]\n"
     ]
    },
    {
     "name": "stdout",
     "output_type": "stream",
     "text": [
      "Memory usage of dataframe is 17.55 MB\n",
      "Memory usage after optimization is: 8.54 MB\n",
      "Decreased by 51.4%\n"
     ]
    },
    {
     "name": "stderr",
     "output_type": "stream",
     "text": [
      "C:\\Users\\Elakkiya\\AppData\\Local\\Temp\\ipykernel_13232\\2303596474.py:44: DtypeWarning: Columns (25) have mixed types. Specify dtype option on import or set low_memory=False.\n",
      "  reduced_chunks = [reduce_memory_usage(chunk) for chunk in chunks]\n"
     ]
    },
    {
     "name": "stdout",
     "output_type": "stream",
     "text": [
      "Memory usage of dataframe is 17.55 MB\n",
      "Memory usage after optimization is: 8.54 MB\n",
      "Decreased by 51.4%\n"
     ]
    },
    {
     "name": "stderr",
     "output_type": "stream",
     "text": [
      "C:\\Users\\Elakkiya\\AppData\\Local\\Temp\\ipykernel_13232\\2303596474.py:44: DtypeWarning: Columns (25) have mixed types. Specify dtype option on import or set low_memory=False.\n",
      "  reduced_chunks = [reduce_memory_usage(chunk) for chunk in chunks]\n"
     ]
    },
    {
     "name": "stdout",
     "output_type": "stream",
     "text": [
      "Memory usage of dataframe is 17.55 MB\n",
      "Memory usage after optimization is: 8.54 MB\n",
      "Decreased by 51.4%\n"
     ]
    },
    {
     "name": "stderr",
     "output_type": "stream",
     "text": [
      "C:\\Users\\Elakkiya\\AppData\\Local\\Temp\\ipykernel_13232\\2303596474.py:44: DtypeWarning: Columns (25) have mixed types. Specify dtype option on import or set low_memory=False.\n",
      "  reduced_chunks = [reduce_memory_usage(chunk) for chunk in chunks]\n"
     ]
    },
    {
     "name": "stdout",
     "output_type": "stream",
     "text": [
      "Memory usage of dataframe is 17.55 MB\n",
      "Memory usage after optimization is: 8.54 MB\n",
      "Decreased by 51.4%\n"
     ]
    },
    {
     "name": "stderr",
     "output_type": "stream",
     "text": [
      "C:\\Users\\Elakkiya\\AppData\\Local\\Temp\\ipykernel_13232\\2303596474.py:44: DtypeWarning: Columns (25) have mixed types. Specify dtype option on import or set low_memory=False.\n",
      "  reduced_chunks = [reduce_memory_usage(chunk) for chunk in chunks]\n"
     ]
    },
    {
     "name": "stdout",
     "output_type": "stream",
     "text": [
      "Memory usage of dataframe is 17.55 MB\n",
      "Memory usage after optimization is: 8.54 MB\n",
      "Decreased by 51.4%\n"
     ]
    },
    {
     "name": "stderr",
     "output_type": "stream",
     "text": [
      "C:\\Users\\Elakkiya\\AppData\\Local\\Temp\\ipykernel_13232\\2303596474.py:44: DtypeWarning: Columns (25) have mixed types. Specify dtype option on import or set low_memory=False.\n",
      "  reduced_chunks = [reduce_memory_usage(chunk) for chunk in chunks]\n"
     ]
    },
    {
     "name": "stdout",
     "output_type": "stream",
     "text": [
      "Memory usage of dataframe is 17.55 MB\n",
      "Memory usage after optimization is: 8.54 MB\n",
      "Decreased by 51.4%\n"
     ]
    },
    {
     "name": "stderr",
     "output_type": "stream",
     "text": [
      "C:\\Users\\Elakkiya\\AppData\\Local\\Temp\\ipykernel_13232\\2303596474.py:44: DtypeWarning: Columns (25) have mixed types. Specify dtype option on import or set low_memory=False.\n",
      "  reduced_chunks = [reduce_memory_usage(chunk) for chunk in chunks]\n"
     ]
    },
    {
     "name": "stdout",
     "output_type": "stream",
     "text": [
      "Memory usage of dataframe is 17.55 MB\n",
      "Memory usage after optimization is: 8.54 MB\n",
      "Decreased by 51.4%\n"
     ]
    },
    {
     "name": "stderr",
     "output_type": "stream",
     "text": [
      "C:\\Users\\Elakkiya\\AppData\\Local\\Temp\\ipykernel_13232\\2303596474.py:44: DtypeWarning: Columns (25) have mixed types. Specify dtype option on import or set low_memory=False.\n",
      "  reduced_chunks = [reduce_memory_usage(chunk) for chunk in chunks]\n"
     ]
    },
    {
     "name": "stdout",
     "output_type": "stream",
     "text": [
      "Memory usage of dataframe is 17.55 MB\n",
      "Memory usage after optimization is: 8.54 MB\n",
      "Decreased by 51.4%\n"
     ]
    },
    {
     "name": "stderr",
     "output_type": "stream",
     "text": [
      "C:\\Users\\Elakkiya\\AppData\\Local\\Temp\\ipykernel_13232\\2303596474.py:44: DtypeWarning: Columns (25) have mixed types. Specify dtype option on import or set low_memory=False.\n",
      "  reduced_chunks = [reduce_memory_usage(chunk) for chunk in chunks]\n"
     ]
    },
    {
     "name": "stdout",
     "output_type": "stream",
     "text": [
      "Memory usage of dataframe is 17.55 MB\n",
      "Memory usage after optimization is: 8.54 MB\n",
      "Decreased by 51.4%\n"
     ]
    },
    {
     "name": "stderr",
     "output_type": "stream",
     "text": [
      "C:\\Users\\Elakkiya\\AppData\\Local\\Temp\\ipykernel_13232\\2303596474.py:44: DtypeWarning: Columns (25) have mixed types. Specify dtype option on import or set low_memory=False.\n",
      "  reduced_chunks = [reduce_memory_usage(chunk) for chunk in chunks]\n"
     ]
    },
    {
     "name": "stdout",
     "output_type": "stream",
     "text": [
      "Memory usage of dataframe is 17.55 MB\n",
      "Memory usage after optimization is: 8.54 MB\n",
      "Decreased by 51.4%\n"
     ]
    },
    {
     "name": "stderr",
     "output_type": "stream",
     "text": [
      "C:\\Users\\Elakkiya\\AppData\\Local\\Temp\\ipykernel_13232\\2303596474.py:44: DtypeWarning: Columns (25) have mixed types. Specify dtype option on import or set low_memory=False.\n",
      "  reduced_chunks = [reduce_memory_usage(chunk) for chunk in chunks]\n"
     ]
    },
    {
     "name": "stdout",
     "output_type": "stream",
     "text": [
      "Memory usage of dataframe is 17.55 MB\n",
      "Memory usage after optimization is: 8.54 MB\n",
      "Decreased by 51.4%\n"
     ]
    },
    {
     "name": "stderr",
     "output_type": "stream",
     "text": [
      "C:\\Users\\Elakkiya\\AppData\\Local\\Temp\\ipykernel_13232\\2303596474.py:44: DtypeWarning: Columns (25) have mixed types. Specify dtype option on import or set low_memory=False.\n",
      "  reduced_chunks = [reduce_memory_usage(chunk) for chunk in chunks]\n"
     ]
    },
    {
     "name": "stdout",
     "output_type": "stream",
     "text": [
      "Memory usage of dataframe is 17.55 MB\n",
      "Memory usage after optimization is: 8.54 MB\n",
      "Decreased by 51.4%\n"
     ]
    },
    {
     "name": "stderr",
     "output_type": "stream",
     "text": [
      "C:\\Users\\Elakkiya\\AppData\\Local\\Temp\\ipykernel_13232\\2303596474.py:44: DtypeWarning: Columns (6,25) have mixed types. Specify dtype option on import or set low_memory=False.\n",
      "  reduced_chunks = [reduce_memory_usage(chunk) for chunk in chunks]\n"
     ]
    },
    {
     "name": "stdout",
     "output_type": "stream",
     "text": [
      "Memory usage of dataframe is 17.55 MB\n",
      "Memory usage after optimization is: 8.87 MB\n",
      "Decreased by 49.5%\n"
     ]
    },
    {
     "name": "stderr",
     "output_type": "stream",
     "text": [
      "C:\\Users\\Elakkiya\\AppData\\Local\\Temp\\ipykernel_13232\\2303596474.py:44: DtypeWarning: Columns (25) have mixed types. Specify dtype option on import or set low_memory=False.\n",
      "  reduced_chunks = [reduce_memory_usage(chunk) for chunk in chunks]\n"
     ]
    },
    {
     "name": "stdout",
     "output_type": "stream",
     "text": [
      "Memory usage of dataframe is 17.55 MB\n",
      "Memory usage after optimization is: 8.54 MB\n",
      "Decreased by 51.4%\n"
     ]
    },
    {
     "name": "stderr",
     "output_type": "stream",
     "text": [
      "C:\\Users\\Elakkiya\\AppData\\Local\\Temp\\ipykernel_13232\\2303596474.py:44: DtypeWarning: Columns (25) have mixed types. Specify dtype option on import or set low_memory=False.\n",
      "  reduced_chunks = [reduce_memory_usage(chunk) for chunk in chunks]\n"
     ]
    },
    {
     "name": "stdout",
     "output_type": "stream",
     "text": [
      "Memory usage of dataframe is 17.55 MB\n",
      "Memory usage after optimization is: 8.54 MB\n",
      "Decreased by 51.4%\n",
      "Memory usage of dataframe is 17.55 MB\n",
      "Memory usage after optimization is: 8.25 MB\n",
      "Decreased by 53.0%\n"
     ]
    },
    {
     "name": "stderr",
     "output_type": "stream",
     "text": [
      "C:\\Users\\Elakkiya\\AppData\\Local\\Temp\\ipykernel_13232\\2303596474.py:44: DtypeWarning: Columns (25) have mixed types. Specify dtype option on import or set low_memory=False.\n",
      "  reduced_chunks = [reduce_memory_usage(chunk) for chunk in chunks]\n"
     ]
    },
    {
     "name": "stdout",
     "output_type": "stream",
     "text": [
      "Memory usage of dataframe is 17.55 MB\n",
      "Memory usage after optimization is: 8.54 MB\n",
      "Decreased by 51.4%\n"
     ]
    },
    {
     "name": "stderr",
     "output_type": "stream",
     "text": [
      "C:\\Users\\Elakkiya\\AppData\\Local\\Temp\\ipykernel_13232\\2303596474.py:44: DtypeWarning: Columns (25) have mixed types. Specify dtype option on import or set low_memory=False.\n",
      "  reduced_chunks = [reduce_memory_usage(chunk) for chunk in chunks]\n"
     ]
    },
    {
     "name": "stdout",
     "output_type": "stream",
     "text": [
      "Memory usage of dataframe is 17.55 MB\n",
      "Memory usage after optimization is: 8.54 MB\n",
      "Decreased by 51.4%\n"
     ]
    },
    {
     "name": "stderr",
     "output_type": "stream",
     "text": [
      "C:\\Users\\Elakkiya\\AppData\\Local\\Temp\\ipykernel_13232\\2303596474.py:44: DtypeWarning: Columns (25) have mixed types. Specify dtype option on import or set low_memory=False.\n",
      "  reduced_chunks = [reduce_memory_usage(chunk) for chunk in chunks]\n"
     ]
    },
    {
     "name": "stdout",
     "output_type": "stream",
     "text": [
      "Memory usage of dataframe is 17.55 MB\n",
      "Memory usage after optimization is: 8.54 MB\n",
      "Decreased by 51.4%\n"
     ]
    },
    {
     "name": "stderr",
     "output_type": "stream",
     "text": [
      "C:\\Users\\Elakkiya\\AppData\\Local\\Temp\\ipykernel_13232\\2303596474.py:44: DtypeWarning: Columns (25) have mixed types. Specify dtype option on import or set low_memory=False.\n",
      "  reduced_chunks = [reduce_memory_usage(chunk) for chunk in chunks]\n"
     ]
    },
    {
     "name": "stdout",
     "output_type": "stream",
     "text": [
      "Memory usage of dataframe is 17.55 MB\n",
      "Memory usage after optimization is: 8.54 MB\n",
      "Decreased by 51.4%\n"
     ]
    },
    {
     "name": "stderr",
     "output_type": "stream",
     "text": [
      "C:\\Users\\Elakkiya\\AppData\\Local\\Temp\\ipykernel_13232\\2303596474.py:44: DtypeWarning: Columns (25) have mixed types. Specify dtype option on import or set low_memory=False.\n",
      "  reduced_chunks = [reduce_memory_usage(chunk) for chunk in chunks]\n"
     ]
    },
    {
     "name": "stdout",
     "output_type": "stream",
     "text": [
      "Memory usage of dataframe is 17.55 MB\n",
      "Memory usage after optimization is: 8.54 MB\n",
      "Decreased by 51.4%\n"
     ]
    },
    {
     "name": "stderr",
     "output_type": "stream",
     "text": [
      "C:\\Users\\Elakkiya\\AppData\\Local\\Temp\\ipykernel_13232\\2303596474.py:44: DtypeWarning: Columns (25) have mixed types. Specify dtype option on import or set low_memory=False.\n",
      "  reduced_chunks = [reduce_memory_usage(chunk) for chunk in chunks]\n"
     ]
    },
    {
     "name": "stdout",
     "output_type": "stream",
     "text": [
      "Memory usage of dataframe is 17.55 MB\n",
      "Memory usage after optimization is: 8.54 MB\n",
      "Decreased by 51.4%\n"
     ]
    },
    {
     "name": "stderr",
     "output_type": "stream",
     "text": [
      "C:\\Users\\Elakkiya\\AppData\\Local\\Temp\\ipykernel_13232\\2303596474.py:44: DtypeWarning: Columns (25) have mixed types. Specify dtype option on import or set low_memory=False.\n",
      "  reduced_chunks = [reduce_memory_usage(chunk) for chunk in chunks]\n"
     ]
    },
    {
     "name": "stdout",
     "output_type": "stream",
     "text": [
      "Memory usage of dataframe is 17.55 MB\n",
      "Memory usage after optimization is: 8.54 MB\n",
      "Decreased by 51.4%\n"
     ]
    },
    {
     "name": "stderr",
     "output_type": "stream",
     "text": [
      "C:\\Users\\Elakkiya\\AppData\\Local\\Temp\\ipykernel_13232\\2303596474.py:44: DtypeWarning: Columns (25) have mixed types. Specify dtype option on import or set low_memory=False.\n",
      "  reduced_chunks = [reduce_memory_usage(chunk) for chunk in chunks]\n"
     ]
    },
    {
     "name": "stdout",
     "output_type": "stream",
     "text": [
      "Memory usage of dataframe is 17.55 MB\n",
      "Memory usage after optimization is: 8.54 MB\n",
      "Decreased by 51.4%\n"
     ]
    },
    {
     "name": "stderr",
     "output_type": "stream",
     "text": [
      "C:\\Users\\Elakkiya\\AppData\\Local\\Temp\\ipykernel_13232\\2303596474.py:44: DtypeWarning: Columns (6,25) have mixed types. Specify dtype option on import or set low_memory=False.\n",
      "  reduced_chunks = [reduce_memory_usage(chunk) for chunk in chunks]\n"
     ]
    },
    {
     "name": "stdout",
     "output_type": "stream",
     "text": [
      "Memory usage of dataframe is 17.55 MB\n",
      "Memory usage after optimization is: 8.87 MB\n",
      "Decreased by 49.5%\n"
     ]
    },
    {
     "name": "stderr",
     "output_type": "stream",
     "text": [
      "C:\\Users\\Elakkiya\\AppData\\Local\\Temp\\ipykernel_13232\\2303596474.py:44: DtypeWarning: Columns (25) have mixed types. Specify dtype option on import or set low_memory=False.\n",
      "  reduced_chunks = [reduce_memory_usage(chunk) for chunk in chunks]\n"
     ]
    },
    {
     "name": "stdout",
     "output_type": "stream",
     "text": [
      "Memory usage of dataframe is 17.55 MB\n",
      "Memory usage after optimization is: 8.54 MB\n",
      "Decreased by 51.4%\n"
     ]
    },
    {
     "name": "stderr",
     "output_type": "stream",
     "text": [
      "C:\\Users\\Elakkiya\\AppData\\Local\\Temp\\ipykernel_13232\\2303596474.py:44: DtypeWarning: Columns (25) have mixed types. Specify dtype option on import or set low_memory=False.\n",
      "  reduced_chunks = [reduce_memory_usage(chunk) for chunk in chunks]\n"
     ]
    },
    {
     "name": "stdout",
     "output_type": "stream",
     "text": [
      "Memory usage of dataframe is 17.55 MB\n",
      "Memory usage after optimization is: 8.54 MB\n",
      "Decreased by 51.4%\n"
     ]
    },
    {
     "name": "stderr",
     "output_type": "stream",
     "text": [
      "C:\\Users\\Elakkiya\\AppData\\Local\\Temp\\ipykernel_13232\\2303596474.py:44: DtypeWarning: Columns (25) have mixed types. Specify dtype option on import or set low_memory=False.\n",
      "  reduced_chunks = [reduce_memory_usage(chunk) for chunk in chunks]\n"
     ]
    },
    {
     "name": "stdout",
     "output_type": "stream",
     "text": [
      "Memory usage of dataframe is 17.55 MB\n",
      "Memory usage after optimization is: 8.54 MB\n",
      "Decreased by 51.4%\n"
     ]
    },
    {
     "name": "stderr",
     "output_type": "stream",
     "text": [
      "C:\\Users\\Elakkiya\\AppData\\Local\\Temp\\ipykernel_13232\\2303596474.py:44: DtypeWarning: Columns (25) have mixed types. Specify dtype option on import or set low_memory=False.\n",
      "  reduced_chunks = [reduce_memory_usage(chunk) for chunk in chunks]\n"
     ]
    },
    {
     "name": "stdout",
     "output_type": "stream",
     "text": [
      "Memory usage of dataframe is 17.55 MB\n",
      "Memory usage after optimization is: 8.54 MB\n",
      "Decreased by 51.4%\n"
     ]
    },
    {
     "name": "stderr",
     "output_type": "stream",
     "text": [
      "C:\\Users\\Elakkiya\\AppData\\Local\\Temp\\ipykernel_13232\\2303596474.py:44: DtypeWarning: Columns (25) have mixed types. Specify dtype option on import or set low_memory=False.\n",
      "  reduced_chunks = [reduce_memory_usage(chunk) for chunk in chunks]\n"
     ]
    },
    {
     "name": "stdout",
     "output_type": "stream",
     "text": [
      "Memory usage of dataframe is 17.55 MB\n",
      "Memory usage after optimization is: 8.54 MB\n",
      "Decreased by 51.4%\n"
     ]
    },
    {
     "name": "stderr",
     "output_type": "stream",
     "text": [
      "C:\\Users\\Elakkiya\\AppData\\Local\\Temp\\ipykernel_13232\\2303596474.py:44: DtypeWarning: Columns (25) have mixed types. Specify dtype option on import or set low_memory=False.\n",
      "  reduced_chunks = [reduce_memory_usage(chunk) for chunk in chunks]\n"
     ]
    },
    {
     "name": "stdout",
     "output_type": "stream",
     "text": [
      "Memory usage of dataframe is 17.55 MB\n",
      "Memory usage after optimization is: 8.54 MB\n",
      "Decreased by 51.4%\n"
     ]
    },
    {
     "name": "stderr",
     "output_type": "stream",
     "text": [
      "C:\\Users\\Elakkiya\\AppData\\Local\\Temp\\ipykernel_13232\\2303596474.py:44: DtypeWarning: Columns (25) have mixed types. Specify dtype option on import or set low_memory=False.\n",
      "  reduced_chunks = [reduce_memory_usage(chunk) for chunk in chunks]\n"
     ]
    },
    {
     "name": "stdout",
     "output_type": "stream",
     "text": [
      "Memory usage of dataframe is 17.55 MB\n",
      "Memory usage after optimization is: 8.54 MB\n",
      "Decreased by 51.4%\n"
     ]
    },
    {
     "name": "stderr",
     "output_type": "stream",
     "text": [
      "C:\\Users\\Elakkiya\\AppData\\Local\\Temp\\ipykernel_13232\\2303596474.py:44: DtypeWarning: Columns (25) have mixed types. Specify dtype option on import or set low_memory=False.\n",
      "  reduced_chunks = [reduce_memory_usage(chunk) for chunk in chunks]\n"
     ]
    },
    {
     "name": "stdout",
     "output_type": "stream",
     "text": [
      "Memory usage of dataframe is 17.55 MB\n",
      "Memory usage after optimization is: 8.54 MB\n",
      "Decreased by 51.4%\n"
     ]
    },
    {
     "name": "stderr",
     "output_type": "stream",
     "text": [
      "C:\\Users\\Elakkiya\\AppData\\Local\\Temp\\ipykernel_13232\\2303596474.py:44: DtypeWarning: Columns (25) have mixed types. Specify dtype option on import or set low_memory=False.\n",
      "  reduced_chunks = [reduce_memory_usage(chunk) for chunk in chunks]\n"
     ]
    },
    {
     "name": "stdout",
     "output_type": "stream",
     "text": [
      "Memory usage of dataframe is 17.55 MB\n",
      "Memory usage after optimization is: 8.54 MB\n",
      "Decreased by 51.4%\n"
     ]
    },
    {
     "name": "stderr",
     "output_type": "stream",
     "text": [
      "C:\\Users\\Elakkiya\\AppData\\Local\\Temp\\ipykernel_13232\\2303596474.py:44: DtypeWarning: Columns (25) have mixed types. Specify dtype option on import or set low_memory=False.\n",
      "  reduced_chunks = [reduce_memory_usage(chunk) for chunk in chunks]\n"
     ]
    },
    {
     "name": "stdout",
     "output_type": "stream",
     "text": [
      "Memory usage of dataframe is 17.55 MB\n",
      "Memory usage after optimization is: 8.54 MB\n",
      "Decreased by 51.4%\n"
     ]
    },
    {
     "name": "stderr",
     "output_type": "stream",
     "text": [
      "C:\\Users\\Elakkiya\\AppData\\Local\\Temp\\ipykernel_13232\\2303596474.py:44: DtypeWarning: Columns (25) have mixed types. Specify dtype option on import or set low_memory=False.\n",
      "  reduced_chunks = [reduce_memory_usage(chunk) for chunk in chunks]\n"
     ]
    },
    {
     "name": "stdout",
     "output_type": "stream",
     "text": [
      "Memory usage of dataframe is 17.55 MB\n",
      "Memory usage after optimization is: 8.54 MB\n",
      "Decreased by 51.4%\n"
     ]
    },
    {
     "name": "stderr",
     "output_type": "stream",
     "text": [
      "C:\\Users\\Elakkiya\\AppData\\Local\\Temp\\ipykernel_13232\\2303596474.py:44: DtypeWarning: Columns (25) have mixed types. Specify dtype option on import or set low_memory=False.\n",
      "  reduced_chunks = [reduce_memory_usage(chunk) for chunk in chunks]\n"
     ]
    },
    {
     "name": "stdout",
     "output_type": "stream",
     "text": [
      "Memory usage of dataframe is 17.55 MB\n",
      "Memory usage after optimization is: 8.54 MB\n",
      "Decreased by 51.4%\n"
     ]
    },
    {
     "name": "stderr",
     "output_type": "stream",
     "text": [
      "C:\\Users\\Elakkiya\\AppData\\Local\\Temp\\ipykernel_13232\\2303596474.py:44: DtypeWarning: Columns (25) have mixed types. Specify dtype option on import or set low_memory=False.\n",
      "  reduced_chunks = [reduce_memory_usage(chunk) for chunk in chunks]\n"
     ]
    },
    {
     "name": "stdout",
     "output_type": "stream",
     "text": [
      "Memory usage of dataframe is 17.55 MB\n",
      "Memory usage after optimization is: 8.54 MB\n",
      "Decreased by 51.4%\n",
      "Memory usage of dataframe is 17.55 MB\n",
      "Memory usage after optimization is: 8.54 MB\n",
      "Decreased by 51.4%\n"
     ]
    },
    {
     "name": "stderr",
     "output_type": "stream",
     "text": [
      "C:\\Users\\Elakkiya\\AppData\\Local\\Temp\\ipykernel_13232\\2303596474.py:44: DtypeWarning: Columns (25) have mixed types. Specify dtype option on import or set low_memory=False.\n",
      "  reduced_chunks = [reduce_memory_usage(chunk) for chunk in chunks]\n"
     ]
    },
    {
     "name": "stdout",
     "output_type": "stream",
     "text": [
      "Memory usage of dataframe is 17.55 MB\n",
      "Memory usage after optimization is: 8.54 MB\n",
      "Decreased by 51.4%\n"
     ]
    },
    {
     "name": "stderr",
     "output_type": "stream",
     "text": [
      "C:\\Users\\Elakkiya\\AppData\\Local\\Temp\\ipykernel_13232\\2303596474.py:44: DtypeWarning: Columns (25) have mixed types. Specify dtype option on import or set low_memory=False.\n",
      "  reduced_chunks = [reduce_memory_usage(chunk) for chunk in chunks]\n"
     ]
    },
    {
     "name": "stdout",
     "output_type": "stream",
     "text": [
      "Memory usage of dataframe is 17.55 MB\n",
      "Memory usage after optimization is: 8.54 MB\n",
      "Decreased by 51.4%\n"
     ]
    },
    {
     "name": "stderr",
     "output_type": "stream",
     "text": [
      "C:\\Users\\Elakkiya\\AppData\\Local\\Temp\\ipykernel_13232\\2303596474.py:44: DtypeWarning: Columns (25) have mixed types. Specify dtype option on import or set low_memory=False.\n",
      "  reduced_chunks = [reduce_memory_usage(chunk) for chunk in chunks]\n"
     ]
    },
    {
     "name": "stdout",
     "output_type": "stream",
     "text": [
      "Memory usage of dataframe is 17.55 MB\n",
      "Memory usage after optimization is: 8.54 MB\n",
      "Decreased by 51.4%\n"
     ]
    },
    {
     "name": "stderr",
     "output_type": "stream",
     "text": [
      "C:\\Users\\Elakkiya\\AppData\\Local\\Temp\\ipykernel_13232\\2303596474.py:44: DtypeWarning: Columns (25) have mixed types. Specify dtype option on import or set low_memory=False.\n",
      "  reduced_chunks = [reduce_memory_usage(chunk) for chunk in chunks]\n"
     ]
    },
    {
     "name": "stdout",
     "output_type": "stream",
     "text": [
      "Memory usage of dataframe is 17.55 MB\n",
      "Memory usage after optimization is: 8.54 MB\n",
      "Decreased by 51.4%\n"
     ]
    },
    {
     "name": "stderr",
     "output_type": "stream",
     "text": [
      "C:\\Users\\Elakkiya\\AppData\\Local\\Temp\\ipykernel_13232\\2303596474.py:44: DtypeWarning: Columns (25) have mixed types. Specify dtype option on import or set low_memory=False.\n",
      "  reduced_chunks = [reduce_memory_usage(chunk) for chunk in chunks]\n"
     ]
    },
    {
     "name": "stdout",
     "output_type": "stream",
     "text": [
      "Memory usage of dataframe is 17.55 MB\n",
      "Memory usage after optimization is: 8.54 MB\n",
      "Decreased by 51.4%\n"
     ]
    },
    {
     "name": "stderr",
     "output_type": "stream",
     "text": [
      "C:\\Users\\Elakkiya\\AppData\\Local\\Temp\\ipykernel_13232\\2303596474.py:44: DtypeWarning: Columns (25) have mixed types. Specify dtype option on import or set low_memory=False.\n",
      "  reduced_chunks = [reduce_memory_usage(chunk) for chunk in chunks]\n"
     ]
    },
    {
     "name": "stdout",
     "output_type": "stream",
     "text": [
      "Memory usage of dataframe is 17.55 MB\n",
      "Memory usage after optimization is: 8.54 MB\n",
      "Decreased by 51.4%\n"
     ]
    },
    {
     "name": "stderr",
     "output_type": "stream",
     "text": [
      "C:\\Users\\Elakkiya\\AppData\\Local\\Temp\\ipykernel_13232\\2303596474.py:44: DtypeWarning: Columns (25) have mixed types. Specify dtype option on import or set low_memory=False.\n",
      "  reduced_chunks = [reduce_memory_usage(chunk) for chunk in chunks]\n"
     ]
    },
    {
     "name": "stdout",
     "output_type": "stream",
     "text": [
      "Memory usage of dataframe is 17.55 MB\n",
      "Memory usage after optimization is: 8.54 MB\n",
      "Decreased by 51.4%\n"
     ]
    },
    {
     "name": "stderr",
     "output_type": "stream",
     "text": [
      "C:\\Users\\Elakkiya\\AppData\\Local\\Temp\\ipykernel_13232\\2303596474.py:44: DtypeWarning: Columns (25) have mixed types. Specify dtype option on import or set low_memory=False.\n",
      "  reduced_chunks = [reduce_memory_usage(chunk) for chunk in chunks]\n"
     ]
    },
    {
     "name": "stdout",
     "output_type": "stream",
     "text": [
      "Memory usage of dataframe is 17.55 MB\n",
      "Memory usage after optimization is: 8.54 MB\n",
      "Decreased by 51.4%\n"
     ]
    },
    {
     "name": "stderr",
     "output_type": "stream",
     "text": [
      "C:\\Users\\Elakkiya\\AppData\\Local\\Temp\\ipykernel_13232\\2303596474.py:44: DtypeWarning: Columns (25) have mixed types. Specify dtype option on import or set low_memory=False.\n",
      "  reduced_chunks = [reduce_memory_usage(chunk) for chunk in chunks]\n"
     ]
    },
    {
     "name": "stdout",
     "output_type": "stream",
     "text": [
      "Memory usage of dataframe is 17.55 MB\n",
      "Memory usage after optimization is: 8.54 MB\n",
      "Decreased by 51.4%\n"
     ]
    },
    {
     "name": "stderr",
     "output_type": "stream",
     "text": [
      "C:\\Users\\Elakkiya\\AppData\\Local\\Temp\\ipykernel_13232\\2303596474.py:44: DtypeWarning: Columns (25) have mixed types. Specify dtype option on import or set low_memory=False.\n",
      "  reduced_chunks = [reduce_memory_usage(chunk) for chunk in chunks]\n"
     ]
    },
    {
     "name": "stdout",
     "output_type": "stream",
     "text": [
      "Memory usage of dataframe is 17.55 MB\n",
      "Memory usage after optimization is: 8.54 MB\n",
      "Decreased by 51.4%\n"
     ]
    },
    {
     "name": "stderr",
     "output_type": "stream",
     "text": [
      "C:\\Users\\Elakkiya\\AppData\\Local\\Temp\\ipykernel_13232\\2303596474.py:44: DtypeWarning: Columns (25) have mixed types. Specify dtype option on import or set low_memory=False.\n",
      "  reduced_chunks = [reduce_memory_usage(chunk) for chunk in chunks]\n"
     ]
    },
    {
     "name": "stdout",
     "output_type": "stream",
     "text": [
      "Memory usage of dataframe is 17.55 MB\n",
      "Memory usage after optimization is: 8.54 MB\n",
      "Decreased by 51.4%\n"
     ]
    },
    {
     "name": "stderr",
     "output_type": "stream",
     "text": [
      "C:\\Users\\Elakkiya\\AppData\\Local\\Temp\\ipykernel_13232\\2303596474.py:44: DtypeWarning: Columns (25) have mixed types. Specify dtype option on import or set low_memory=False.\n",
      "  reduced_chunks = [reduce_memory_usage(chunk) for chunk in chunks]\n"
     ]
    },
    {
     "name": "stdout",
     "output_type": "stream",
     "text": [
      "Memory usage of dataframe is 17.55 MB\n",
      "Memory usage after optimization is: 8.54 MB\n",
      "Decreased by 51.4%\n"
     ]
    },
    {
     "name": "stderr",
     "output_type": "stream",
     "text": [
      "C:\\Users\\Elakkiya\\AppData\\Local\\Temp\\ipykernel_13232\\2303596474.py:44: DtypeWarning: Columns (25) have mixed types. Specify dtype option on import or set low_memory=False.\n",
      "  reduced_chunks = [reduce_memory_usage(chunk) for chunk in chunks]\n"
     ]
    },
    {
     "name": "stdout",
     "output_type": "stream",
     "text": [
      "Memory usage of dataframe is 17.55 MB\n",
      "Memory usage after optimization is: 8.54 MB\n",
      "Decreased by 51.4%\n"
     ]
    },
    {
     "name": "stderr",
     "output_type": "stream",
     "text": [
      "C:\\Users\\Elakkiya\\AppData\\Local\\Temp\\ipykernel_13232\\2303596474.py:44: DtypeWarning: Columns (25) have mixed types. Specify dtype option on import or set low_memory=False.\n",
      "  reduced_chunks = [reduce_memory_usage(chunk) for chunk in chunks]\n"
     ]
    },
    {
     "name": "stdout",
     "output_type": "stream",
     "text": [
      "Memory usage of dataframe is 17.55 MB\n",
      "Memory usage after optimization is: 8.54 MB\n",
      "Decreased by 51.4%\n"
     ]
    },
    {
     "name": "stderr",
     "output_type": "stream",
     "text": [
      "C:\\Users\\Elakkiya\\AppData\\Local\\Temp\\ipykernel_13232\\2303596474.py:44: DtypeWarning: Columns (25) have mixed types. Specify dtype option on import or set low_memory=False.\n",
      "  reduced_chunks = [reduce_memory_usage(chunk) for chunk in chunks]\n"
     ]
    },
    {
     "name": "stdout",
     "output_type": "stream",
     "text": [
      "Memory usage of dataframe is 17.55 MB\n",
      "Memory usage after optimization is: 8.54 MB\n",
      "Decreased by 51.4%\n"
     ]
    },
    {
     "name": "stderr",
     "output_type": "stream",
     "text": [
      "C:\\Users\\Elakkiya\\AppData\\Local\\Temp\\ipykernel_13232\\2303596474.py:44: DtypeWarning: Columns (25) have mixed types. Specify dtype option on import or set low_memory=False.\n",
      "  reduced_chunks = [reduce_memory_usage(chunk) for chunk in chunks]\n"
     ]
    },
    {
     "name": "stdout",
     "output_type": "stream",
     "text": [
      "Memory usage of dataframe is 17.55 MB\n",
      "Memory usage after optimization is: 8.54 MB\n",
      "Decreased by 51.4%\n"
     ]
    },
    {
     "name": "stderr",
     "output_type": "stream",
     "text": [
      "C:\\Users\\Elakkiya\\AppData\\Local\\Temp\\ipykernel_13232\\2303596474.py:44: DtypeWarning: Columns (25) have mixed types. Specify dtype option on import or set low_memory=False.\n",
      "  reduced_chunks = [reduce_memory_usage(chunk) for chunk in chunks]\n"
     ]
    },
    {
     "name": "stdout",
     "output_type": "stream",
     "text": [
      "Memory usage of dataframe is 17.55 MB\n",
      "Memory usage after optimization is: 8.54 MB\n",
      "Decreased by 51.4%\n"
     ]
    },
    {
     "name": "stderr",
     "output_type": "stream",
     "text": [
      "C:\\Users\\Elakkiya\\AppData\\Local\\Temp\\ipykernel_13232\\2303596474.py:44: DtypeWarning: Columns (25) have mixed types. Specify dtype option on import or set low_memory=False.\n",
      "  reduced_chunks = [reduce_memory_usage(chunk) for chunk in chunks]\n"
     ]
    },
    {
     "name": "stdout",
     "output_type": "stream",
     "text": [
      "Memory usage of dataframe is 17.55 MB\n",
      "Memory usage after optimization is: 8.54 MB\n",
      "Decreased by 51.4%\n"
     ]
    },
    {
     "name": "stderr",
     "output_type": "stream",
     "text": [
      "C:\\Users\\Elakkiya\\AppData\\Local\\Temp\\ipykernel_13232\\2303596474.py:44: DtypeWarning: Columns (25) have mixed types. Specify dtype option on import or set low_memory=False.\n",
      "  reduced_chunks = [reduce_memory_usage(chunk) for chunk in chunks]\n"
     ]
    },
    {
     "name": "stdout",
     "output_type": "stream",
     "text": [
      "Memory usage of dataframe is 17.55 MB\n",
      "Memory usage after optimization is: 8.54 MB\n",
      "Decreased by 51.4%\n"
     ]
    },
    {
     "name": "stderr",
     "output_type": "stream",
     "text": [
      "C:\\Users\\Elakkiya\\AppData\\Local\\Temp\\ipykernel_13232\\2303596474.py:44: DtypeWarning: Columns (25) have mixed types. Specify dtype option on import or set low_memory=False.\n",
      "  reduced_chunks = [reduce_memory_usage(chunk) for chunk in chunks]\n"
     ]
    },
    {
     "name": "stdout",
     "output_type": "stream",
     "text": [
      "Memory usage of dataframe is 17.55 MB\n",
      "Memory usage after optimization is: 8.54 MB\n",
      "Decreased by 51.4%\n"
     ]
    },
    {
     "name": "stderr",
     "output_type": "stream",
     "text": [
      "C:\\Users\\Elakkiya\\AppData\\Local\\Temp\\ipykernel_13232\\2303596474.py:44: DtypeWarning: Columns (25) have mixed types. Specify dtype option on import or set low_memory=False.\n",
      "  reduced_chunks = [reduce_memory_usage(chunk) for chunk in chunks]\n"
     ]
    },
    {
     "name": "stdout",
     "output_type": "stream",
     "text": [
      "Memory usage of dataframe is 17.55 MB\n",
      "Memory usage after optimization is: 8.54 MB\n",
      "Decreased by 51.4%\n"
     ]
    },
    {
     "name": "stderr",
     "output_type": "stream",
     "text": [
      "C:\\Users\\Elakkiya\\AppData\\Local\\Temp\\ipykernel_13232\\2303596474.py:44: DtypeWarning: Columns (25) have mixed types. Specify dtype option on import or set low_memory=False.\n",
      "  reduced_chunks = [reduce_memory_usage(chunk) for chunk in chunks]\n"
     ]
    },
    {
     "name": "stdout",
     "output_type": "stream",
     "text": [
      "Memory usage of dataframe is 17.55 MB\n",
      "Memory usage after optimization is: 8.54 MB\n",
      "Decreased by 51.4%\n"
     ]
    },
    {
     "name": "stderr",
     "output_type": "stream",
     "text": [
      "C:\\Users\\Elakkiya\\AppData\\Local\\Temp\\ipykernel_13232\\2303596474.py:44: DtypeWarning: Columns (6,25) have mixed types. Specify dtype option on import or set low_memory=False.\n",
      "  reduced_chunks = [reduce_memory_usage(chunk) for chunk in chunks]\n"
     ]
    },
    {
     "name": "stdout",
     "output_type": "stream",
     "text": [
      "Memory usage of dataframe is 17.55 MB\n",
      "Memory usage after optimization is: 8.87 MB\n",
      "Decreased by 49.5%\n"
     ]
    },
    {
     "name": "stderr",
     "output_type": "stream",
     "text": [
      "C:\\Users\\Elakkiya\\AppData\\Local\\Temp\\ipykernel_13232\\2303596474.py:44: DtypeWarning: Columns (25) have mixed types. Specify dtype option on import or set low_memory=False.\n",
      "  reduced_chunks = [reduce_memory_usage(chunk) for chunk in chunks]\n"
     ]
    },
    {
     "name": "stdout",
     "output_type": "stream",
     "text": [
      "Memory usage of dataframe is 17.55 MB\n",
      "Memory usage after optimization is: 8.54 MB\n",
      "Decreased by 51.4%\n"
     ]
    },
    {
     "name": "stderr",
     "output_type": "stream",
     "text": [
      "C:\\Users\\Elakkiya\\AppData\\Local\\Temp\\ipykernel_13232\\2303596474.py:44: DtypeWarning: Columns (25) have mixed types. Specify dtype option on import or set low_memory=False.\n",
      "  reduced_chunks = [reduce_memory_usage(chunk) for chunk in chunks]\n"
     ]
    },
    {
     "name": "stdout",
     "output_type": "stream",
     "text": [
      "Memory usage of dataframe is 17.55 MB\n",
      "Memory usage after optimization is: 8.54 MB\n",
      "Decreased by 51.4%\n"
     ]
    },
    {
     "name": "stderr",
     "output_type": "stream",
     "text": [
      "C:\\Users\\Elakkiya\\AppData\\Local\\Temp\\ipykernel_13232\\2303596474.py:44: DtypeWarning: Columns (25) have mixed types. Specify dtype option on import or set low_memory=False.\n",
      "  reduced_chunks = [reduce_memory_usage(chunk) for chunk in chunks]\n"
     ]
    },
    {
     "name": "stdout",
     "output_type": "stream",
     "text": [
      "Memory usage of dataframe is 17.55 MB\n",
      "Memory usage after optimization is: 8.54 MB\n",
      "Decreased by 51.4%\n"
     ]
    },
    {
     "name": "stderr",
     "output_type": "stream",
     "text": [
      "C:\\Users\\Elakkiya\\AppData\\Local\\Temp\\ipykernel_13232\\2303596474.py:44: DtypeWarning: Columns (25) have mixed types. Specify dtype option on import or set low_memory=False.\n",
      "  reduced_chunks = [reduce_memory_usage(chunk) for chunk in chunks]\n"
     ]
    },
    {
     "name": "stdout",
     "output_type": "stream",
     "text": [
      "Memory usage of dataframe is 17.55 MB\n",
      "Memory usage after optimization is: 8.54 MB\n",
      "Decreased by 51.4%\n"
     ]
    },
    {
     "name": "stderr",
     "output_type": "stream",
     "text": [
      "C:\\Users\\Elakkiya\\AppData\\Local\\Temp\\ipykernel_13232\\2303596474.py:44: DtypeWarning: Columns (25) have mixed types. Specify dtype option on import or set low_memory=False.\n",
      "  reduced_chunks = [reduce_memory_usage(chunk) for chunk in chunks]\n"
     ]
    },
    {
     "name": "stdout",
     "output_type": "stream",
     "text": [
      "Memory usage of dataframe is 17.55 MB\n",
      "Memory usage after optimization is: 8.54 MB\n",
      "Decreased by 51.4%\n"
     ]
    },
    {
     "name": "stderr",
     "output_type": "stream",
     "text": [
      "C:\\Users\\Elakkiya\\AppData\\Local\\Temp\\ipykernel_13232\\2303596474.py:44: DtypeWarning: Columns (25) have mixed types. Specify dtype option on import or set low_memory=False.\n",
      "  reduced_chunks = [reduce_memory_usage(chunk) for chunk in chunks]\n"
     ]
    },
    {
     "name": "stdout",
     "output_type": "stream",
     "text": [
      "Memory usage of dataframe is 17.55 MB\n",
      "Memory usage after optimization is: 8.54 MB\n",
      "Decreased by 51.4%\n"
     ]
    },
    {
     "name": "stderr",
     "output_type": "stream",
     "text": [
      "C:\\Users\\Elakkiya\\AppData\\Local\\Temp\\ipykernel_13232\\2303596474.py:44: DtypeWarning: Columns (25) have mixed types. Specify dtype option on import or set low_memory=False.\n",
      "  reduced_chunks = [reduce_memory_usage(chunk) for chunk in chunks]\n"
     ]
    },
    {
     "name": "stdout",
     "output_type": "stream",
     "text": [
      "Memory usage of dataframe is 17.55 MB\n",
      "Memory usage after optimization is: 8.54 MB\n",
      "Decreased by 51.4%\n"
     ]
    },
    {
     "name": "stderr",
     "output_type": "stream",
     "text": [
      "C:\\Users\\Elakkiya\\AppData\\Local\\Temp\\ipykernel_13232\\2303596474.py:44: DtypeWarning: Columns (25) have mixed types. Specify dtype option on import or set low_memory=False.\n",
      "  reduced_chunks = [reduce_memory_usage(chunk) for chunk in chunks]\n"
     ]
    },
    {
     "name": "stdout",
     "output_type": "stream",
     "text": [
      "Memory usage of dataframe is 17.55 MB\n",
      "Memory usage after optimization is: 8.54 MB\n",
      "Decreased by 51.4%\n"
     ]
    },
    {
     "name": "stderr",
     "output_type": "stream",
     "text": [
      "C:\\Users\\Elakkiya\\AppData\\Local\\Temp\\ipykernel_13232\\2303596474.py:44: DtypeWarning: Columns (25) have mixed types. Specify dtype option on import or set low_memory=False.\n",
      "  reduced_chunks = [reduce_memory_usage(chunk) for chunk in chunks]\n"
     ]
    },
    {
     "name": "stdout",
     "output_type": "stream",
     "text": [
      "Memory usage of dataframe is 17.55 MB\n",
      "Memory usage after optimization is: 8.54 MB\n",
      "Decreased by 51.4%\n"
     ]
    },
    {
     "name": "stderr",
     "output_type": "stream",
     "text": [
      "C:\\Users\\Elakkiya\\AppData\\Local\\Temp\\ipykernel_13232\\2303596474.py:44: DtypeWarning: Columns (25) have mixed types. Specify dtype option on import or set low_memory=False.\n",
      "  reduced_chunks = [reduce_memory_usage(chunk) for chunk in chunks]\n"
     ]
    },
    {
     "name": "stdout",
     "output_type": "stream",
     "text": [
      "Memory usage of dataframe is 17.55 MB\n",
      "Memory usage after optimization is: 8.54 MB\n",
      "Decreased by 51.4%\n"
     ]
    },
    {
     "name": "stderr",
     "output_type": "stream",
     "text": [
      "C:\\Users\\Elakkiya\\AppData\\Local\\Temp\\ipykernel_13232\\2303596474.py:44: DtypeWarning: Columns (25) have mixed types. Specify dtype option on import or set low_memory=False.\n",
      "  reduced_chunks = [reduce_memory_usage(chunk) for chunk in chunks]\n"
     ]
    },
    {
     "name": "stdout",
     "output_type": "stream",
     "text": [
      "Memory usage of dataframe is 17.55 MB\n",
      "Memory usage after optimization is: 8.54 MB\n",
      "Decreased by 51.4%\n"
     ]
    },
    {
     "name": "stderr",
     "output_type": "stream",
     "text": [
      "C:\\Users\\Elakkiya\\AppData\\Local\\Temp\\ipykernel_13232\\2303596474.py:44: DtypeWarning: Columns (25) have mixed types. Specify dtype option on import or set low_memory=False.\n",
      "  reduced_chunks = [reduce_memory_usage(chunk) for chunk in chunks]\n"
     ]
    },
    {
     "name": "stdout",
     "output_type": "stream",
     "text": [
      "Memory usage of dataframe is 17.55 MB\n",
      "Memory usage after optimization is: 8.54 MB\n",
      "Decreased by 51.4%\n"
     ]
    },
    {
     "name": "stderr",
     "output_type": "stream",
     "text": [
      "C:\\Users\\Elakkiya\\AppData\\Local\\Temp\\ipykernel_13232\\2303596474.py:44: DtypeWarning: Columns (25) have mixed types. Specify dtype option on import or set low_memory=False.\n",
      "  reduced_chunks = [reduce_memory_usage(chunk) for chunk in chunks]\n"
     ]
    },
    {
     "name": "stdout",
     "output_type": "stream",
     "text": [
      "Memory usage of dataframe is 17.55 MB\n",
      "Memory usage after optimization is: 8.54 MB\n",
      "Decreased by 51.4%\n"
     ]
    },
    {
     "name": "stderr",
     "output_type": "stream",
     "text": [
      "C:\\Users\\Elakkiya\\AppData\\Local\\Temp\\ipykernel_13232\\2303596474.py:44: DtypeWarning: Columns (25) have mixed types. Specify dtype option on import or set low_memory=False.\n",
      "  reduced_chunks = [reduce_memory_usage(chunk) for chunk in chunks]\n"
     ]
    },
    {
     "name": "stdout",
     "output_type": "stream",
     "text": [
      "Memory usage of dataframe is 17.55 MB\n",
      "Memory usage after optimization is: 8.54 MB\n",
      "Decreased by 51.4%\n"
     ]
    },
    {
     "name": "stderr",
     "output_type": "stream",
     "text": [
      "C:\\Users\\Elakkiya\\AppData\\Local\\Temp\\ipykernel_13232\\2303596474.py:44: DtypeWarning: Columns (25) have mixed types. Specify dtype option on import or set low_memory=False.\n",
      "  reduced_chunks = [reduce_memory_usage(chunk) for chunk in chunks]\n"
     ]
    },
    {
     "name": "stdout",
     "output_type": "stream",
     "text": [
      "Memory usage of dataframe is 17.55 MB\n",
      "Memory usage after optimization is: 8.54 MB\n",
      "Decreased by 51.4%\n"
     ]
    },
    {
     "name": "stderr",
     "output_type": "stream",
     "text": [
      "C:\\Users\\Elakkiya\\AppData\\Local\\Temp\\ipykernel_13232\\2303596474.py:44: DtypeWarning: Columns (25) have mixed types. Specify dtype option on import or set low_memory=False.\n",
      "  reduced_chunks = [reduce_memory_usage(chunk) for chunk in chunks]\n"
     ]
    },
    {
     "name": "stdout",
     "output_type": "stream",
     "text": [
      "Memory usage of dataframe is 17.55 MB\n",
      "Memory usage after optimization is: 8.54 MB\n",
      "Decreased by 51.4%\n"
     ]
    },
    {
     "name": "stderr",
     "output_type": "stream",
     "text": [
      "C:\\Users\\Elakkiya\\AppData\\Local\\Temp\\ipykernel_13232\\2303596474.py:44: DtypeWarning: Columns (25) have mixed types. Specify dtype option on import or set low_memory=False.\n",
      "  reduced_chunks = [reduce_memory_usage(chunk) for chunk in chunks]\n"
     ]
    },
    {
     "name": "stdout",
     "output_type": "stream",
     "text": [
      "Memory usage of dataframe is 17.55 MB\n",
      "Memory usage after optimization is: 8.54 MB\n",
      "Decreased by 51.4%\n"
     ]
    },
    {
     "name": "stderr",
     "output_type": "stream",
     "text": [
      "C:\\Users\\Elakkiya\\AppData\\Local\\Temp\\ipykernel_13232\\2303596474.py:44: DtypeWarning: Columns (25) have mixed types. Specify dtype option on import or set low_memory=False.\n",
      "  reduced_chunks = [reduce_memory_usage(chunk) for chunk in chunks]\n"
     ]
    },
    {
     "name": "stdout",
     "output_type": "stream",
     "text": [
      "Memory usage of dataframe is 17.55 MB\n",
      "Memory usage after optimization is: 8.54 MB\n",
      "Decreased by 51.4%\n"
     ]
    },
    {
     "name": "stderr",
     "output_type": "stream",
     "text": [
      "C:\\Users\\Elakkiya\\AppData\\Local\\Temp\\ipykernel_13232\\2303596474.py:44: DtypeWarning: Columns (25) have mixed types. Specify dtype option on import or set low_memory=False.\n",
      "  reduced_chunks = [reduce_memory_usage(chunk) for chunk in chunks]\n"
     ]
    },
    {
     "name": "stdout",
     "output_type": "stream",
     "text": [
      "Memory usage of dataframe is 17.55 MB\n",
      "Memory usage after optimization is: 8.54 MB\n",
      "Decreased by 51.4%\n"
     ]
    },
    {
     "name": "stderr",
     "output_type": "stream",
     "text": [
      "C:\\Users\\Elakkiya\\AppData\\Local\\Temp\\ipykernel_13232\\2303596474.py:44: DtypeWarning: Columns (25) have mixed types. Specify dtype option on import or set low_memory=False.\n",
      "  reduced_chunks = [reduce_memory_usage(chunk) for chunk in chunks]\n"
     ]
    },
    {
     "name": "stdout",
     "output_type": "stream",
     "text": [
      "Memory usage of dataframe is 17.55 MB\n",
      "Memory usage after optimization is: 8.54 MB\n",
      "Decreased by 51.4%\n"
     ]
    },
    {
     "name": "stderr",
     "output_type": "stream",
     "text": [
      "C:\\Users\\Elakkiya\\AppData\\Local\\Temp\\ipykernel_13232\\2303596474.py:44: DtypeWarning: Columns (25) have mixed types. Specify dtype option on import or set low_memory=False.\n",
      "  reduced_chunks = [reduce_memory_usage(chunk) for chunk in chunks]\n"
     ]
    },
    {
     "name": "stdout",
     "output_type": "stream",
     "text": [
      "Memory usage of dataframe is 17.55 MB\n",
      "Memory usage after optimization is: 8.54 MB\n",
      "Decreased by 51.4%\n"
     ]
    },
    {
     "name": "stderr",
     "output_type": "stream",
     "text": [
      "C:\\Users\\Elakkiya\\AppData\\Local\\Temp\\ipykernel_13232\\2303596474.py:44: DtypeWarning: Columns (25) have mixed types. Specify dtype option on import or set low_memory=False.\n",
      "  reduced_chunks = [reduce_memory_usage(chunk) for chunk in chunks]\n"
     ]
    },
    {
     "name": "stdout",
     "output_type": "stream",
     "text": [
      "Memory usage of dataframe is 17.55 MB\n",
      "Memory usage after optimization is: 8.54 MB\n",
      "Decreased by 51.4%\n"
     ]
    },
    {
     "name": "stderr",
     "output_type": "stream",
     "text": [
      "C:\\Users\\Elakkiya\\AppData\\Local\\Temp\\ipykernel_13232\\2303596474.py:44: DtypeWarning: Columns (25) have mixed types. Specify dtype option on import or set low_memory=False.\n",
      "  reduced_chunks = [reduce_memory_usage(chunk) for chunk in chunks]\n"
     ]
    },
    {
     "name": "stdout",
     "output_type": "stream",
     "text": [
      "Memory usage of dataframe is 17.55 MB\n",
      "Memory usage after optimization is: 8.54 MB\n",
      "Decreased by 51.4%\n"
     ]
    },
    {
     "name": "stderr",
     "output_type": "stream",
     "text": [
      "C:\\Users\\Elakkiya\\AppData\\Local\\Temp\\ipykernel_13232\\2303596474.py:44: DtypeWarning: Columns (25) have mixed types. Specify dtype option on import or set low_memory=False.\n",
      "  reduced_chunks = [reduce_memory_usage(chunk) for chunk in chunks]\n"
     ]
    },
    {
     "name": "stdout",
     "output_type": "stream",
     "text": [
      "Memory usage of dataframe is 17.55 MB\n",
      "Memory usage after optimization is: 8.54 MB\n",
      "Decreased by 51.4%\n"
     ]
    },
    {
     "name": "stderr",
     "output_type": "stream",
     "text": [
      "C:\\Users\\Elakkiya\\AppData\\Local\\Temp\\ipykernel_13232\\2303596474.py:44: DtypeWarning: Columns (25) have mixed types. Specify dtype option on import or set low_memory=False.\n",
      "  reduced_chunks = [reduce_memory_usage(chunk) for chunk in chunks]\n"
     ]
    },
    {
     "name": "stdout",
     "output_type": "stream",
     "text": [
      "Memory usage of dataframe is 17.55 MB\n",
      "Memory usage after optimization is: 8.54 MB\n",
      "Decreased by 51.4%\n"
     ]
    },
    {
     "name": "stderr",
     "output_type": "stream",
     "text": [
      "C:\\Users\\Elakkiya\\AppData\\Local\\Temp\\ipykernel_13232\\2303596474.py:44: DtypeWarning: Columns (25) have mixed types. Specify dtype option on import or set low_memory=False.\n",
      "  reduced_chunks = [reduce_memory_usage(chunk) for chunk in chunks]\n"
     ]
    },
    {
     "name": "stdout",
     "output_type": "stream",
     "text": [
      "Memory usage of dataframe is 17.55 MB\n",
      "Memory usage after optimization is: 8.54 MB\n",
      "Decreased by 51.4%\n"
     ]
    },
    {
     "name": "stderr",
     "output_type": "stream",
     "text": [
      "C:\\Users\\Elakkiya\\AppData\\Local\\Temp\\ipykernel_13232\\2303596474.py:44: DtypeWarning: Columns (25) have mixed types. Specify dtype option on import or set low_memory=False.\n",
      "  reduced_chunks = [reduce_memory_usage(chunk) for chunk in chunks]\n"
     ]
    },
    {
     "name": "stdout",
     "output_type": "stream",
     "text": [
      "Memory usage of dataframe is 17.55 MB\n",
      "Memory usage after optimization is: 8.54 MB\n",
      "Decreased by 51.4%\n"
     ]
    },
    {
     "name": "stderr",
     "output_type": "stream",
     "text": [
      "C:\\Users\\Elakkiya\\AppData\\Local\\Temp\\ipykernel_13232\\2303596474.py:44: DtypeWarning: Columns (25) have mixed types. Specify dtype option on import or set low_memory=False.\n",
      "  reduced_chunks = [reduce_memory_usage(chunk) for chunk in chunks]\n"
     ]
    },
    {
     "name": "stdout",
     "output_type": "stream",
     "text": [
      "Memory usage of dataframe is 17.55 MB\n",
      "Memory usage after optimization is: 8.54 MB\n",
      "Decreased by 51.4%\n"
     ]
    },
    {
     "name": "stderr",
     "output_type": "stream",
     "text": [
      "C:\\Users\\Elakkiya\\AppData\\Local\\Temp\\ipykernel_13232\\2303596474.py:44: DtypeWarning: Columns (25) have mixed types. Specify dtype option on import or set low_memory=False.\n",
      "  reduced_chunks = [reduce_memory_usage(chunk) for chunk in chunks]\n"
     ]
    },
    {
     "name": "stdout",
     "output_type": "stream",
     "text": [
      "Memory usage of dataframe is 17.55 MB\n",
      "Memory usage after optimization is: 8.54 MB\n",
      "Decreased by 51.4%\n"
     ]
    },
    {
     "name": "stderr",
     "output_type": "stream",
     "text": [
      "C:\\Users\\Elakkiya\\AppData\\Local\\Temp\\ipykernel_13232\\2303596474.py:44: DtypeWarning: Columns (25) have mixed types. Specify dtype option on import or set low_memory=False.\n",
      "  reduced_chunks = [reduce_memory_usage(chunk) for chunk in chunks]\n"
     ]
    },
    {
     "name": "stdout",
     "output_type": "stream",
     "text": [
      "Memory usage of dataframe is 17.55 MB\n",
      "Memory usage after optimization is: 8.54 MB\n",
      "Decreased by 51.4%\n",
      "Memory usage of dataframe is 17.55 MB\n",
      "Memory usage after optimization is: 8.54 MB\n",
      "Decreased by 51.4%\n"
     ]
    },
    {
     "name": "stderr",
     "output_type": "stream",
     "text": [
      "C:\\Users\\Elakkiya\\AppData\\Local\\Temp\\ipykernel_13232\\2303596474.py:44: DtypeWarning: Columns (25) have mixed types. Specify dtype option on import or set low_memory=False.\n",
      "  reduced_chunks = [reduce_memory_usage(chunk) for chunk in chunks]\n"
     ]
    },
    {
     "name": "stdout",
     "output_type": "stream",
     "text": [
      "Memory usage of dataframe is 17.55 MB\n",
      "Memory usage after optimization is: 8.54 MB\n",
      "Decreased by 51.4%\n"
     ]
    },
    {
     "name": "stderr",
     "output_type": "stream",
     "text": [
      "C:\\Users\\Elakkiya\\AppData\\Local\\Temp\\ipykernel_13232\\2303596474.py:44: DtypeWarning: Columns (25) have mixed types. Specify dtype option on import or set low_memory=False.\n",
      "  reduced_chunks = [reduce_memory_usage(chunk) for chunk in chunks]\n"
     ]
    },
    {
     "name": "stdout",
     "output_type": "stream",
     "text": [
      "Memory usage of dataframe is 17.55 MB\n",
      "Memory usage after optimization is: 8.54 MB\n",
      "Decreased by 51.4%\n"
     ]
    },
    {
     "name": "stderr",
     "output_type": "stream",
     "text": [
      "C:\\Users\\Elakkiya\\AppData\\Local\\Temp\\ipykernel_13232\\2303596474.py:44: DtypeWarning: Columns (25) have mixed types. Specify dtype option on import or set low_memory=False.\n",
      "  reduced_chunks = [reduce_memory_usage(chunk) for chunk in chunks]\n"
     ]
    },
    {
     "name": "stdout",
     "output_type": "stream",
     "text": [
      "Memory usage of dataframe is 17.55 MB\n",
      "Memory usage after optimization is: 8.54 MB\n",
      "Decreased by 51.4%\n"
     ]
    },
    {
     "name": "stderr",
     "output_type": "stream",
     "text": [
      "C:\\Users\\Elakkiya\\AppData\\Local\\Temp\\ipykernel_13232\\2303596474.py:44: DtypeWarning: Columns (25) have mixed types. Specify dtype option on import or set low_memory=False.\n",
      "  reduced_chunks = [reduce_memory_usage(chunk) for chunk in chunks]\n"
     ]
    },
    {
     "name": "stdout",
     "output_type": "stream",
     "text": [
      "Memory usage of dataframe is 17.55 MB\n",
      "Memory usage after optimization is: 8.54 MB\n",
      "Decreased by 51.4%\n"
     ]
    },
    {
     "name": "stderr",
     "output_type": "stream",
     "text": [
      "C:\\Users\\Elakkiya\\AppData\\Local\\Temp\\ipykernel_13232\\2303596474.py:44: DtypeWarning: Columns (25) have mixed types. Specify dtype option on import or set low_memory=False.\n",
      "  reduced_chunks = [reduce_memory_usage(chunk) for chunk in chunks]\n"
     ]
    },
    {
     "name": "stdout",
     "output_type": "stream",
     "text": [
      "Memory usage of dataframe is 17.55 MB\n",
      "Memory usage after optimization is: 8.54 MB\n",
      "Decreased by 51.4%\n"
     ]
    },
    {
     "name": "stderr",
     "output_type": "stream",
     "text": [
      "C:\\Users\\Elakkiya\\AppData\\Local\\Temp\\ipykernel_13232\\2303596474.py:44: DtypeWarning: Columns (25) have mixed types. Specify dtype option on import or set low_memory=False.\n",
      "  reduced_chunks = [reduce_memory_usage(chunk) for chunk in chunks]\n"
     ]
    },
    {
     "name": "stdout",
     "output_type": "stream",
     "text": [
      "Memory usage of dataframe is 17.55 MB\n",
      "Memory usage after optimization is: 8.54 MB\n",
      "Decreased by 51.4%\n",
      "Memory usage of dataframe is 17.55 MB\n",
      "Memory usage after optimization is: 8.54 MB\n",
      "Decreased by 51.4%\n"
     ]
    },
    {
     "name": "stderr",
     "output_type": "stream",
     "text": [
      "C:\\Users\\Elakkiya\\AppData\\Local\\Temp\\ipykernel_13232\\2303596474.py:44: DtypeWarning: Columns (25) have mixed types. Specify dtype option on import or set low_memory=False.\n",
      "  reduced_chunks = [reduce_memory_usage(chunk) for chunk in chunks]\n"
     ]
    },
    {
     "name": "stdout",
     "output_type": "stream",
     "text": [
      "Memory usage of dataframe is 17.55 MB\n",
      "Memory usage after optimization is: 8.54 MB\n",
      "Decreased by 51.4%\n"
     ]
    },
    {
     "name": "stderr",
     "output_type": "stream",
     "text": [
      "C:\\Users\\Elakkiya\\AppData\\Local\\Temp\\ipykernel_13232\\2303596474.py:44: DtypeWarning: Columns (25) have mixed types. Specify dtype option on import or set low_memory=False.\n",
      "  reduced_chunks = [reduce_memory_usage(chunk) for chunk in chunks]\n"
     ]
    },
    {
     "name": "stdout",
     "output_type": "stream",
     "text": [
      "Memory usage of dataframe is 17.55 MB\n",
      "Memory usage after optimization is: 8.54 MB\n",
      "Decreased by 51.4%\n"
     ]
    },
    {
     "name": "stderr",
     "output_type": "stream",
     "text": [
      "C:\\Users\\Elakkiya\\AppData\\Local\\Temp\\ipykernel_13232\\2303596474.py:44: DtypeWarning: Columns (25) have mixed types. Specify dtype option on import or set low_memory=False.\n",
      "  reduced_chunks = [reduce_memory_usage(chunk) for chunk in chunks]\n"
     ]
    },
    {
     "name": "stdout",
     "output_type": "stream",
     "text": [
      "Memory usage of dataframe is 17.55 MB\n",
      "Memory usage after optimization is: 8.54 MB\n",
      "Decreased by 51.4%\n"
     ]
    },
    {
     "name": "stderr",
     "output_type": "stream",
     "text": [
      "C:\\Users\\Elakkiya\\AppData\\Local\\Temp\\ipykernel_13232\\2303596474.py:44: DtypeWarning: Columns (25) have mixed types. Specify dtype option on import or set low_memory=False.\n",
      "  reduced_chunks = [reduce_memory_usage(chunk) for chunk in chunks]\n"
     ]
    },
    {
     "name": "stdout",
     "output_type": "stream",
     "text": [
      "Memory usage of dataframe is 17.55 MB\n",
      "Memory usage after optimization is: 8.54 MB\n",
      "Decreased by 51.4%\n"
     ]
    },
    {
     "name": "stderr",
     "output_type": "stream",
     "text": [
      "C:\\Users\\Elakkiya\\AppData\\Local\\Temp\\ipykernel_13232\\2303596474.py:44: DtypeWarning: Columns (25) have mixed types. Specify dtype option on import or set low_memory=False.\n",
      "  reduced_chunks = [reduce_memory_usage(chunk) for chunk in chunks]\n"
     ]
    },
    {
     "name": "stdout",
     "output_type": "stream",
     "text": [
      "Memory usage of dataframe is 17.55 MB\n",
      "Memory usage after optimization is: 8.54 MB\n",
      "Decreased by 51.4%\n"
     ]
    },
    {
     "name": "stderr",
     "output_type": "stream",
     "text": [
      "C:\\Users\\Elakkiya\\AppData\\Local\\Temp\\ipykernel_13232\\2303596474.py:44: DtypeWarning: Columns (25) have mixed types. Specify dtype option on import or set low_memory=False.\n",
      "  reduced_chunks = [reduce_memory_usage(chunk) for chunk in chunks]\n"
     ]
    },
    {
     "name": "stdout",
     "output_type": "stream",
     "text": [
      "Memory usage of dataframe is 17.55 MB\n",
      "Memory usage after optimization is: 8.54 MB\n",
      "Decreased by 51.4%\n"
     ]
    },
    {
     "name": "stderr",
     "output_type": "stream",
     "text": [
      "C:\\Users\\Elakkiya\\AppData\\Local\\Temp\\ipykernel_13232\\2303596474.py:44: DtypeWarning: Columns (25) have mixed types. Specify dtype option on import or set low_memory=False.\n",
      "  reduced_chunks = [reduce_memory_usage(chunk) for chunk in chunks]\n"
     ]
    },
    {
     "name": "stdout",
     "output_type": "stream",
     "text": [
      "Memory usage of dataframe is 17.55 MB\n",
      "Memory usage after optimization is: 8.54 MB\n",
      "Decreased by 51.4%\n"
     ]
    },
    {
     "name": "stderr",
     "output_type": "stream",
     "text": [
      "C:\\Users\\Elakkiya\\AppData\\Local\\Temp\\ipykernel_13232\\2303596474.py:44: DtypeWarning: Columns (25) have mixed types. Specify dtype option on import or set low_memory=False.\n",
      "  reduced_chunks = [reduce_memory_usage(chunk) for chunk in chunks]\n"
     ]
    },
    {
     "name": "stdout",
     "output_type": "stream",
     "text": [
      "Memory usage of dataframe is 17.55 MB\n",
      "Memory usage after optimization is: 8.54 MB\n",
      "Decreased by 51.4%\n"
     ]
    },
    {
     "name": "stderr",
     "output_type": "stream",
     "text": [
      "C:\\Users\\Elakkiya\\AppData\\Local\\Temp\\ipykernel_13232\\2303596474.py:44: DtypeWarning: Columns (25) have mixed types. Specify dtype option on import or set low_memory=False.\n",
      "  reduced_chunks = [reduce_memory_usage(chunk) for chunk in chunks]\n"
     ]
    },
    {
     "name": "stdout",
     "output_type": "stream",
     "text": [
      "Memory usage of dataframe is 17.55 MB\n",
      "Memory usage after optimization is: 8.54 MB\n",
      "Decreased by 51.4%\n"
     ]
    },
    {
     "name": "stderr",
     "output_type": "stream",
     "text": [
      "C:\\Users\\Elakkiya\\AppData\\Local\\Temp\\ipykernel_13232\\2303596474.py:44: DtypeWarning: Columns (25) have mixed types. Specify dtype option on import or set low_memory=False.\n",
      "  reduced_chunks = [reduce_memory_usage(chunk) for chunk in chunks]\n"
     ]
    },
    {
     "name": "stdout",
     "output_type": "stream",
     "text": [
      "Memory usage of dataframe is 17.55 MB\n",
      "Memory usage after optimization is: 8.54 MB\n",
      "Decreased by 51.4%\n"
     ]
    },
    {
     "name": "stderr",
     "output_type": "stream",
     "text": [
      "C:\\Users\\Elakkiya\\AppData\\Local\\Temp\\ipykernel_13232\\2303596474.py:44: DtypeWarning: Columns (25) have mixed types. Specify dtype option on import or set low_memory=False.\n",
      "  reduced_chunks = [reduce_memory_usage(chunk) for chunk in chunks]\n"
     ]
    },
    {
     "name": "stdout",
     "output_type": "stream",
     "text": [
      "Memory usage of dataframe is 17.55 MB\n",
      "Memory usage after optimization is: 8.54 MB\n",
      "Decreased by 51.4%\n"
     ]
    },
    {
     "name": "stderr",
     "output_type": "stream",
     "text": [
      "C:\\Users\\Elakkiya\\AppData\\Local\\Temp\\ipykernel_13232\\2303596474.py:44: DtypeWarning: Columns (25) have mixed types. Specify dtype option on import or set low_memory=False.\n",
      "  reduced_chunks = [reduce_memory_usage(chunk) for chunk in chunks]\n"
     ]
    },
    {
     "name": "stdout",
     "output_type": "stream",
     "text": [
      "Memory usage of dataframe is 17.55 MB\n",
      "Memory usage after optimization is: 8.54 MB\n",
      "Decreased by 51.4%\n"
     ]
    },
    {
     "name": "stderr",
     "output_type": "stream",
     "text": [
      "C:\\Users\\Elakkiya\\AppData\\Local\\Temp\\ipykernel_13232\\2303596474.py:44: DtypeWarning: Columns (25) have mixed types. Specify dtype option on import or set low_memory=False.\n",
      "  reduced_chunks = [reduce_memory_usage(chunk) for chunk in chunks]\n"
     ]
    },
    {
     "name": "stdout",
     "output_type": "stream",
     "text": [
      "Memory usage of dataframe is 17.55 MB\n",
      "Memory usage after optimization is: 8.54 MB\n",
      "Decreased by 51.4%\n"
     ]
    },
    {
     "name": "stderr",
     "output_type": "stream",
     "text": [
      "C:\\Users\\Elakkiya\\AppData\\Local\\Temp\\ipykernel_13232\\2303596474.py:44: DtypeWarning: Columns (25) have mixed types. Specify dtype option on import or set low_memory=False.\n",
      "  reduced_chunks = [reduce_memory_usage(chunk) for chunk in chunks]\n"
     ]
    },
    {
     "name": "stdout",
     "output_type": "stream",
     "text": [
      "Memory usage of dataframe is 17.55 MB\n",
      "Memory usage after optimization is: 8.54 MB\n",
      "Decreased by 51.4%\n"
     ]
    },
    {
     "name": "stderr",
     "output_type": "stream",
     "text": [
      "C:\\Users\\Elakkiya\\AppData\\Local\\Temp\\ipykernel_13232\\2303596474.py:44: DtypeWarning: Columns (25) have mixed types. Specify dtype option on import or set low_memory=False.\n",
      "  reduced_chunks = [reduce_memory_usage(chunk) for chunk in chunks]\n"
     ]
    },
    {
     "name": "stdout",
     "output_type": "stream",
     "text": [
      "Memory usage of dataframe is 17.55 MB\n",
      "Memory usage after optimization is: 8.54 MB\n",
      "Decreased by 51.4%\n"
     ]
    },
    {
     "name": "stderr",
     "output_type": "stream",
     "text": [
      "C:\\Users\\Elakkiya\\AppData\\Local\\Temp\\ipykernel_13232\\2303596474.py:44: DtypeWarning: Columns (25) have mixed types. Specify dtype option on import or set low_memory=False.\n",
      "  reduced_chunks = [reduce_memory_usage(chunk) for chunk in chunks]\n"
     ]
    },
    {
     "name": "stdout",
     "output_type": "stream",
     "text": [
      "Memory usage of dataframe is 17.55 MB\n",
      "Memory usage after optimization is: 8.54 MB\n",
      "Decreased by 51.4%\n"
     ]
    },
    {
     "name": "stderr",
     "output_type": "stream",
     "text": [
      "C:\\Users\\Elakkiya\\AppData\\Local\\Temp\\ipykernel_13232\\2303596474.py:44: DtypeWarning: Columns (25) have mixed types. Specify dtype option on import or set low_memory=False.\n",
      "  reduced_chunks = [reduce_memory_usage(chunk) for chunk in chunks]\n"
     ]
    },
    {
     "name": "stdout",
     "output_type": "stream",
     "text": [
      "Memory usage of dataframe is 17.55 MB\n",
      "Memory usage after optimization is: 8.54 MB\n",
      "Decreased by 51.4%\n"
     ]
    },
    {
     "name": "stderr",
     "output_type": "stream",
     "text": [
      "C:\\Users\\Elakkiya\\AppData\\Local\\Temp\\ipykernel_13232\\2303596474.py:44: DtypeWarning: Columns (25) have mixed types. Specify dtype option on import or set low_memory=False.\n",
      "  reduced_chunks = [reduce_memory_usage(chunk) for chunk in chunks]\n"
     ]
    },
    {
     "name": "stdout",
     "output_type": "stream",
     "text": [
      "Memory usage of dataframe is 17.55 MB\n",
      "Memory usage after optimization is: 8.54 MB\n",
      "Decreased by 51.4%\n"
     ]
    },
    {
     "name": "stderr",
     "output_type": "stream",
     "text": [
      "C:\\Users\\Elakkiya\\AppData\\Local\\Temp\\ipykernel_13232\\2303596474.py:44: DtypeWarning: Columns (25) have mixed types. Specify dtype option on import or set low_memory=False.\n",
      "  reduced_chunks = [reduce_memory_usage(chunk) for chunk in chunks]\n"
     ]
    },
    {
     "name": "stdout",
     "output_type": "stream",
     "text": [
      "Memory usage of dataframe is 17.55 MB\n",
      "Memory usage after optimization is: 8.54 MB\n",
      "Decreased by 51.4%\n"
     ]
    },
    {
     "name": "stderr",
     "output_type": "stream",
     "text": [
      "C:\\Users\\Elakkiya\\AppData\\Local\\Temp\\ipykernel_13232\\2303596474.py:44: DtypeWarning: Columns (25) have mixed types. Specify dtype option on import or set low_memory=False.\n",
      "  reduced_chunks = [reduce_memory_usage(chunk) for chunk in chunks]\n"
     ]
    },
    {
     "name": "stdout",
     "output_type": "stream",
     "text": [
      "Memory usage of dataframe is 17.55 MB\n",
      "Memory usage after optimization is: 8.54 MB\n",
      "Decreased by 51.4%\n"
     ]
    },
    {
     "name": "stderr",
     "output_type": "stream",
     "text": [
      "C:\\Users\\Elakkiya\\AppData\\Local\\Temp\\ipykernel_13232\\2303596474.py:44: DtypeWarning: Columns (25) have mixed types. Specify dtype option on import or set low_memory=False.\n",
      "  reduced_chunks = [reduce_memory_usage(chunk) for chunk in chunks]\n"
     ]
    },
    {
     "name": "stdout",
     "output_type": "stream",
     "text": [
      "Memory usage of dataframe is 17.55 MB\n",
      "Memory usage after optimization is: 8.54 MB\n",
      "Decreased by 51.4%\n"
     ]
    },
    {
     "name": "stderr",
     "output_type": "stream",
     "text": [
      "C:\\Users\\Elakkiya\\AppData\\Local\\Temp\\ipykernel_13232\\2303596474.py:44: DtypeWarning: Columns (25) have mixed types. Specify dtype option on import or set low_memory=False.\n",
      "  reduced_chunks = [reduce_memory_usage(chunk) for chunk in chunks]\n"
     ]
    },
    {
     "name": "stdout",
     "output_type": "stream",
     "text": [
      "Memory usage of dataframe is 17.55 MB\n",
      "Memory usage after optimization is: 8.54 MB\n",
      "Decreased by 51.4%\n"
     ]
    },
    {
     "name": "stderr",
     "output_type": "stream",
     "text": [
      "C:\\Users\\Elakkiya\\AppData\\Local\\Temp\\ipykernel_13232\\2303596474.py:44: DtypeWarning: Columns (25) have mixed types. Specify dtype option on import or set low_memory=False.\n",
      "  reduced_chunks = [reduce_memory_usage(chunk) for chunk in chunks]\n"
     ]
    },
    {
     "name": "stdout",
     "output_type": "stream",
     "text": [
      "Memory usage of dataframe is 17.55 MB\n",
      "Memory usage after optimization is: 8.54 MB\n",
      "Decreased by 51.4%\n"
     ]
    },
    {
     "name": "stderr",
     "output_type": "stream",
     "text": [
      "C:\\Users\\Elakkiya\\AppData\\Local\\Temp\\ipykernel_13232\\2303596474.py:44: DtypeWarning: Columns (25) have mixed types. Specify dtype option on import or set low_memory=False.\n",
      "  reduced_chunks = [reduce_memory_usage(chunk) for chunk in chunks]\n"
     ]
    },
    {
     "name": "stdout",
     "output_type": "stream",
     "text": [
      "Memory usage of dataframe is 17.55 MB\n",
      "Memory usage after optimization is: 8.54 MB\n",
      "Decreased by 51.4%\n"
     ]
    },
    {
     "name": "stderr",
     "output_type": "stream",
     "text": [
      "C:\\Users\\Elakkiya\\AppData\\Local\\Temp\\ipykernel_13232\\2303596474.py:44: DtypeWarning: Columns (25) have mixed types. Specify dtype option on import or set low_memory=False.\n",
      "  reduced_chunks = [reduce_memory_usage(chunk) for chunk in chunks]\n"
     ]
    },
    {
     "name": "stdout",
     "output_type": "stream",
     "text": [
      "Memory usage of dataframe is 17.55 MB\n",
      "Memory usage after optimization is: 8.54 MB\n",
      "Decreased by 51.4%\n"
     ]
    },
    {
     "name": "stderr",
     "output_type": "stream",
     "text": [
      "C:\\Users\\Elakkiya\\AppData\\Local\\Temp\\ipykernel_13232\\2303596474.py:44: DtypeWarning: Columns (25) have mixed types. Specify dtype option on import or set low_memory=False.\n",
      "  reduced_chunks = [reduce_memory_usage(chunk) for chunk in chunks]\n"
     ]
    },
    {
     "name": "stdout",
     "output_type": "stream",
     "text": [
      "Memory usage of dataframe is 17.55 MB\n",
      "Memory usage after optimization is: 8.54 MB\n",
      "Decreased by 51.4%\n"
     ]
    },
    {
     "name": "stderr",
     "output_type": "stream",
     "text": [
      "C:\\Users\\Elakkiya\\AppData\\Local\\Temp\\ipykernel_13232\\2303596474.py:44: DtypeWarning: Columns (25) have mixed types. Specify dtype option on import or set low_memory=False.\n",
      "  reduced_chunks = [reduce_memory_usage(chunk) for chunk in chunks]\n"
     ]
    },
    {
     "name": "stdout",
     "output_type": "stream",
     "text": [
      "Memory usage of dataframe is 17.55 MB\n",
      "Memory usage after optimization is: 8.54 MB\n",
      "Decreased by 51.4%\n"
     ]
    },
    {
     "name": "stderr",
     "output_type": "stream",
     "text": [
      "C:\\Users\\Elakkiya\\AppData\\Local\\Temp\\ipykernel_13232\\2303596474.py:44: DtypeWarning: Columns (25) have mixed types. Specify dtype option on import or set low_memory=False.\n",
      "  reduced_chunks = [reduce_memory_usage(chunk) for chunk in chunks]\n"
     ]
    },
    {
     "name": "stdout",
     "output_type": "stream",
     "text": [
      "Memory usage of dataframe is 17.55 MB\n",
      "Memory usage after optimization is: 8.54 MB\n",
      "Decreased by 51.4%\n",
      "Memory usage of dataframe is 17.55 MB\n",
      "Memory usage after optimization is: 8.25 MB\n",
      "Decreased by 53.0%\n"
     ]
    },
    {
     "name": "stderr",
     "output_type": "stream",
     "text": [
      "C:\\Users\\Elakkiya\\AppData\\Local\\Temp\\ipykernel_13232\\2303596474.py:44: DtypeWarning: Columns (25) have mixed types. Specify dtype option on import or set low_memory=False.\n",
      "  reduced_chunks = [reduce_memory_usage(chunk) for chunk in chunks]\n"
     ]
    },
    {
     "name": "stdout",
     "output_type": "stream",
     "text": [
      "Memory usage of dataframe is 17.55 MB\n",
      "Memory usage after optimization is: 8.54 MB\n",
      "Decreased by 51.4%\n"
     ]
    },
    {
     "name": "stderr",
     "output_type": "stream",
     "text": [
      "C:\\Users\\Elakkiya\\AppData\\Local\\Temp\\ipykernel_13232\\2303596474.py:44: DtypeWarning: Columns (25) have mixed types. Specify dtype option on import or set low_memory=False.\n",
      "  reduced_chunks = [reduce_memory_usage(chunk) for chunk in chunks]\n"
     ]
    },
    {
     "name": "stdout",
     "output_type": "stream",
     "text": [
      "Memory usage of dataframe is 17.55 MB\n",
      "Memory usage after optimization is: 8.54 MB\n",
      "Decreased by 51.4%\n"
     ]
    },
    {
     "name": "stderr",
     "output_type": "stream",
     "text": [
      "C:\\Users\\Elakkiya\\AppData\\Local\\Temp\\ipykernel_13232\\2303596474.py:44: DtypeWarning: Columns (25) have mixed types. Specify dtype option on import or set low_memory=False.\n",
      "  reduced_chunks = [reduce_memory_usage(chunk) for chunk in chunks]\n"
     ]
    },
    {
     "name": "stdout",
     "output_type": "stream",
     "text": [
      "Memory usage of dataframe is 17.55 MB\n",
      "Memory usage after optimization is: 8.54 MB\n",
      "Decreased by 51.4%\n"
     ]
    },
    {
     "name": "stderr",
     "output_type": "stream",
     "text": [
      "C:\\Users\\Elakkiya\\AppData\\Local\\Temp\\ipykernel_13232\\2303596474.py:44: DtypeWarning: Columns (25) have mixed types. Specify dtype option on import or set low_memory=False.\n",
      "  reduced_chunks = [reduce_memory_usage(chunk) for chunk in chunks]\n"
     ]
    },
    {
     "name": "stdout",
     "output_type": "stream",
     "text": [
      "Memory usage of dataframe is 17.55 MB\n",
      "Memory usage after optimization is: 8.54 MB\n",
      "Decreased by 51.4%\n"
     ]
    },
    {
     "name": "stderr",
     "output_type": "stream",
     "text": [
      "C:\\Users\\Elakkiya\\AppData\\Local\\Temp\\ipykernel_13232\\2303596474.py:44: DtypeWarning: Columns (25) have mixed types. Specify dtype option on import or set low_memory=False.\n",
      "  reduced_chunks = [reduce_memory_usage(chunk) for chunk in chunks]\n"
     ]
    },
    {
     "name": "stdout",
     "output_type": "stream",
     "text": [
      "Memory usage of dataframe is 17.55 MB\n",
      "Memory usage after optimization is: 8.54 MB\n",
      "Decreased by 51.4%\n"
     ]
    },
    {
     "name": "stderr",
     "output_type": "stream",
     "text": [
      "C:\\Users\\Elakkiya\\AppData\\Local\\Temp\\ipykernel_13232\\2303596474.py:44: DtypeWarning: Columns (25) have mixed types. Specify dtype option on import or set low_memory=False.\n",
      "  reduced_chunks = [reduce_memory_usage(chunk) for chunk in chunks]\n"
     ]
    },
    {
     "name": "stdout",
     "output_type": "stream",
     "text": [
      "Memory usage of dataframe is 17.55 MB\n",
      "Memory usage after optimization is: 8.54 MB\n",
      "Decreased by 51.4%\n"
     ]
    },
    {
     "name": "stderr",
     "output_type": "stream",
     "text": [
      "C:\\Users\\Elakkiya\\AppData\\Local\\Temp\\ipykernel_13232\\2303596474.py:44: DtypeWarning: Columns (25) have mixed types. Specify dtype option on import or set low_memory=False.\n",
      "  reduced_chunks = [reduce_memory_usage(chunk) for chunk in chunks]\n"
     ]
    },
    {
     "name": "stdout",
     "output_type": "stream",
     "text": [
      "Memory usage of dataframe is 17.55 MB\n",
      "Memory usage after optimization is: 8.54 MB\n",
      "Decreased by 51.4%\n"
     ]
    },
    {
     "name": "stderr",
     "output_type": "stream",
     "text": [
      "C:\\Users\\Elakkiya\\AppData\\Local\\Temp\\ipykernel_13232\\2303596474.py:44: DtypeWarning: Columns (25) have mixed types. Specify dtype option on import or set low_memory=False.\n",
      "  reduced_chunks = [reduce_memory_usage(chunk) for chunk in chunks]\n"
     ]
    },
    {
     "name": "stdout",
     "output_type": "stream",
     "text": [
      "Memory usage of dataframe is 17.55 MB\n",
      "Memory usage after optimization is: 8.54 MB\n",
      "Decreased by 51.4%\n"
     ]
    },
    {
     "name": "stderr",
     "output_type": "stream",
     "text": [
      "C:\\Users\\Elakkiya\\AppData\\Local\\Temp\\ipykernel_13232\\2303596474.py:44: DtypeWarning: Columns (25) have mixed types. Specify dtype option on import or set low_memory=False.\n",
      "  reduced_chunks = [reduce_memory_usage(chunk) for chunk in chunks]\n"
     ]
    },
    {
     "name": "stdout",
     "output_type": "stream",
     "text": [
      "Memory usage of dataframe is 17.55 MB\n",
      "Memory usage after optimization is: 8.54 MB\n",
      "Decreased by 51.4%\n"
     ]
    },
    {
     "name": "stderr",
     "output_type": "stream",
     "text": [
      "C:\\Users\\Elakkiya\\AppData\\Local\\Temp\\ipykernel_13232\\2303596474.py:44: DtypeWarning: Columns (25) have mixed types. Specify dtype option on import or set low_memory=False.\n",
      "  reduced_chunks = [reduce_memory_usage(chunk) for chunk in chunks]\n"
     ]
    },
    {
     "name": "stdout",
     "output_type": "stream",
     "text": [
      "Memory usage of dataframe is 17.55 MB\n",
      "Memory usage after optimization is: 8.54 MB\n",
      "Decreased by 51.4%\n"
     ]
    },
    {
     "name": "stderr",
     "output_type": "stream",
     "text": [
      "C:\\Users\\Elakkiya\\AppData\\Local\\Temp\\ipykernel_13232\\2303596474.py:44: DtypeWarning: Columns (25) have mixed types. Specify dtype option on import or set low_memory=False.\n",
      "  reduced_chunks = [reduce_memory_usage(chunk) for chunk in chunks]\n"
     ]
    },
    {
     "name": "stdout",
     "output_type": "stream",
     "text": [
      "Memory usage of dataframe is 17.55 MB\n",
      "Memory usage after optimization is: 8.54 MB\n",
      "Decreased by 51.4%\n"
     ]
    },
    {
     "name": "stderr",
     "output_type": "stream",
     "text": [
      "C:\\Users\\Elakkiya\\AppData\\Local\\Temp\\ipykernel_13232\\2303596474.py:44: DtypeWarning: Columns (25) have mixed types. Specify dtype option on import or set low_memory=False.\n",
      "  reduced_chunks = [reduce_memory_usage(chunk) for chunk in chunks]\n"
     ]
    },
    {
     "name": "stdout",
     "output_type": "stream",
     "text": [
      "Memory usage of dataframe is 17.55 MB\n",
      "Memory usage after optimization is: 8.54 MB\n",
      "Decreased by 51.4%\n"
     ]
    },
    {
     "name": "stderr",
     "output_type": "stream",
     "text": [
      "C:\\Users\\Elakkiya\\AppData\\Local\\Temp\\ipykernel_13232\\2303596474.py:44: DtypeWarning: Columns (25) have mixed types. Specify dtype option on import or set low_memory=False.\n",
      "  reduced_chunks = [reduce_memory_usage(chunk) for chunk in chunks]\n"
     ]
    },
    {
     "name": "stdout",
     "output_type": "stream",
     "text": [
      "Memory usage of dataframe is 17.55 MB\n",
      "Memory usage after optimization is: 8.54 MB\n",
      "Decreased by 51.4%\n"
     ]
    },
    {
     "name": "stderr",
     "output_type": "stream",
     "text": [
      "C:\\Users\\Elakkiya\\AppData\\Local\\Temp\\ipykernel_13232\\2303596474.py:44: DtypeWarning: Columns (25) have mixed types. Specify dtype option on import or set low_memory=False.\n",
      "  reduced_chunks = [reduce_memory_usage(chunk) for chunk in chunks]\n"
     ]
    },
    {
     "name": "stdout",
     "output_type": "stream",
     "text": [
      "Memory usage of dataframe is 17.55 MB\n",
      "Memory usage after optimization is: 8.54 MB\n",
      "Decreased by 51.4%\n"
     ]
    },
    {
     "name": "stderr",
     "output_type": "stream",
     "text": [
      "C:\\Users\\Elakkiya\\AppData\\Local\\Temp\\ipykernel_13232\\2303596474.py:44: DtypeWarning: Columns (25) have mixed types. Specify dtype option on import or set low_memory=False.\n",
      "  reduced_chunks = [reduce_memory_usage(chunk) for chunk in chunks]\n"
     ]
    },
    {
     "name": "stdout",
     "output_type": "stream",
     "text": [
      "Memory usage of dataframe is 17.55 MB\n",
      "Memory usage after optimization is: 8.54 MB\n",
      "Decreased by 51.4%\n"
     ]
    },
    {
     "name": "stderr",
     "output_type": "stream",
     "text": [
      "C:\\Users\\Elakkiya\\AppData\\Local\\Temp\\ipykernel_13232\\2303596474.py:44: DtypeWarning: Columns (25) have mixed types. Specify dtype option on import or set low_memory=False.\n",
      "  reduced_chunks = [reduce_memory_usage(chunk) for chunk in chunks]\n"
     ]
    },
    {
     "name": "stdout",
     "output_type": "stream",
     "text": [
      "Memory usage of dataframe is 17.55 MB\n",
      "Memory usage after optimization is: 8.54 MB\n",
      "Decreased by 51.4%\n"
     ]
    },
    {
     "name": "stderr",
     "output_type": "stream",
     "text": [
      "C:\\Users\\Elakkiya\\AppData\\Local\\Temp\\ipykernel_13232\\2303596474.py:44: DtypeWarning: Columns (25) have mixed types. Specify dtype option on import or set low_memory=False.\n",
      "  reduced_chunks = [reduce_memory_usage(chunk) for chunk in chunks]\n"
     ]
    },
    {
     "name": "stdout",
     "output_type": "stream",
     "text": [
      "Memory usage of dataframe is 17.55 MB\n",
      "Memory usage after optimization is: 8.54 MB\n",
      "Decreased by 51.4%\n"
     ]
    },
    {
     "name": "stderr",
     "output_type": "stream",
     "text": [
      "C:\\Users\\Elakkiya\\AppData\\Local\\Temp\\ipykernel_13232\\2303596474.py:44: DtypeWarning: Columns (25) have mixed types. Specify dtype option on import or set low_memory=False.\n",
      "  reduced_chunks = [reduce_memory_usage(chunk) for chunk in chunks]\n"
     ]
    },
    {
     "name": "stdout",
     "output_type": "stream",
     "text": [
      "Memory usage of dataframe is 17.55 MB\n",
      "Memory usage after optimization is: 8.54 MB\n",
      "Decreased by 51.4%\n"
     ]
    },
    {
     "name": "stderr",
     "output_type": "stream",
     "text": [
      "C:\\Users\\Elakkiya\\AppData\\Local\\Temp\\ipykernel_13232\\2303596474.py:44: DtypeWarning: Columns (25) have mixed types. Specify dtype option on import or set low_memory=False.\n",
      "  reduced_chunks = [reduce_memory_usage(chunk) for chunk in chunks]\n"
     ]
    },
    {
     "name": "stdout",
     "output_type": "stream",
     "text": [
      "Memory usage of dataframe is 17.55 MB\n",
      "Memory usage after optimization is: 8.54 MB\n",
      "Decreased by 51.4%\n"
     ]
    },
    {
     "name": "stderr",
     "output_type": "stream",
     "text": [
      "C:\\Users\\Elakkiya\\AppData\\Local\\Temp\\ipykernel_13232\\2303596474.py:44: DtypeWarning: Columns (25) have mixed types. Specify dtype option on import or set low_memory=False.\n",
      "  reduced_chunks = [reduce_memory_usage(chunk) for chunk in chunks]\n"
     ]
    },
    {
     "name": "stdout",
     "output_type": "stream",
     "text": [
      "Memory usage of dataframe is 17.55 MB\n",
      "Memory usage after optimization is: 8.54 MB\n",
      "Decreased by 51.4%\n"
     ]
    },
    {
     "name": "stderr",
     "output_type": "stream",
     "text": [
      "C:\\Users\\Elakkiya\\AppData\\Local\\Temp\\ipykernel_13232\\2303596474.py:44: DtypeWarning: Columns (25) have mixed types. Specify dtype option on import or set low_memory=False.\n",
      "  reduced_chunks = [reduce_memory_usage(chunk) for chunk in chunks]\n"
     ]
    },
    {
     "name": "stdout",
     "output_type": "stream",
     "text": [
      "Memory usage of dataframe is 17.55 MB\n",
      "Memory usage after optimization is: 8.54 MB\n",
      "Decreased by 51.4%\n"
     ]
    },
    {
     "name": "stderr",
     "output_type": "stream",
     "text": [
      "C:\\Users\\Elakkiya\\AppData\\Local\\Temp\\ipykernel_13232\\2303596474.py:44: DtypeWarning: Columns (25) have mixed types. Specify dtype option on import or set low_memory=False.\n",
      "  reduced_chunks = [reduce_memory_usage(chunk) for chunk in chunks]\n"
     ]
    },
    {
     "name": "stdout",
     "output_type": "stream",
     "text": [
      "Memory usage of dataframe is 17.55 MB\n",
      "Memory usage after optimization is: 8.54 MB\n",
      "Decreased by 51.4%\n",
      "Memory usage of dataframe is 17.55 MB\n",
      "Memory usage after optimization is: 8.54 MB\n",
      "Decreased by 51.4%\n"
     ]
    },
    {
     "name": "stderr",
     "output_type": "stream",
     "text": [
      "C:\\Users\\Elakkiya\\AppData\\Local\\Temp\\ipykernel_13232\\2303596474.py:44: DtypeWarning: Columns (25) have mixed types. Specify dtype option on import or set low_memory=False.\n",
      "  reduced_chunks = [reduce_memory_usage(chunk) for chunk in chunks]\n"
     ]
    },
    {
     "name": "stdout",
     "output_type": "stream",
     "text": [
      "Memory usage of dataframe is 17.55 MB\n",
      "Memory usage after optimization is: 8.54 MB\n",
      "Decreased by 51.4%\n"
     ]
    },
    {
     "name": "stderr",
     "output_type": "stream",
     "text": [
      "C:\\Users\\Elakkiya\\AppData\\Local\\Temp\\ipykernel_13232\\2303596474.py:44: DtypeWarning: Columns (25) have mixed types. Specify dtype option on import or set low_memory=False.\n",
      "  reduced_chunks = [reduce_memory_usage(chunk) for chunk in chunks]\n"
     ]
    },
    {
     "name": "stdout",
     "output_type": "stream",
     "text": [
      "Memory usage of dataframe is 17.55 MB\n",
      "Memory usage after optimization is: 8.54 MB\n",
      "Decreased by 51.4%\n"
     ]
    },
    {
     "name": "stderr",
     "output_type": "stream",
     "text": [
      "C:\\Users\\Elakkiya\\AppData\\Local\\Temp\\ipykernel_13232\\2303596474.py:44: DtypeWarning: Columns (25) have mixed types. Specify dtype option on import or set low_memory=False.\n",
      "  reduced_chunks = [reduce_memory_usage(chunk) for chunk in chunks]\n"
     ]
    },
    {
     "name": "stdout",
     "output_type": "stream",
     "text": [
      "Memory usage of dataframe is 17.55 MB\n",
      "Memory usage after optimization is: 8.54 MB\n",
      "Decreased by 51.4%\n"
     ]
    },
    {
     "name": "stderr",
     "output_type": "stream",
     "text": [
      "C:\\Users\\Elakkiya\\AppData\\Local\\Temp\\ipykernel_13232\\2303596474.py:44: DtypeWarning: Columns (25) have mixed types. Specify dtype option on import or set low_memory=False.\n",
      "  reduced_chunks = [reduce_memory_usage(chunk) for chunk in chunks]\n"
     ]
    },
    {
     "name": "stdout",
     "output_type": "stream",
     "text": [
      "Memory usage of dataframe is 17.55 MB\n",
      "Memory usage after optimization is: 8.54 MB\n",
      "Decreased by 51.4%\n"
     ]
    },
    {
     "name": "stderr",
     "output_type": "stream",
     "text": [
      "C:\\Users\\Elakkiya\\AppData\\Local\\Temp\\ipykernel_13232\\2303596474.py:44: DtypeWarning: Columns (25) have mixed types. Specify dtype option on import or set low_memory=False.\n",
      "  reduced_chunks = [reduce_memory_usage(chunk) for chunk in chunks]\n"
     ]
    },
    {
     "name": "stdout",
     "output_type": "stream",
     "text": [
      "Memory usage of dataframe is 17.55 MB\n",
      "Memory usage after optimization is: 8.54 MB\n",
      "Decreased by 51.4%\n"
     ]
    },
    {
     "name": "stderr",
     "output_type": "stream",
     "text": [
      "C:\\Users\\Elakkiya\\AppData\\Local\\Temp\\ipykernel_13232\\2303596474.py:44: DtypeWarning: Columns (25) have mixed types. Specify dtype option on import or set low_memory=False.\n",
      "  reduced_chunks = [reduce_memory_usage(chunk) for chunk in chunks]\n"
     ]
    },
    {
     "name": "stdout",
     "output_type": "stream",
     "text": [
      "Memory usage of dataframe is 17.55 MB\n",
      "Memory usage after optimization is: 8.54 MB\n",
      "Decreased by 51.4%\n"
     ]
    },
    {
     "name": "stderr",
     "output_type": "stream",
     "text": [
      "C:\\Users\\Elakkiya\\AppData\\Local\\Temp\\ipykernel_13232\\2303596474.py:44: DtypeWarning: Columns (25) have mixed types. Specify dtype option on import or set low_memory=False.\n",
      "  reduced_chunks = [reduce_memory_usage(chunk) for chunk in chunks]\n"
     ]
    },
    {
     "name": "stdout",
     "output_type": "stream",
     "text": [
      "Memory usage of dataframe is 17.55 MB\n",
      "Memory usage after optimization is: 8.54 MB\n",
      "Decreased by 51.4%\n"
     ]
    },
    {
     "name": "stderr",
     "output_type": "stream",
     "text": [
      "C:\\Users\\Elakkiya\\AppData\\Local\\Temp\\ipykernel_13232\\2303596474.py:44: DtypeWarning: Columns (25) have mixed types. Specify dtype option on import or set low_memory=False.\n",
      "  reduced_chunks = [reduce_memory_usage(chunk) for chunk in chunks]\n"
     ]
    },
    {
     "name": "stdout",
     "output_type": "stream",
     "text": [
      "Memory usage of dataframe is 17.55 MB\n",
      "Memory usage after optimization is: 8.54 MB\n",
      "Decreased by 51.4%\n"
     ]
    },
    {
     "name": "stderr",
     "output_type": "stream",
     "text": [
      "C:\\Users\\Elakkiya\\AppData\\Local\\Temp\\ipykernel_13232\\2303596474.py:44: DtypeWarning: Columns (25) have mixed types. Specify dtype option on import or set low_memory=False.\n",
      "  reduced_chunks = [reduce_memory_usage(chunk) for chunk in chunks]\n"
     ]
    },
    {
     "name": "stdout",
     "output_type": "stream",
     "text": [
      "Memory usage of dataframe is 17.55 MB\n",
      "Memory usage after optimization is: 8.54 MB\n",
      "Decreased by 51.4%\n"
     ]
    },
    {
     "name": "stderr",
     "output_type": "stream",
     "text": [
      "C:\\Users\\Elakkiya\\AppData\\Local\\Temp\\ipykernel_13232\\2303596474.py:44: DtypeWarning: Columns (25) have mixed types. Specify dtype option on import or set low_memory=False.\n",
      "  reduced_chunks = [reduce_memory_usage(chunk) for chunk in chunks]\n"
     ]
    },
    {
     "name": "stdout",
     "output_type": "stream",
     "text": [
      "Memory usage of dataframe is 17.55 MB\n",
      "Memory usage after optimization is: 8.54 MB\n",
      "Decreased by 51.4%\n"
     ]
    },
    {
     "name": "stderr",
     "output_type": "stream",
     "text": [
      "C:\\Users\\Elakkiya\\AppData\\Local\\Temp\\ipykernel_13232\\2303596474.py:44: DtypeWarning: Columns (25) have mixed types. Specify dtype option on import or set low_memory=False.\n",
      "  reduced_chunks = [reduce_memory_usage(chunk) for chunk in chunks]\n"
     ]
    },
    {
     "name": "stdout",
     "output_type": "stream",
     "text": [
      "Memory usage of dataframe is 17.55 MB\n",
      "Memory usage after optimization is: 8.54 MB\n",
      "Decreased by 51.4%\n"
     ]
    },
    {
     "name": "stderr",
     "output_type": "stream",
     "text": [
      "C:\\Users\\Elakkiya\\AppData\\Local\\Temp\\ipykernel_13232\\2303596474.py:44: DtypeWarning: Columns (25) have mixed types. Specify dtype option on import or set low_memory=False.\n",
      "  reduced_chunks = [reduce_memory_usage(chunk) for chunk in chunks]\n"
     ]
    },
    {
     "name": "stdout",
     "output_type": "stream",
     "text": [
      "Memory usage of dataframe is 17.55 MB\n",
      "Memory usage after optimization is: 8.54 MB\n",
      "Decreased by 51.4%\n"
     ]
    },
    {
     "name": "stderr",
     "output_type": "stream",
     "text": [
      "C:\\Users\\Elakkiya\\AppData\\Local\\Temp\\ipykernel_13232\\2303596474.py:44: DtypeWarning: Columns (25) have mixed types. Specify dtype option on import or set low_memory=False.\n",
      "  reduced_chunks = [reduce_memory_usage(chunk) for chunk in chunks]\n"
     ]
    },
    {
     "name": "stdout",
     "output_type": "stream",
     "text": [
      "Memory usage of dataframe is 17.55 MB\n",
      "Memory usage after optimization is: 8.54 MB\n",
      "Decreased by 51.4%\n",
      "Memory usage of dataframe is 17.55 MB\n",
      "Memory usage after optimization is: 8.25 MB\n",
      "Decreased by 53.0%\n"
     ]
    },
    {
     "name": "stderr",
     "output_type": "stream",
     "text": [
      "C:\\Users\\Elakkiya\\AppData\\Local\\Temp\\ipykernel_13232\\2303596474.py:44: DtypeWarning: Columns (25) have mixed types. Specify dtype option on import or set low_memory=False.\n",
      "  reduced_chunks = [reduce_memory_usage(chunk) for chunk in chunks]\n"
     ]
    },
    {
     "name": "stdout",
     "output_type": "stream",
     "text": [
      "Memory usage of dataframe is 17.55 MB\n",
      "Memory usage after optimization is: 8.54 MB\n",
      "Decreased by 51.4%\n"
     ]
    },
    {
     "name": "stderr",
     "output_type": "stream",
     "text": [
      "C:\\Users\\Elakkiya\\AppData\\Local\\Temp\\ipykernel_13232\\2303596474.py:44: DtypeWarning: Columns (25) have mixed types. Specify dtype option on import or set low_memory=False.\n",
      "  reduced_chunks = [reduce_memory_usage(chunk) for chunk in chunks]\n"
     ]
    },
    {
     "name": "stdout",
     "output_type": "stream",
     "text": [
      "Memory usage of dataframe is 17.55 MB\n",
      "Memory usage after optimization is: 8.54 MB\n",
      "Decreased by 51.4%\n"
     ]
    },
    {
     "name": "stderr",
     "output_type": "stream",
     "text": [
      "C:\\Users\\Elakkiya\\AppData\\Local\\Temp\\ipykernel_13232\\2303596474.py:44: DtypeWarning: Columns (25) have mixed types. Specify dtype option on import or set low_memory=False.\n",
      "  reduced_chunks = [reduce_memory_usage(chunk) for chunk in chunks]\n"
     ]
    },
    {
     "name": "stdout",
     "output_type": "stream",
     "text": [
      "Memory usage of dataframe is 17.55 MB\n",
      "Memory usage after optimization is: 8.54 MB\n",
      "Decreased by 51.4%\n"
     ]
    },
    {
     "name": "stderr",
     "output_type": "stream",
     "text": [
      "C:\\Users\\Elakkiya\\AppData\\Local\\Temp\\ipykernel_13232\\2303596474.py:44: DtypeWarning: Columns (25) have mixed types. Specify dtype option on import or set low_memory=False.\n",
      "  reduced_chunks = [reduce_memory_usage(chunk) for chunk in chunks]\n"
     ]
    },
    {
     "name": "stdout",
     "output_type": "stream",
     "text": [
      "Memory usage of dataframe is 17.55 MB\n",
      "Memory usage after optimization is: 8.54 MB\n",
      "Decreased by 51.4%\n"
     ]
    },
    {
     "name": "stderr",
     "output_type": "stream",
     "text": [
      "C:\\Users\\Elakkiya\\AppData\\Local\\Temp\\ipykernel_13232\\2303596474.py:44: DtypeWarning: Columns (25) have mixed types. Specify dtype option on import or set low_memory=False.\n",
      "  reduced_chunks = [reduce_memory_usage(chunk) for chunk in chunks]\n"
     ]
    },
    {
     "name": "stdout",
     "output_type": "stream",
     "text": [
      "Memory usage of dataframe is 17.55 MB\n",
      "Memory usage after optimization is: 8.54 MB\n",
      "Decreased by 51.4%\n"
     ]
    },
    {
     "name": "stderr",
     "output_type": "stream",
     "text": [
      "C:\\Users\\Elakkiya\\AppData\\Local\\Temp\\ipykernel_13232\\2303596474.py:44: DtypeWarning: Columns (25) have mixed types. Specify dtype option on import or set low_memory=False.\n",
      "  reduced_chunks = [reduce_memory_usage(chunk) for chunk in chunks]\n"
     ]
    },
    {
     "name": "stdout",
     "output_type": "stream",
     "text": [
      "Memory usage of dataframe is 17.55 MB\n",
      "Memory usage after optimization is: 8.54 MB\n",
      "Decreased by 51.4%\n"
     ]
    },
    {
     "name": "stderr",
     "output_type": "stream",
     "text": [
      "C:\\Users\\Elakkiya\\AppData\\Local\\Temp\\ipykernel_13232\\2303596474.py:44: DtypeWarning: Columns (25) have mixed types. Specify dtype option on import or set low_memory=False.\n",
      "  reduced_chunks = [reduce_memory_usage(chunk) for chunk in chunks]\n"
     ]
    },
    {
     "name": "stdout",
     "output_type": "stream",
     "text": [
      "Memory usage of dataframe is 17.55 MB\n",
      "Memory usage after optimization is: 8.54 MB\n",
      "Decreased by 51.4%\n"
     ]
    },
    {
     "name": "stderr",
     "output_type": "stream",
     "text": [
      "C:\\Users\\Elakkiya\\AppData\\Local\\Temp\\ipykernel_13232\\2303596474.py:44: DtypeWarning: Columns (25) have mixed types. Specify dtype option on import or set low_memory=False.\n",
      "  reduced_chunks = [reduce_memory_usage(chunk) for chunk in chunks]\n"
     ]
    },
    {
     "name": "stdout",
     "output_type": "stream",
     "text": [
      "Memory usage of dataframe is 17.55 MB\n",
      "Memory usage after optimization is: 8.54 MB\n",
      "Decreased by 51.4%\n"
     ]
    },
    {
     "name": "stderr",
     "output_type": "stream",
     "text": [
      "C:\\Users\\Elakkiya\\AppData\\Local\\Temp\\ipykernel_13232\\2303596474.py:44: DtypeWarning: Columns (25) have mixed types. Specify dtype option on import or set low_memory=False.\n",
      "  reduced_chunks = [reduce_memory_usage(chunk) for chunk in chunks]\n"
     ]
    },
    {
     "name": "stdout",
     "output_type": "stream",
     "text": [
      "Memory usage of dataframe is 17.55 MB\n",
      "Memory usage after optimization is: 8.54 MB\n",
      "Decreased by 51.4%\n"
     ]
    },
    {
     "name": "stderr",
     "output_type": "stream",
     "text": [
      "C:\\Users\\Elakkiya\\AppData\\Local\\Temp\\ipykernel_13232\\2303596474.py:44: DtypeWarning: Columns (25) have mixed types. Specify dtype option on import or set low_memory=False.\n",
      "  reduced_chunks = [reduce_memory_usage(chunk) for chunk in chunks]\n"
     ]
    },
    {
     "name": "stdout",
     "output_type": "stream",
     "text": [
      "Memory usage of dataframe is 17.55 MB\n",
      "Memory usage after optimization is: 8.54 MB\n",
      "Decreased by 51.4%\n"
     ]
    },
    {
     "name": "stderr",
     "output_type": "stream",
     "text": [
      "C:\\Users\\Elakkiya\\AppData\\Local\\Temp\\ipykernel_13232\\2303596474.py:44: DtypeWarning: Columns (25) have mixed types. Specify dtype option on import or set low_memory=False.\n",
      "  reduced_chunks = [reduce_memory_usage(chunk) for chunk in chunks]\n"
     ]
    },
    {
     "name": "stdout",
     "output_type": "stream",
     "text": [
      "Memory usage of dataframe is 17.55 MB\n",
      "Memory usage after optimization is: 8.54 MB\n",
      "Decreased by 51.4%\n"
     ]
    },
    {
     "name": "stderr",
     "output_type": "stream",
     "text": [
      "C:\\Users\\Elakkiya\\AppData\\Local\\Temp\\ipykernel_13232\\2303596474.py:44: DtypeWarning: Columns (25) have mixed types. Specify dtype option on import or set low_memory=False.\n",
      "  reduced_chunks = [reduce_memory_usage(chunk) for chunk in chunks]\n"
     ]
    },
    {
     "name": "stdout",
     "output_type": "stream",
     "text": [
      "Memory usage of dataframe is 17.55 MB\n",
      "Memory usage after optimization is: 8.54 MB\n",
      "Decreased by 51.4%\n"
     ]
    },
    {
     "name": "stderr",
     "output_type": "stream",
     "text": [
      "C:\\Users\\Elakkiya\\AppData\\Local\\Temp\\ipykernel_13232\\2303596474.py:44: DtypeWarning: Columns (25) have mixed types. Specify dtype option on import or set low_memory=False.\n",
      "  reduced_chunks = [reduce_memory_usage(chunk) for chunk in chunks]\n"
     ]
    },
    {
     "name": "stdout",
     "output_type": "stream",
     "text": [
      "Memory usage of dataframe is 17.55 MB\n",
      "Memory usage after optimization is: 8.54 MB\n",
      "Decreased by 51.4%\n"
     ]
    },
    {
     "name": "stderr",
     "output_type": "stream",
     "text": [
      "C:\\Users\\Elakkiya\\AppData\\Local\\Temp\\ipykernel_13232\\2303596474.py:44: DtypeWarning: Columns (25) have mixed types. Specify dtype option on import or set low_memory=False.\n",
      "  reduced_chunks = [reduce_memory_usage(chunk) for chunk in chunks]\n"
     ]
    },
    {
     "name": "stdout",
     "output_type": "stream",
     "text": [
      "Memory usage of dataframe is 17.55 MB\n",
      "Memory usage after optimization is: 8.54 MB\n",
      "Decreased by 51.4%\n"
     ]
    },
    {
     "name": "stderr",
     "output_type": "stream",
     "text": [
      "C:\\Users\\Elakkiya\\AppData\\Local\\Temp\\ipykernel_13232\\2303596474.py:44: DtypeWarning: Columns (25) have mixed types. Specify dtype option on import or set low_memory=False.\n",
      "  reduced_chunks = [reduce_memory_usage(chunk) for chunk in chunks]\n"
     ]
    },
    {
     "name": "stdout",
     "output_type": "stream",
     "text": [
      "Memory usage of dataframe is 17.55 MB\n",
      "Memory usage after optimization is: 8.54 MB\n",
      "Decreased by 51.4%\n"
     ]
    },
    {
     "name": "stderr",
     "output_type": "stream",
     "text": [
      "C:\\Users\\Elakkiya\\AppData\\Local\\Temp\\ipykernel_13232\\2303596474.py:44: DtypeWarning: Columns (25) have mixed types. Specify dtype option on import or set low_memory=False.\n",
      "  reduced_chunks = [reduce_memory_usage(chunk) for chunk in chunks]\n"
     ]
    },
    {
     "name": "stdout",
     "output_type": "stream",
     "text": [
      "Memory usage of dataframe is 17.55 MB\n",
      "Memory usage after optimization is: 8.54 MB\n",
      "Decreased by 51.4%\n"
     ]
    },
    {
     "name": "stderr",
     "output_type": "stream",
     "text": [
      "C:\\Users\\Elakkiya\\AppData\\Local\\Temp\\ipykernel_13232\\2303596474.py:44: DtypeWarning: Columns (25) have mixed types. Specify dtype option on import or set low_memory=False.\n",
      "  reduced_chunks = [reduce_memory_usage(chunk) for chunk in chunks]\n"
     ]
    },
    {
     "name": "stdout",
     "output_type": "stream",
     "text": [
      "Memory usage of dataframe is 17.55 MB\n",
      "Memory usage after optimization is: 8.54 MB\n",
      "Decreased by 51.4%\n"
     ]
    },
    {
     "name": "stderr",
     "output_type": "stream",
     "text": [
      "C:\\Users\\Elakkiya\\AppData\\Local\\Temp\\ipykernel_13232\\2303596474.py:44: DtypeWarning: Columns (25) have mixed types. Specify dtype option on import or set low_memory=False.\n",
      "  reduced_chunks = [reduce_memory_usage(chunk) for chunk in chunks]\n"
     ]
    },
    {
     "name": "stdout",
     "output_type": "stream",
     "text": [
      "Memory usage of dataframe is 17.55 MB\n",
      "Memory usage after optimization is: 8.54 MB\n",
      "Decreased by 51.4%\n"
     ]
    },
    {
     "name": "stderr",
     "output_type": "stream",
     "text": [
      "C:\\Users\\Elakkiya\\AppData\\Local\\Temp\\ipykernel_13232\\2303596474.py:44: DtypeWarning: Columns (25) have mixed types. Specify dtype option on import or set low_memory=False.\n",
      "  reduced_chunks = [reduce_memory_usage(chunk) for chunk in chunks]\n"
     ]
    },
    {
     "name": "stdout",
     "output_type": "stream",
     "text": [
      "Memory usage of dataframe is 17.55 MB\n",
      "Memory usage after optimization is: 8.54 MB\n",
      "Decreased by 51.4%\n"
     ]
    },
    {
     "name": "stderr",
     "output_type": "stream",
     "text": [
      "C:\\Users\\Elakkiya\\AppData\\Local\\Temp\\ipykernel_13232\\2303596474.py:44: DtypeWarning: Columns (25) have mixed types. Specify dtype option on import or set low_memory=False.\n",
      "  reduced_chunks = [reduce_memory_usage(chunk) for chunk in chunks]\n"
     ]
    },
    {
     "name": "stdout",
     "output_type": "stream",
     "text": [
      "Memory usage of dataframe is 17.55 MB\n",
      "Memory usage after optimization is: 8.54 MB\n",
      "Decreased by 51.4%\n"
     ]
    },
    {
     "name": "stderr",
     "output_type": "stream",
     "text": [
      "C:\\Users\\Elakkiya\\AppData\\Local\\Temp\\ipykernel_13232\\2303596474.py:44: DtypeWarning: Columns (25) have mixed types. Specify dtype option on import or set low_memory=False.\n",
      "  reduced_chunks = [reduce_memory_usage(chunk) for chunk in chunks]\n"
     ]
    },
    {
     "name": "stdout",
     "output_type": "stream",
     "text": [
      "Memory usage of dataframe is 17.55 MB\n",
      "Memory usage after optimization is: 8.54 MB\n",
      "Decreased by 51.4%\n"
     ]
    },
    {
     "name": "stderr",
     "output_type": "stream",
     "text": [
      "C:\\Users\\Elakkiya\\AppData\\Local\\Temp\\ipykernel_13232\\2303596474.py:44: DtypeWarning: Columns (25) have mixed types. Specify dtype option on import or set low_memory=False.\n",
      "  reduced_chunks = [reduce_memory_usage(chunk) for chunk in chunks]\n"
     ]
    },
    {
     "name": "stdout",
     "output_type": "stream",
     "text": [
      "Memory usage of dataframe is 17.55 MB\n",
      "Memory usage after optimization is: 8.54 MB\n",
      "Decreased by 51.4%\n"
     ]
    },
    {
     "name": "stderr",
     "output_type": "stream",
     "text": [
      "C:\\Users\\Elakkiya\\AppData\\Local\\Temp\\ipykernel_13232\\2303596474.py:44: DtypeWarning: Columns (25) have mixed types. Specify dtype option on import or set low_memory=False.\n",
      "  reduced_chunks = [reduce_memory_usage(chunk) for chunk in chunks]\n"
     ]
    },
    {
     "name": "stdout",
     "output_type": "stream",
     "text": [
      "Memory usage of dataframe is 17.55 MB\n",
      "Memory usage after optimization is: 8.54 MB\n",
      "Decreased by 51.4%\n"
     ]
    },
    {
     "name": "stderr",
     "output_type": "stream",
     "text": [
      "C:\\Users\\Elakkiya\\AppData\\Local\\Temp\\ipykernel_13232\\2303596474.py:44: DtypeWarning: Columns (25) have mixed types. Specify dtype option on import or set low_memory=False.\n",
      "  reduced_chunks = [reduce_memory_usage(chunk) for chunk in chunks]\n"
     ]
    },
    {
     "name": "stdout",
     "output_type": "stream",
     "text": [
      "Memory usage of dataframe is 17.55 MB\n",
      "Memory usage after optimization is: 8.54 MB\n",
      "Decreased by 51.4%\n"
     ]
    },
    {
     "name": "stderr",
     "output_type": "stream",
     "text": [
      "C:\\Users\\Elakkiya\\AppData\\Local\\Temp\\ipykernel_13232\\2303596474.py:44: DtypeWarning: Columns (25) have mixed types. Specify dtype option on import or set low_memory=False.\n",
      "  reduced_chunks = [reduce_memory_usage(chunk) for chunk in chunks]\n"
     ]
    },
    {
     "name": "stdout",
     "output_type": "stream",
     "text": [
      "Memory usage of dataframe is 17.55 MB\n",
      "Memory usage after optimization is: 8.54 MB\n",
      "Decreased by 51.4%\n",
      "Memory usage of dataframe is 17.55 MB\n",
      "Memory usage after optimization is: 8.25 MB\n",
      "Decreased by 53.0%\n"
     ]
    },
    {
     "name": "stderr",
     "output_type": "stream",
     "text": [
      "C:\\Users\\Elakkiya\\AppData\\Local\\Temp\\ipykernel_13232\\2303596474.py:44: DtypeWarning: Columns (25) have mixed types. Specify dtype option on import or set low_memory=False.\n",
      "  reduced_chunks = [reduce_memory_usage(chunk) for chunk in chunks]\n"
     ]
    },
    {
     "name": "stdout",
     "output_type": "stream",
     "text": [
      "Memory usage of dataframe is 17.55 MB\n",
      "Memory usage after optimization is: 8.54 MB\n",
      "Decreased by 51.4%\n"
     ]
    },
    {
     "name": "stderr",
     "output_type": "stream",
     "text": [
      "C:\\Users\\Elakkiya\\AppData\\Local\\Temp\\ipykernel_13232\\2303596474.py:44: DtypeWarning: Columns (25) have mixed types. Specify dtype option on import or set low_memory=False.\n",
      "  reduced_chunks = [reduce_memory_usage(chunk) for chunk in chunks]\n"
     ]
    },
    {
     "name": "stdout",
     "output_type": "stream",
     "text": [
      "Memory usage of dataframe is 17.55 MB\n",
      "Memory usage after optimization is: 8.54 MB\n",
      "Decreased by 51.4%\n"
     ]
    },
    {
     "name": "stderr",
     "output_type": "stream",
     "text": [
      "C:\\Users\\Elakkiya\\AppData\\Local\\Temp\\ipykernel_13232\\2303596474.py:44: DtypeWarning: Columns (25) have mixed types. Specify dtype option on import or set low_memory=False.\n",
      "  reduced_chunks = [reduce_memory_usage(chunk) for chunk in chunks]\n"
     ]
    },
    {
     "name": "stdout",
     "output_type": "stream",
     "text": [
      "Memory usage of dataframe is 17.55 MB\n",
      "Memory usage after optimization is: 8.54 MB\n",
      "Decreased by 51.4%\n"
     ]
    },
    {
     "name": "stderr",
     "output_type": "stream",
     "text": [
      "C:\\Users\\Elakkiya\\AppData\\Local\\Temp\\ipykernel_13232\\2303596474.py:44: DtypeWarning: Columns (25) have mixed types. Specify dtype option on import or set low_memory=False.\n",
      "  reduced_chunks = [reduce_memory_usage(chunk) for chunk in chunks]\n"
     ]
    },
    {
     "name": "stdout",
     "output_type": "stream",
     "text": [
      "Memory usage of dataframe is 17.55 MB\n",
      "Memory usage after optimization is: 8.54 MB\n",
      "Decreased by 51.4%\n"
     ]
    },
    {
     "name": "stderr",
     "output_type": "stream",
     "text": [
      "C:\\Users\\Elakkiya\\AppData\\Local\\Temp\\ipykernel_13232\\2303596474.py:44: DtypeWarning: Columns (25) have mixed types. Specify dtype option on import or set low_memory=False.\n",
      "  reduced_chunks = [reduce_memory_usage(chunk) for chunk in chunks]\n"
     ]
    },
    {
     "name": "stdout",
     "output_type": "stream",
     "text": [
      "Memory usage of dataframe is 17.55 MB\n",
      "Memory usage after optimization is: 8.54 MB\n",
      "Decreased by 51.4%\n"
     ]
    },
    {
     "name": "stderr",
     "output_type": "stream",
     "text": [
      "C:\\Users\\Elakkiya\\AppData\\Local\\Temp\\ipykernel_13232\\2303596474.py:44: DtypeWarning: Columns (25) have mixed types. Specify dtype option on import or set low_memory=False.\n",
      "  reduced_chunks = [reduce_memory_usage(chunk) for chunk in chunks]\n"
     ]
    },
    {
     "name": "stdout",
     "output_type": "stream",
     "text": [
      "Memory usage of dataframe is 17.55 MB\n",
      "Memory usage after optimization is: 8.54 MB\n",
      "Decreased by 51.4%\n"
     ]
    },
    {
     "name": "stderr",
     "output_type": "stream",
     "text": [
      "C:\\Users\\Elakkiya\\AppData\\Local\\Temp\\ipykernel_13232\\2303596474.py:44: DtypeWarning: Columns (25) have mixed types. Specify dtype option on import or set low_memory=False.\n",
      "  reduced_chunks = [reduce_memory_usage(chunk) for chunk in chunks]\n"
     ]
    },
    {
     "name": "stdout",
     "output_type": "stream",
     "text": [
      "Memory usage of dataframe is 17.55 MB\n",
      "Memory usage after optimization is: 8.54 MB\n",
      "Decreased by 51.4%\n"
     ]
    },
    {
     "name": "stderr",
     "output_type": "stream",
     "text": [
      "C:\\Users\\Elakkiya\\AppData\\Local\\Temp\\ipykernel_13232\\2303596474.py:44: DtypeWarning: Columns (25) have mixed types. Specify dtype option on import or set low_memory=False.\n",
      "  reduced_chunks = [reduce_memory_usage(chunk) for chunk in chunks]\n"
     ]
    },
    {
     "name": "stdout",
     "output_type": "stream",
     "text": [
      "Memory usage of dataframe is 17.55 MB\n",
      "Memory usage after optimization is: 8.54 MB\n",
      "Decreased by 51.4%\n"
     ]
    },
    {
     "name": "stderr",
     "output_type": "stream",
     "text": [
      "C:\\Users\\Elakkiya\\AppData\\Local\\Temp\\ipykernel_13232\\2303596474.py:44: DtypeWarning: Columns (25) have mixed types. Specify dtype option on import or set low_memory=False.\n",
      "  reduced_chunks = [reduce_memory_usage(chunk) for chunk in chunks]\n"
     ]
    },
    {
     "name": "stdout",
     "output_type": "stream",
     "text": [
      "Memory usage of dataframe is 17.55 MB\n",
      "Memory usage after optimization is: 8.54 MB\n",
      "Decreased by 51.4%\n"
     ]
    },
    {
     "name": "stderr",
     "output_type": "stream",
     "text": [
      "C:\\Users\\Elakkiya\\AppData\\Local\\Temp\\ipykernel_13232\\2303596474.py:44: DtypeWarning: Columns (25) have mixed types. Specify dtype option on import or set low_memory=False.\n",
      "  reduced_chunks = [reduce_memory_usage(chunk) for chunk in chunks]\n"
     ]
    },
    {
     "name": "stdout",
     "output_type": "stream",
     "text": [
      "Memory usage of dataframe is 17.55 MB\n",
      "Memory usage after optimization is: 8.54 MB\n",
      "Decreased by 51.4%\n"
     ]
    },
    {
     "name": "stderr",
     "output_type": "stream",
     "text": [
      "C:\\Users\\Elakkiya\\AppData\\Local\\Temp\\ipykernel_13232\\2303596474.py:44: DtypeWarning: Columns (25) have mixed types. Specify dtype option on import or set low_memory=False.\n",
      "  reduced_chunks = [reduce_memory_usage(chunk) for chunk in chunks]\n"
     ]
    },
    {
     "name": "stdout",
     "output_type": "stream",
     "text": [
      "Memory usage of dataframe is 17.55 MB\n",
      "Memory usage after optimization is: 8.54 MB\n",
      "Decreased by 51.4%\n"
     ]
    },
    {
     "name": "stderr",
     "output_type": "stream",
     "text": [
      "C:\\Users\\Elakkiya\\AppData\\Local\\Temp\\ipykernel_13232\\2303596474.py:44: DtypeWarning: Columns (25) have mixed types. Specify dtype option on import or set low_memory=False.\n",
      "  reduced_chunks = [reduce_memory_usage(chunk) for chunk in chunks]\n"
     ]
    },
    {
     "name": "stdout",
     "output_type": "stream",
     "text": [
      "Memory usage of dataframe is 17.55 MB\n",
      "Memory usage after optimization is: 8.54 MB\n",
      "Decreased by 51.4%\n"
     ]
    },
    {
     "name": "stderr",
     "output_type": "stream",
     "text": [
      "C:\\Users\\Elakkiya\\AppData\\Local\\Temp\\ipykernel_13232\\2303596474.py:44: DtypeWarning: Columns (25) have mixed types. Specify dtype option on import or set low_memory=False.\n",
      "  reduced_chunks = [reduce_memory_usage(chunk) for chunk in chunks]\n"
     ]
    },
    {
     "name": "stdout",
     "output_type": "stream",
     "text": [
      "Memory usage of dataframe is 17.55 MB\n",
      "Memory usage after optimization is: 8.54 MB\n",
      "Decreased by 51.4%\n"
     ]
    },
    {
     "name": "stderr",
     "output_type": "stream",
     "text": [
      "C:\\Users\\Elakkiya\\AppData\\Local\\Temp\\ipykernel_13232\\2303596474.py:44: DtypeWarning: Columns (25) have mixed types. Specify dtype option on import or set low_memory=False.\n",
      "  reduced_chunks = [reduce_memory_usage(chunk) for chunk in chunks]\n"
     ]
    },
    {
     "name": "stdout",
     "output_type": "stream",
     "text": [
      "Memory usage of dataframe is 17.55 MB\n",
      "Memory usage after optimization is: 8.54 MB\n",
      "Decreased by 51.4%\n"
     ]
    },
    {
     "name": "stderr",
     "output_type": "stream",
     "text": [
      "C:\\Users\\Elakkiya\\AppData\\Local\\Temp\\ipykernel_13232\\2303596474.py:44: DtypeWarning: Columns (25) have mixed types. Specify dtype option on import or set low_memory=False.\n",
      "  reduced_chunks = [reduce_memory_usage(chunk) for chunk in chunks]\n"
     ]
    },
    {
     "name": "stdout",
     "output_type": "stream",
     "text": [
      "Memory usage of dataframe is 17.55 MB\n",
      "Memory usage after optimization is: 8.54 MB\n",
      "Decreased by 51.4%\n"
     ]
    },
    {
     "name": "stderr",
     "output_type": "stream",
     "text": [
      "C:\\Users\\Elakkiya\\AppData\\Local\\Temp\\ipykernel_13232\\2303596474.py:44: DtypeWarning: Columns (25) have mixed types. Specify dtype option on import or set low_memory=False.\n",
      "  reduced_chunks = [reduce_memory_usage(chunk) for chunk in chunks]\n"
     ]
    },
    {
     "name": "stdout",
     "output_type": "stream",
     "text": [
      "Memory usage of dataframe is 17.55 MB\n",
      "Memory usage after optimization is: 8.54 MB\n",
      "Decreased by 51.4%\n"
     ]
    },
    {
     "name": "stderr",
     "output_type": "stream",
     "text": [
      "C:\\Users\\Elakkiya\\AppData\\Local\\Temp\\ipykernel_13232\\2303596474.py:44: DtypeWarning: Columns (25) have mixed types. Specify dtype option on import or set low_memory=False.\n",
      "  reduced_chunks = [reduce_memory_usage(chunk) for chunk in chunks]\n"
     ]
    },
    {
     "name": "stdout",
     "output_type": "stream",
     "text": [
      "Memory usage of dataframe is 17.55 MB\n",
      "Memory usage after optimization is: 8.54 MB\n",
      "Decreased by 51.4%\n"
     ]
    },
    {
     "name": "stderr",
     "output_type": "stream",
     "text": [
      "C:\\Users\\Elakkiya\\AppData\\Local\\Temp\\ipykernel_13232\\2303596474.py:44: DtypeWarning: Columns (25) have mixed types. Specify dtype option on import or set low_memory=False.\n",
      "  reduced_chunks = [reduce_memory_usage(chunk) for chunk in chunks]\n"
     ]
    },
    {
     "name": "stdout",
     "output_type": "stream",
     "text": [
      "Memory usage of dataframe is 17.55 MB\n",
      "Memory usage after optimization is: 8.54 MB\n",
      "Decreased by 51.4%\n"
     ]
    },
    {
     "name": "stderr",
     "output_type": "stream",
     "text": [
      "C:\\Users\\Elakkiya\\AppData\\Local\\Temp\\ipykernel_13232\\2303596474.py:44: DtypeWarning: Columns (25) have mixed types. Specify dtype option on import or set low_memory=False.\n",
      "  reduced_chunks = [reduce_memory_usage(chunk) for chunk in chunks]\n"
     ]
    },
    {
     "name": "stdout",
     "output_type": "stream",
     "text": [
      "Memory usage of dataframe is 17.55 MB\n",
      "Memory usage after optimization is: 8.54 MB\n",
      "Decreased by 51.4%\n"
     ]
    },
    {
     "name": "stderr",
     "output_type": "stream",
     "text": [
      "C:\\Users\\Elakkiya\\AppData\\Local\\Temp\\ipykernel_13232\\2303596474.py:44: DtypeWarning: Columns (25) have mixed types. Specify dtype option on import or set low_memory=False.\n",
      "  reduced_chunks = [reduce_memory_usage(chunk) for chunk in chunks]\n"
     ]
    },
    {
     "name": "stdout",
     "output_type": "stream",
     "text": [
      "Memory usage of dataframe is 17.55 MB\n",
      "Memory usage after optimization is: 8.54 MB\n",
      "Decreased by 51.4%\n"
     ]
    },
    {
     "name": "stderr",
     "output_type": "stream",
     "text": [
      "C:\\Users\\Elakkiya\\AppData\\Local\\Temp\\ipykernel_13232\\2303596474.py:44: DtypeWarning: Columns (25) have mixed types. Specify dtype option on import or set low_memory=False.\n",
      "  reduced_chunks = [reduce_memory_usage(chunk) for chunk in chunks]\n"
     ]
    },
    {
     "name": "stdout",
     "output_type": "stream",
     "text": [
      "Memory usage of dataframe is 17.55 MB\n",
      "Memory usage after optimization is: 8.54 MB\n",
      "Decreased by 51.4%\n"
     ]
    },
    {
     "name": "stderr",
     "output_type": "stream",
     "text": [
      "C:\\Users\\Elakkiya\\AppData\\Local\\Temp\\ipykernel_13232\\2303596474.py:44: DtypeWarning: Columns (25) have mixed types. Specify dtype option on import or set low_memory=False.\n",
      "  reduced_chunks = [reduce_memory_usage(chunk) for chunk in chunks]\n"
     ]
    },
    {
     "name": "stdout",
     "output_type": "stream",
     "text": [
      "Memory usage of dataframe is 17.55 MB\n",
      "Memory usage after optimization is: 8.54 MB\n",
      "Decreased by 51.4%\n"
     ]
    },
    {
     "name": "stderr",
     "output_type": "stream",
     "text": [
      "C:\\Users\\Elakkiya\\AppData\\Local\\Temp\\ipykernel_13232\\2303596474.py:44: DtypeWarning: Columns (25) have mixed types. Specify dtype option on import or set low_memory=False.\n",
      "  reduced_chunks = [reduce_memory_usage(chunk) for chunk in chunks]\n"
     ]
    },
    {
     "name": "stdout",
     "output_type": "stream",
     "text": [
      "Memory usage of dataframe is 17.55 MB\n",
      "Memory usage after optimization is: 8.54 MB\n",
      "Decreased by 51.4%\n"
     ]
    },
    {
     "name": "stderr",
     "output_type": "stream",
     "text": [
      "C:\\Users\\Elakkiya\\AppData\\Local\\Temp\\ipykernel_13232\\2303596474.py:44: DtypeWarning: Columns (25) have mixed types. Specify dtype option on import or set low_memory=False.\n",
      "  reduced_chunks = [reduce_memory_usage(chunk) for chunk in chunks]\n"
     ]
    },
    {
     "name": "stdout",
     "output_type": "stream",
     "text": [
      "Memory usage of dataframe is 17.55 MB\n",
      "Memory usage after optimization is: 8.54 MB\n",
      "Decreased by 51.4%\n"
     ]
    },
    {
     "name": "stderr",
     "output_type": "stream",
     "text": [
      "C:\\Users\\Elakkiya\\AppData\\Local\\Temp\\ipykernel_13232\\2303596474.py:44: DtypeWarning: Columns (25) have mixed types. Specify dtype option on import or set low_memory=False.\n",
      "  reduced_chunks = [reduce_memory_usage(chunk) for chunk in chunks]\n"
     ]
    },
    {
     "name": "stdout",
     "output_type": "stream",
     "text": [
      "Memory usage of dataframe is 17.55 MB\n",
      "Memory usage after optimization is: 8.54 MB\n",
      "Decreased by 51.4%\n"
     ]
    },
    {
     "name": "stderr",
     "output_type": "stream",
     "text": [
      "C:\\Users\\Elakkiya\\AppData\\Local\\Temp\\ipykernel_13232\\2303596474.py:44: DtypeWarning: Columns (25) have mixed types. Specify dtype option on import or set low_memory=False.\n",
      "  reduced_chunks = [reduce_memory_usage(chunk) for chunk in chunks]\n"
     ]
    },
    {
     "name": "stdout",
     "output_type": "stream",
     "text": [
      "Memory usage of dataframe is 17.55 MB\n",
      "Memory usage after optimization is: 8.54 MB\n",
      "Decreased by 51.4%\n"
     ]
    },
    {
     "name": "stderr",
     "output_type": "stream",
     "text": [
      "C:\\Users\\Elakkiya\\AppData\\Local\\Temp\\ipykernel_13232\\2303596474.py:44: DtypeWarning: Columns (25) have mixed types. Specify dtype option on import or set low_memory=False.\n",
      "  reduced_chunks = [reduce_memory_usage(chunk) for chunk in chunks]\n"
     ]
    },
    {
     "name": "stdout",
     "output_type": "stream",
     "text": [
      "Memory usage of dataframe is 17.55 MB\n",
      "Memory usage after optimization is: 8.54 MB\n",
      "Decreased by 51.4%\n"
     ]
    },
    {
     "name": "stderr",
     "output_type": "stream",
     "text": [
      "C:\\Users\\Elakkiya\\AppData\\Local\\Temp\\ipykernel_13232\\2303596474.py:44: DtypeWarning: Columns (25) have mixed types. Specify dtype option on import or set low_memory=False.\n",
      "  reduced_chunks = [reduce_memory_usage(chunk) for chunk in chunks]\n"
     ]
    },
    {
     "name": "stdout",
     "output_type": "stream",
     "text": [
      "Memory usage of dataframe is 17.55 MB\n",
      "Memory usage after optimization is: 8.54 MB\n",
      "Decreased by 51.4%\n"
     ]
    },
    {
     "name": "stderr",
     "output_type": "stream",
     "text": [
      "C:\\Users\\Elakkiya\\AppData\\Local\\Temp\\ipykernel_13232\\2303596474.py:44: DtypeWarning: Columns (25) have mixed types. Specify dtype option on import or set low_memory=False.\n",
      "  reduced_chunks = [reduce_memory_usage(chunk) for chunk in chunks]\n"
     ]
    },
    {
     "name": "stdout",
     "output_type": "stream",
     "text": [
      "Memory usage of dataframe is 17.55 MB\n",
      "Memory usage after optimization is: 8.54 MB\n",
      "Decreased by 51.4%\n"
     ]
    },
    {
     "name": "stderr",
     "output_type": "stream",
     "text": [
      "C:\\Users\\Elakkiya\\AppData\\Local\\Temp\\ipykernel_13232\\2303596474.py:44: DtypeWarning: Columns (25) have mixed types. Specify dtype option on import or set low_memory=False.\n",
      "  reduced_chunks = [reduce_memory_usage(chunk) for chunk in chunks]\n"
     ]
    },
    {
     "name": "stdout",
     "output_type": "stream",
     "text": [
      "Memory usage of dataframe is 17.55 MB\n",
      "Memory usage after optimization is: 8.54 MB\n",
      "Decreased by 51.4%\n"
     ]
    },
    {
     "name": "stderr",
     "output_type": "stream",
     "text": [
      "C:\\Users\\Elakkiya\\AppData\\Local\\Temp\\ipykernel_13232\\2303596474.py:44: DtypeWarning: Columns (25) have mixed types. Specify dtype option on import or set low_memory=False.\n",
      "  reduced_chunks = [reduce_memory_usage(chunk) for chunk in chunks]\n"
     ]
    },
    {
     "name": "stdout",
     "output_type": "stream",
     "text": [
      "Memory usage of dataframe is 17.55 MB\n",
      "Memory usage after optimization is: 8.54 MB\n",
      "Decreased by 51.4%\n"
     ]
    },
    {
     "name": "stderr",
     "output_type": "stream",
     "text": [
      "C:\\Users\\Elakkiya\\AppData\\Local\\Temp\\ipykernel_13232\\2303596474.py:44: DtypeWarning: Columns (25) have mixed types. Specify dtype option on import or set low_memory=False.\n",
      "  reduced_chunks = [reduce_memory_usage(chunk) for chunk in chunks]\n"
     ]
    },
    {
     "name": "stdout",
     "output_type": "stream",
     "text": [
      "Memory usage of dataframe is 17.55 MB\n",
      "Memory usage after optimization is: 8.54 MB\n",
      "Decreased by 51.4%\n"
     ]
    },
    {
     "name": "stderr",
     "output_type": "stream",
     "text": [
      "C:\\Users\\Elakkiya\\AppData\\Local\\Temp\\ipykernel_13232\\2303596474.py:44: DtypeWarning: Columns (25) have mixed types. Specify dtype option on import or set low_memory=False.\n",
      "  reduced_chunks = [reduce_memory_usage(chunk) for chunk in chunks]\n"
     ]
    },
    {
     "name": "stdout",
     "output_type": "stream",
     "text": [
      "Memory usage of dataframe is 17.55 MB\n",
      "Memory usage after optimization is: 8.54 MB\n",
      "Decreased by 51.4%\n"
     ]
    },
    {
     "name": "stderr",
     "output_type": "stream",
     "text": [
      "C:\\Users\\Elakkiya\\AppData\\Local\\Temp\\ipykernel_13232\\2303596474.py:44: DtypeWarning: Columns (25) have mixed types. Specify dtype option on import or set low_memory=False.\n",
      "  reduced_chunks = [reduce_memory_usage(chunk) for chunk in chunks]\n"
     ]
    },
    {
     "name": "stdout",
     "output_type": "stream",
     "text": [
      "Memory usage of dataframe is 17.55 MB\n",
      "Memory usage after optimization is: 8.54 MB\n",
      "Decreased by 51.4%\n"
     ]
    },
    {
     "name": "stderr",
     "output_type": "stream",
     "text": [
      "C:\\Users\\Elakkiya\\AppData\\Local\\Temp\\ipykernel_13232\\2303596474.py:44: DtypeWarning: Columns (25) have mixed types. Specify dtype option on import or set low_memory=False.\n",
      "  reduced_chunks = [reduce_memory_usage(chunk) for chunk in chunks]\n"
     ]
    },
    {
     "name": "stdout",
     "output_type": "stream",
     "text": [
      "Memory usage of dataframe is 17.55 MB\n",
      "Memory usage after optimization is: 8.54 MB\n",
      "Decreased by 51.4%\n"
     ]
    },
    {
     "name": "stderr",
     "output_type": "stream",
     "text": [
      "C:\\Users\\Elakkiya\\AppData\\Local\\Temp\\ipykernel_13232\\2303596474.py:44: DtypeWarning: Columns (25) have mixed types. Specify dtype option on import or set low_memory=False.\n",
      "  reduced_chunks = [reduce_memory_usage(chunk) for chunk in chunks]\n"
     ]
    },
    {
     "name": "stdout",
     "output_type": "stream",
     "text": [
      "Memory usage of dataframe is 17.55 MB\n",
      "Memory usage after optimization is: 8.54 MB\n",
      "Decreased by 51.4%\n"
     ]
    },
    {
     "name": "stderr",
     "output_type": "stream",
     "text": [
      "C:\\Users\\Elakkiya\\AppData\\Local\\Temp\\ipykernel_13232\\2303596474.py:44: DtypeWarning: Columns (25) have mixed types. Specify dtype option on import or set low_memory=False.\n",
      "  reduced_chunks = [reduce_memory_usage(chunk) for chunk in chunks]\n"
     ]
    },
    {
     "name": "stdout",
     "output_type": "stream",
     "text": [
      "Memory usage of dataframe is 17.55 MB\n",
      "Memory usage after optimization is: 8.54 MB\n",
      "Decreased by 51.4%\n"
     ]
    },
    {
     "name": "stderr",
     "output_type": "stream",
     "text": [
      "C:\\Users\\Elakkiya\\AppData\\Local\\Temp\\ipykernel_13232\\2303596474.py:44: DtypeWarning: Columns (25) have mixed types. Specify dtype option on import or set low_memory=False.\n",
      "  reduced_chunks = [reduce_memory_usage(chunk) for chunk in chunks]\n"
     ]
    },
    {
     "name": "stdout",
     "output_type": "stream",
     "text": [
      "Memory usage of dataframe is 17.55 MB\n",
      "Memory usage after optimization is: 8.54 MB\n",
      "Decreased by 51.4%\n",
      "Memory usage of dataframe is 17.55 MB\n",
      "Memory usage after optimization is: 8.54 MB\n",
      "Decreased by 51.4%\n"
     ]
    },
    {
     "name": "stderr",
     "output_type": "stream",
     "text": [
      "C:\\Users\\Elakkiya\\AppData\\Local\\Temp\\ipykernel_13232\\2303596474.py:44: DtypeWarning: Columns (25) have mixed types. Specify dtype option on import or set low_memory=False.\n",
      "  reduced_chunks = [reduce_memory_usage(chunk) for chunk in chunks]\n"
     ]
    },
    {
     "name": "stdout",
     "output_type": "stream",
     "text": [
      "Memory usage of dataframe is 17.55 MB\n",
      "Memory usage after optimization is: 8.54 MB\n",
      "Decreased by 51.4%\n"
     ]
    },
    {
     "name": "stderr",
     "output_type": "stream",
     "text": [
      "C:\\Users\\Elakkiya\\AppData\\Local\\Temp\\ipykernel_13232\\2303596474.py:44: DtypeWarning: Columns (25) have mixed types. Specify dtype option on import or set low_memory=False.\n",
      "  reduced_chunks = [reduce_memory_usage(chunk) for chunk in chunks]\n"
     ]
    },
    {
     "name": "stdout",
     "output_type": "stream",
     "text": [
      "Memory usage of dataframe is 17.55 MB\n",
      "Memory usage after optimization is: 8.54 MB\n",
      "Decreased by 51.4%\n",
      "Memory usage of dataframe is 17.55 MB\n",
      "Memory usage after optimization is: 8.54 MB\n",
      "Decreased by 51.4%\n"
     ]
    },
    {
     "name": "stderr",
     "output_type": "stream",
     "text": [
      "C:\\Users\\Elakkiya\\AppData\\Local\\Temp\\ipykernel_13232\\2303596474.py:44: DtypeWarning: Columns (25) have mixed types. Specify dtype option on import or set low_memory=False.\n",
      "  reduced_chunks = [reduce_memory_usage(chunk) for chunk in chunks]\n"
     ]
    },
    {
     "name": "stdout",
     "output_type": "stream",
     "text": [
      "Memory usage of dataframe is 17.55 MB\n",
      "Memory usage after optimization is: 8.54 MB\n",
      "Decreased by 51.4%\n"
     ]
    },
    {
     "name": "stderr",
     "output_type": "stream",
     "text": [
      "C:\\Users\\Elakkiya\\AppData\\Local\\Temp\\ipykernel_13232\\2303596474.py:44: DtypeWarning: Columns (25) have mixed types. Specify dtype option on import or set low_memory=False.\n",
      "  reduced_chunks = [reduce_memory_usage(chunk) for chunk in chunks]\n"
     ]
    },
    {
     "name": "stdout",
     "output_type": "stream",
     "text": [
      "Memory usage of dataframe is 17.55 MB\n",
      "Memory usage after optimization is: 8.54 MB\n",
      "Decreased by 51.4%\n"
     ]
    },
    {
     "name": "stderr",
     "output_type": "stream",
     "text": [
      "C:\\Users\\Elakkiya\\AppData\\Local\\Temp\\ipykernel_13232\\2303596474.py:44: DtypeWarning: Columns (25) have mixed types. Specify dtype option on import or set low_memory=False.\n",
      "  reduced_chunks = [reduce_memory_usage(chunk) for chunk in chunks]\n"
     ]
    },
    {
     "name": "stdout",
     "output_type": "stream",
     "text": [
      "Memory usage of dataframe is 17.55 MB\n",
      "Memory usage after optimization is: 8.54 MB\n",
      "Decreased by 51.4%\n"
     ]
    },
    {
     "name": "stderr",
     "output_type": "stream",
     "text": [
      "C:\\Users\\Elakkiya\\AppData\\Local\\Temp\\ipykernel_13232\\2303596474.py:44: DtypeWarning: Columns (25) have mixed types. Specify dtype option on import or set low_memory=False.\n",
      "  reduced_chunks = [reduce_memory_usage(chunk) for chunk in chunks]\n"
     ]
    },
    {
     "name": "stdout",
     "output_type": "stream",
     "text": [
      "Memory usage of dataframe is 17.55 MB\n",
      "Memory usage after optimization is: 8.54 MB\n",
      "Decreased by 51.4%\n"
     ]
    },
    {
     "name": "stderr",
     "output_type": "stream",
     "text": [
      "C:\\Users\\Elakkiya\\AppData\\Local\\Temp\\ipykernel_13232\\2303596474.py:44: DtypeWarning: Columns (25) have mixed types. Specify dtype option on import or set low_memory=False.\n",
      "  reduced_chunks = [reduce_memory_usage(chunk) for chunk in chunks]\n"
     ]
    },
    {
     "name": "stdout",
     "output_type": "stream",
     "text": [
      "Memory usage of dataframe is 17.55 MB\n",
      "Memory usage after optimization is: 8.54 MB\n",
      "Decreased by 51.4%\n"
     ]
    },
    {
     "name": "stderr",
     "output_type": "stream",
     "text": [
      "C:\\Users\\Elakkiya\\AppData\\Local\\Temp\\ipykernel_13232\\2303596474.py:44: DtypeWarning: Columns (25) have mixed types. Specify dtype option on import or set low_memory=False.\n",
      "  reduced_chunks = [reduce_memory_usage(chunk) for chunk in chunks]\n"
     ]
    },
    {
     "name": "stdout",
     "output_type": "stream",
     "text": [
      "Memory usage of dataframe is 17.55 MB\n",
      "Memory usage after optimization is: 8.54 MB\n",
      "Decreased by 51.4%\n"
     ]
    },
    {
     "name": "stderr",
     "output_type": "stream",
     "text": [
      "C:\\Users\\Elakkiya\\AppData\\Local\\Temp\\ipykernel_13232\\2303596474.py:44: DtypeWarning: Columns (25) have mixed types. Specify dtype option on import or set low_memory=False.\n",
      "  reduced_chunks = [reduce_memory_usage(chunk) for chunk in chunks]\n"
     ]
    },
    {
     "name": "stdout",
     "output_type": "stream",
     "text": [
      "Memory usage of dataframe is 17.55 MB\n",
      "Memory usage after optimization is: 8.54 MB\n",
      "Decreased by 51.4%\n"
     ]
    },
    {
     "name": "stderr",
     "output_type": "stream",
     "text": [
      "C:\\Users\\Elakkiya\\AppData\\Local\\Temp\\ipykernel_13232\\2303596474.py:44: DtypeWarning: Columns (25) have mixed types. Specify dtype option on import or set low_memory=False.\n",
      "  reduced_chunks = [reduce_memory_usage(chunk) for chunk in chunks]\n"
     ]
    },
    {
     "name": "stdout",
     "output_type": "stream",
     "text": [
      "Memory usage of dataframe is 17.55 MB\n",
      "Memory usage after optimization is: 8.54 MB\n",
      "Decreased by 51.4%\n"
     ]
    },
    {
     "name": "stderr",
     "output_type": "stream",
     "text": [
      "C:\\Users\\Elakkiya\\AppData\\Local\\Temp\\ipykernel_13232\\2303596474.py:44: DtypeWarning: Columns (25) have mixed types. Specify dtype option on import or set low_memory=False.\n",
      "  reduced_chunks = [reduce_memory_usage(chunk) for chunk in chunks]\n"
     ]
    },
    {
     "name": "stdout",
     "output_type": "stream",
     "text": [
      "Memory usage of dataframe is 17.55 MB\n",
      "Memory usage after optimization is: 8.54 MB\n",
      "Decreased by 51.4%\n"
     ]
    },
    {
     "name": "stderr",
     "output_type": "stream",
     "text": [
      "C:\\Users\\Elakkiya\\AppData\\Local\\Temp\\ipykernel_13232\\2303596474.py:44: DtypeWarning: Columns (25) have mixed types. Specify dtype option on import or set low_memory=False.\n",
      "  reduced_chunks = [reduce_memory_usage(chunk) for chunk in chunks]\n"
     ]
    },
    {
     "name": "stdout",
     "output_type": "stream",
     "text": [
      "Memory usage of dataframe is 17.55 MB\n",
      "Memory usage after optimization is: 8.54 MB\n",
      "Decreased by 51.4%\n"
     ]
    },
    {
     "name": "stderr",
     "output_type": "stream",
     "text": [
      "C:\\Users\\Elakkiya\\AppData\\Local\\Temp\\ipykernel_13232\\2303596474.py:44: DtypeWarning: Columns (25) have mixed types. Specify dtype option on import or set low_memory=False.\n",
      "  reduced_chunks = [reduce_memory_usage(chunk) for chunk in chunks]\n"
     ]
    },
    {
     "name": "stdout",
     "output_type": "stream",
     "text": [
      "Memory usage of dataframe is 17.55 MB\n",
      "Memory usage after optimization is: 8.54 MB\n",
      "Decreased by 51.4%\n"
     ]
    },
    {
     "name": "stderr",
     "output_type": "stream",
     "text": [
      "C:\\Users\\Elakkiya\\AppData\\Local\\Temp\\ipykernel_13232\\2303596474.py:44: DtypeWarning: Columns (25) have mixed types. Specify dtype option on import or set low_memory=False.\n",
      "  reduced_chunks = [reduce_memory_usage(chunk) for chunk in chunks]\n"
     ]
    },
    {
     "name": "stdout",
     "output_type": "stream",
     "text": [
      "Memory usage of dataframe is 17.55 MB\n",
      "Memory usage after optimization is: 8.54 MB\n",
      "Decreased by 51.4%\n"
     ]
    },
    {
     "name": "stderr",
     "output_type": "stream",
     "text": [
      "C:\\Users\\Elakkiya\\AppData\\Local\\Temp\\ipykernel_13232\\2303596474.py:44: DtypeWarning: Columns (25) have mixed types. Specify dtype option on import or set low_memory=False.\n",
      "  reduced_chunks = [reduce_memory_usage(chunk) for chunk in chunks]\n"
     ]
    },
    {
     "name": "stdout",
     "output_type": "stream",
     "text": [
      "Memory usage of dataframe is 17.55 MB\n",
      "Memory usage after optimization is: 8.54 MB\n",
      "Decreased by 51.4%\n"
     ]
    },
    {
     "name": "stderr",
     "output_type": "stream",
     "text": [
      "C:\\Users\\Elakkiya\\AppData\\Local\\Temp\\ipykernel_13232\\2303596474.py:44: DtypeWarning: Columns (25) have mixed types. Specify dtype option on import or set low_memory=False.\n",
      "  reduced_chunks = [reduce_memory_usage(chunk) for chunk in chunks]\n"
     ]
    },
    {
     "name": "stdout",
     "output_type": "stream",
     "text": [
      "Memory usage of dataframe is 17.55 MB\n",
      "Memory usage after optimization is: 8.54 MB\n",
      "Decreased by 51.4%\n"
     ]
    },
    {
     "name": "stderr",
     "output_type": "stream",
     "text": [
      "C:\\Users\\Elakkiya\\AppData\\Local\\Temp\\ipykernel_13232\\2303596474.py:44: DtypeWarning: Columns (25) have mixed types. Specify dtype option on import or set low_memory=False.\n",
      "  reduced_chunks = [reduce_memory_usage(chunk) for chunk in chunks]\n"
     ]
    },
    {
     "name": "stdout",
     "output_type": "stream",
     "text": [
      "Memory usage of dataframe is 17.55 MB\n",
      "Memory usage after optimization is: 8.54 MB\n",
      "Decreased by 51.4%\n"
     ]
    },
    {
     "name": "stderr",
     "output_type": "stream",
     "text": [
      "C:\\Users\\Elakkiya\\AppData\\Local\\Temp\\ipykernel_13232\\2303596474.py:44: DtypeWarning: Columns (25) have mixed types. Specify dtype option on import or set low_memory=False.\n",
      "  reduced_chunks = [reduce_memory_usage(chunk) for chunk in chunks]\n"
     ]
    },
    {
     "name": "stdout",
     "output_type": "stream",
     "text": [
      "Memory usage of dataframe is 17.55 MB\n",
      "Memory usage after optimization is: 8.54 MB\n",
      "Decreased by 51.4%\n"
     ]
    },
    {
     "name": "stderr",
     "output_type": "stream",
     "text": [
      "C:\\Users\\Elakkiya\\AppData\\Local\\Temp\\ipykernel_13232\\2303596474.py:44: DtypeWarning: Columns (25) have mixed types. Specify dtype option on import or set low_memory=False.\n",
      "  reduced_chunks = [reduce_memory_usage(chunk) for chunk in chunks]\n"
     ]
    },
    {
     "name": "stdout",
     "output_type": "stream",
     "text": [
      "Memory usage of dataframe is 17.55 MB\n",
      "Memory usage after optimization is: 8.54 MB\n",
      "Decreased by 51.4%\n"
     ]
    },
    {
     "name": "stderr",
     "output_type": "stream",
     "text": [
      "C:\\Users\\Elakkiya\\AppData\\Local\\Temp\\ipykernel_13232\\2303596474.py:44: DtypeWarning: Columns (25) have mixed types. Specify dtype option on import or set low_memory=False.\n",
      "  reduced_chunks = [reduce_memory_usage(chunk) for chunk in chunks]\n"
     ]
    },
    {
     "name": "stdout",
     "output_type": "stream",
     "text": [
      "Memory usage of dataframe is 17.55 MB\n",
      "Memory usage after optimization is: 8.54 MB\n",
      "Decreased by 51.4%\n"
     ]
    },
    {
     "name": "stderr",
     "output_type": "stream",
     "text": [
      "C:\\Users\\Elakkiya\\AppData\\Local\\Temp\\ipykernel_13232\\2303596474.py:44: DtypeWarning: Columns (25) have mixed types. Specify dtype option on import or set low_memory=False.\n",
      "  reduced_chunks = [reduce_memory_usage(chunk) for chunk in chunks]\n"
     ]
    },
    {
     "name": "stdout",
     "output_type": "stream",
     "text": [
      "Memory usage of dataframe is 17.55 MB\n",
      "Memory usage after optimization is: 8.54 MB\n",
      "Decreased by 51.4%\n"
     ]
    },
    {
     "name": "stderr",
     "output_type": "stream",
     "text": [
      "C:\\Users\\Elakkiya\\AppData\\Local\\Temp\\ipykernel_13232\\2303596474.py:44: DtypeWarning: Columns (25) have mixed types. Specify dtype option on import or set low_memory=False.\n",
      "  reduced_chunks = [reduce_memory_usage(chunk) for chunk in chunks]\n"
     ]
    },
    {
     "name": "stdout",
     "output_type": "stream",
     "text": [
      "Memory usage of dataframe is 17.55 MB\n",
      "Memory usage after optimization is: 8.54 MB\n",
      "Decreased by 51.4%\n"
     ]
    },
    {
     "name": "stderr",
     "output_type": "stream",
     "text": [
      "C:\\Users\\Elakkiya\\AppData\\Local\\Temp\\ipykernel_13232\\2303596474.py:44: DtypeWarning: Columns (25) have mixed types. Specify dtype option on import or set low_memory=False.\n",
      "  reduced_chunks = [reduce_memory_usage(chunk) for chunk in chunks]\n"
     ]
    },
    {
     "name": "stdout",
     "output_type": "stream",
     "text": [
      "Memory usage of dataframe is 17.55 MB\n",
      "Memory usage after optimization is: 8.54 MB\n",
      "Decreased by 51.4%\n"
     ]
    },
    {
     "name": "stderr",
     "output_type": "stream",
     "text": [
      "C:\\Users\\Elakkiya\\AppData\\Local\\Temp\\ipykernel_13232\\2303596474.py:44: DtypeWarning: Columns (25) have mixed types. Specify dtype option on import or set low_memory=False.\n",
      "  reduced_chunks = [reduce_memory_usage(chunk) for chunk in chunks]\n"
     ]
    },
    {
     "name": "stdout",
     "output_type": "stream",
     "text": [
      "Memory usage of dataframe is 17.55 MB\n",
      "Memory usage after optimization is: 8.54 MB\n",
      "Decreased by 51.4%\n"
     ]
    },
    {
     "name": "stderr",
     "output_type": "stream",
     "text": [
      "C:\\Users\\Elakkiya\\AppData\\Local\\Temp\\ipykernel_13232\\2303596474.py:44: DtypeWarning: Columns (25) have mixed types. Specify dtype option on import or set low_memory=False.\n",
      "  reduced_chunks = [reduce_memory_usage(chunk) for chunk in chunks]\n"
     ]
    },
    {
     "name": "stdout",
     "output_type": "stream",
     "text": [
      "Memory usage of dataframe is 17.55 MB\n",
      "Memory usage after optimization is: 8.54 MB\n",
      "Decreased by 51.4%\n"
     ]
    },
    {
     "name": "stderr",
     "output_type": "stream",
     "text": [
      "C:\\Users\\Elakkiya\\AppData\\Local\\Temp\\ipykernel_13232\\2303596474.py:44: DtypeWarning: Columns (25) have mixed types. Specify dtype option on import or set low_memory=False.\n",
      "  reduced_chunks = [reduce_memory_usage(chunk) for chunk in chunks]\n"
     ]
    },
    {
     "name": "stdout",
     "output_type": "stream",
     "text": [
      "Memory usage of dataframe is 17.55 MB\n",
      "Memory usage after optimization is: 8.54 MB\n",
      "Decreased by 51.4%\n"
     ]
    },
    {
     "name": "stderr",
     "output_type": "stream",
     "text": [
      "C:\\Users\\Elakkiya\\AppData\\Local\\Temp\\ipykernel_13232\\2303596474.py:44: DtypeWarning: Columns (25) have mixed types. Specify dtype option on import or set low_memory=False.\n",
      "  reduced_chunks = [reduce_memory_usage(chunk) for chunk in chunks]\n"
     ]
    },
    {
     "name": "stdout",
     "output_type": "stream",
     "text": [
      "Memory usage of dataframe is 17.55 MB\n",
      "Memory usage after optimization is: 8.54 MB\n",
      "Decreased by 51.4%\n",
      "Memory usage of dataframe is 17.55 MB\n",
      "Memory usage after optimization is: 8.54 MB\n",
      "Decreased by 51.4%\n",
      "Memory usage of dataframe is 17.55 MB\n",
      "Memory usage after optimization is: 8.25 MB\n",
      "Decreased by 53.0%\n"
     ]
    },
    {
     "name": "stderr",
     "output_type": "stream",
     "text": [
      "C:\\Users\\Elakkiya\\AppData\\Local\\Temp\\ipykernel_13232\\2303596474.py:44: DtypeWarning: Columns (25) have mixed types. Specify dtype option on import or set low_memory=False.\n",
      "  reduced_chunks = [reduce_memory_usage(chunk) for chunk in chunks]\n"
     ]
    },
    {
     "name": "stdout",
     "output_type": "stream",
     "text": [
      "Memory usage of dataframe is 17.55 MB\n",
      "Memory usage after optimization is: 8.54 MB\n",
      "Decreased by 51.4%\n"
     ]
    },
    {
     "name": "stderr",
     "output_type": "stream",
     "text": [
      "C:\\Users\\Elakkiya\\AppData\\Local\\Temp\\ipykernel_13232\\2303596474.py:44: DtypeWarning: Columns (25) have mixed types. Specify dtype option on import or set low_memory=False.\n",
      "  reduced_chunks = [reduce_memory_usage(chunk) for chunk in chunks]\n"
     ]
    },
    {
     "name": "stdout",
     "output_type": "stream",
     "text": [
      "Memory usage of dataframe is 17.55 MB\n",
      "Memory usage after optimization is: 8.54 MB\n",
      "Decreased by 51.4%\n"
     ]
    },
    {
     "name": "stderr",
     "output_type": "stream",
     "text": [
      "C:\\Users\\Elakkiya\\AppData\\Local\\Temp\\ipykernel_13232\\2303596474.py:44: DtypeWarning: Columns (25) have mixed types. Specify dtype option on import or set low_memory=False.\n",
      "  reduced_chunks = [reduce_memory_usage(chunk) for chunk in chunks]\n"
     ]
    },
    {
     "name": "stdout",
     "output_type": "stream",
     "text": [
      "Memory usage of dataframe is 17.55 MB\n",
      "Memory usage after optimization is: 8.54 MB\n",
      "Decreased by 51.4%\n"
     ]
    },
    {
     "name": "stderr",
     "output_type": "stream",
     "text": [
      "C:\\Users\\Elakkiya\\AppData\\Local\\Temp\\ipykernel_13232\\2303596474.py:44: DtypeWarning: Columns (25) have mixed types. Specify dtype option on import or set low_memory=False.\n",
      "  reduced_chunks = [reduce_memory_usage(chunk) for chunk in chunks]\n"
     ]
    },
    {
     "name": "stdout",
     "output_type": "stream",
     "text": [
      "Memory usage of dataframe is 17.55 MB\n",
      "Memory usage after optimization is: 8.54 MB\n",
      "Decreased by 51.4%\n"
     ]
    },
    {
     "name": "stderr",
     "output_type": "stream",
     "text": [
      "C:\\Users\\Elakkiya\\AppData\\Local\\Temp\\ipykernel_13232\\2303596474.py:44: DtypeWarning: Columns (25) have mixed types. Specify dtype option on import or set low_memory=False.\n",
      "  reduced_chunks = [reduce_memory_usage(chunk) for chunk in chunks]\n"
     ]
    },
    {
     "name": "stdout",
     "output_type": "stream",
     "text": [
      "Memory usage of dataframe is 17.55 MB\n",
      "Memory usage after optimization is: 8.54 MB\n",
      "Decreased by 51.4%\n"
     ]
    },
    {
     "name": "stderr",
     "output_type": "stream",
     "text": [
      "C:\\Users\\Elakkiya\\AppData\\Local\\Temp\\ipykernel_13232\\2303596474.py:44: DtypeWarning: Columns (25) have mixed types. Specify dtype option on import or set low_memory=False.\n",
      "  reduced_chunks = [reduce_memory_usage(chunk) for chunk in chunks]\n"
     ]
    },
    {
     "name": "stdout",
     "output_type": "stream",
     "text": [
      "Memory usage of dataframe is 17.55 MB\n",
      "Memory usage after optimization is: 8.54 MB\n",
      "Decreased by 51.4%\n"
     ]
    },
    {
     "name": "stderr",
     "output_type": "stream",
     "text": [
      "C:\\Users\\Elakkiya\\AppData\\Local\\Temp\\ipykernel_13232\\2303596474.py:44: DtypeWarning: Columns (25) have mixed types. Specify dtype option on import or set low_memory=False.\n",
      "  reduced_chunks = [reduce_memory_usage(chunk) for chunk in chunks]\n"
     ]
    },
    {
     "name": "stdout",
     "output_type": "stream",
     "text": [
      "Memory usage of dataframe is 17.55 MB\n",
      "Memory usage after optimization is: 8.54 MB\n",
      "Decreased by 51.4%\n"
     ]
    },
    {
     "name": "stderr",
     "output_type": "stream",
     "text": [
      "C:\\Users\\Elakkiya\\AppData\\Local\\Temp\\ipykernel_13232\\2303596474.py:44: DtypeWarning: Columns (25) have mixed types. Specify dtype option on import or set low_memory=False.\n",
      "  reduced_chunks = [reduce_memory_usage(chunk) for chunk in chunks]\n"
     ]
    },
    {
     "name": "stdout",
     "output_type": "stream",
     "text": [
      "Memory usage of dataframe is 17.55 MB\n",
      "Memory usage after optimization is: 8.54 MB\n",
      "Decreased by 51.4%\n"
     ]
    },
    {
     "name": "stderr",
     "output_type": "stream",
     "text": [
      "C:\\Users\\Elakkiya\\AppData\\Local\\Temp\\ipykernel_13232\\2303596474.py:44: DtypeWarning: Columns (25) have mixed types. Specify dtype option on import or set low_memory=False.\n",
      "  reduced_chunks = [reduce_memory_usage(chunk) for chunk in chunks]\n"
     ]
    },
    {
     "name": "stdout",
     "output_type": "stream",
     "text": [
      "Memory usage of dataframe is 17.55 MB\n",
      "Memory usage after optimization is: 8.54 MB\n",
      "Decreased by 51.4%\n"
     ]
    },
    {
     "name": "stderr",
     "output_type": "stream",
     "text": [
      "C:\\Users\\Elakkiya\\AppData\\Local\\Temp\\ipykernel_13232\\2303596474.py:44: DtypeWarning: Columns (25) have mixed types. Specify dtype option on import or set low_memory=False.\n",
      "  reduced_chunks = [reduce_memory_usage(chunk) for chunk in chunks]\n"
     ]
    },
    {
     "name": "stdout",
     "output_type": "stream",
     "text": [
      "Memory usage of dataframe is 17.55 MB\n",
      "Memory usage after optimization is: 8.54 MB\n",
      "Decreased by 51.4%\n"
     ]
    },
    {
     "name": "stderr",
     "output_type": "stream",
     "text": [
      "C:\\Users\\Elakkiya\\AppData\\Local\\Temp\\ipykernel_13232\\2303596474.py:44: DtypeWarning: Columns (25) have mixed types. Specify dtype option on import or set low_memory=False.\n",
      "  reduced_chunks = [reduce_memory_usage(chunk) for chunk in chunks]\n"
     ]
    },
    {
     "name": "stdout",
     "output_type": "stream",
     "text": [
      "Memory usage of dataframe is 17.55 MB\n",
      "Memory usage after optimization is: 8.54 MB\n",
      "Decreased by 51.4%\n"
     ]
    },
    {
     "name": "stderr",
     "output_type": "stream",
     "text": [
      "C:\\Users\\Elakkiya\\AppData\\Local\\Temp\\ipykernel_13232\\2303596474.py:44: DtypeWarning: Columns (25) have mixed types. Specify dtype option on import or set low_memory=False.\n",
      "  reduced_chunks = [reduce_memory_usage(chunk) for chunk in chunks]\n"
     ]
    },
    {
     "name": "stdout",
     "output_type": "stream",
     "text": [
      "Memory usage of dataframe is 17.55 MB\n",
      "Memory usage after optimization is: 8.54 MB\n",
      "Decreased by 51.4%\n"
     ]
    },
    {
     "name": "stderr",
     "output_type": "stream",
     "text": [
      "C:\\Users\\Elakkiya\\AppData\\Local\\Temp\\ipykernel_13232\\2303596474.py:44: DtypeWarning: Columns (25) have mixed types. Specify dtype option on import or set low_memory=False.\n",
      "  reduced_chunks = [reduce_memory_usage(chunk) for chunk in chunks]\n"
     ]
    },
    {
     "name": "stdout",
     "output_type": "stream",
     "text": [
      "Memory usage of dataframe is 17.55 MB\n",
      "Memory usage after optimization is: 8.54 MB\n",
      "Decreased by 51.4%\n"
     ]
    },
    {
     "name": "stderr",
     "output_type": "stream",
     "text": [
      "C:\\Users\\Elakkiya\\AppData\\Local\\Temp\\ipykernel_13232\\2303596474.py:44: DtypeWarning: Columns (25) have mixed types. Specify dtype option on import or set low_memory=False.\n",
      "  reduced_chunks = [reduce_memory_usage(chunk) for chunk in chunks]\n"
     ]
    },
    {
     "name": "stdout",
     "output_type": "stream",
     "text": [
      "Memory usage of dataframe is 17.55 MB\n",
      "Memory usage after optimization is: 8.54 MB\n",
      "Decreased by 51.4%\n"
     ]
    },
    {
     "name": "stderr",
     "output_type": "stream",
     "text": [
      "C:\\Users\\Elakkiya\\AppData\\Local\\Temp\\ipykernel_13232\\2303596474.py:44: DtypeWarning: Columns (25) have mixed types. Specify dtype option on import or set low_memory=False.\n",
      "  reduced_chunks = [reduce_memory_usage(chunk) for chunk in chunks]\n"
     ]
    },
    {
     "name": "stdout",
     "output_type": "stream",
     "text": [
      "Memory usage of dataframe is 17.55 MB\n",
      "Memory usage after optimization is: 8.54 MB\n",
      "Decreased by 51.4%\n"
     ]
    },
    {
     "name": "stderr",
     "output_type": "stream",
     "text": [
      "C:\\Users\\Elakkiya\\AppData\\Local\\Temp\\ipykernel_13232\\2303596474.py:44: DtypeWarning: Columns (25) have mixed types. Specify dtype option on import or set low_memory=False.\n",
      "  reduced_chunks = [reduce_memory_usage(chunk) for chunk in chunks]\n"
     ]
    },
    {
     "name": "stdout",
     "output_type": "stream",
     "text": [
      "Memory usage of dataframe is 17.55 MB\n",
      "Memory usage after optimization is: 8.54 MB\n",
      "Decreased by 51.4%\n"
     ]
    },
    {
     "name": "stderr",
     "output_type": "stream",
     "text": [
      "C:\\Users\\Elakkiya\\AppData\\Local\\Temp\\ipykernel_13232\\2303596474.py:44: DtypeWarning: Columns (25) have mixed types. Specify dtype option on import or set low_memory=False.\n",
      "  reduced_chunks = [reduce_memory_usage(chunk) for chunk in chunks]\n"
     ]
    },
    {
     "name": "stdout",
     "output_type": "stream",
     "text": [
      "Memory usage of dataframe is 17.55 MB\n",
      "Memory usage after optimization is: 8.54 MB\n",
      "Decreased by 51.4%\n"
     ]
    },
    {
     "name": "stderr",
     "output_type": "stream",
     "text": [
      "C:\\Users\\Elakkiya\\AppData\\Local\\Temp\\ipykernel_13232\\2303596474.py:44: DtypeWarning: Columns (25) have mixed types. Specify dtype option on import or set low_memory=False.\n",
      "  reduced_chunks = [reduce_memory_usage(chunk) for chunk in chunks]\n"
     ]
    },
    {
     "name": "stdout",
     "output_type": "stream",
     "text": [
      "Memory usage of dataframe is 17.55 MB\n",
      "Memory usage after optimization is: 8.54 MB\n",
      "Decreased by 51.4%\n"
     ]
    },
    {
     "name": "stderr",
     "output_type": "stream",
     "text": [
      "C:\\Users\\Elakkiya\\AppData\\Local\\Temp\\ipykernel_13232\\2303596474.py:44: DtypeWarning: Columns (25) have mixed types. Specify dtype option on import or set low_memory=False.\n",
      "  reduced_chunks = [reduce_memory_usage(chunk) for chunk in chunks]\n"
     ]
    },
    {
     "name": "stdout",
     "output_type": "stream",
     "text": [
      "Memory usage of dataframe is 17.55 MB\n",
      "Memory usage after optimization is: 8.54 MB\n",
      "Decreased by 51.4%\n"
     ]
    },
    {
     "name": "stderr",
     "output_type": "stream",
     "text": [
      "C:\\Users\\Elakkiya\\AppData\\Local\\Temp\\ipykernel_13232\\2303596474.py:44: DtypeWarning: Columns (25) have mixed types. Specify dtype option on import or set low_memory=False.\n",
      "  reduced_chunks = [reduce_memory_usage(chunk) for chunk in chunks]\n"
     ]
    },
    {
     "name": "stdout",
     "output_type": "stream",
     "text": [
      "Memory usage of dataframe is 17.55 MB\n",
      "Memory usage after optimization is: 8.54 MB\n",
      "Decreased by 51.4%\n",
      "Memory usage of dataframe is 9.25 MB\n",
      "Memory usage after optimization is: 4.35 MB\n",
      "Decreased by 53.0%\n"
     ]
    }
   ],
   "source": [
    "import pandas as pd\n",
    "import numpy as np\n",
    "\n",
    "# Load the dataset in chunks\n",
    "final_merged_data_path = \"C:/Users/Elakkiya/Downloads/Horse Race Prediction/final_merged_data.csv\"\n",
    "chunk_size = 50000  # Adjust the chunk size based on your system's memory\n",
    "\n",
    "chunks = pd.read_csv(final_merged_data_path, chunksize=chunk_size)\n",
    "\n",
    "def reduce_memory_usage(df):\n",
    "    start_mem = df.memory_usage().sum() / 1024**2\n",
    "    print(f\"Memory usage of dataframe is {start_mem:.2f} MB\")\n",
    "\n",
    "    for col in df.columns:\n",
    "        col_type = df[col].dtype\n",
    "\n",
    "        if col_type != object:\n",
    "            c_min = df[col].min()\n",
    "            c_max = df[col].max()\n",
    "\n",
    "            if str(col_type)[:3] == 'int':\n",
    "                if c_min > np.iinfo(np.int8).min and c_max < np.iinfo(np.int8).max:\n",
    "                    df[col] = df[col].astype(np.int8)\n",
    "                elif c_min > np.iinfo(np.int16).min and c_max < np.iinfo(np.int16).max:\n",
    "                    df[col] = df[col].astype(np.int16)\n",
    "                elif c_min > np.iinfo(np.int32).min and c_max < np.iinfo(np.int32).max:\n",
    "                    df[col] = df[col].astype(np.int32)\n",
    "                elif c_min > np.iinfo(np.int64).min and c_max < np.iinfo(np.int64).max:\n",
    "                    df[col] = df[col].astype(np.int64)\n",
    "            else:\n",
    "                if c_min > np.finfo(np.float16).min and c_max < np.finfo(np.float16).max:\n",
    "                    df[col] = df[col].astype(np.float16)\n",
    "                elif c_min > np.finfo(np.float32).min and c_max < np.finfo(np.float32).max:\n",
    "                    df[col] = df[col].astype(np.float32)\n",
    "                else:\n",
    "                    df[col] = df[col].astype(np.float64)\n",
    "\n",
    "    end_mem = df.memory_usage().sum() / 1024**2\n",
    "    print(f\"Memory usage after optimization is: {end_mem:.2f} MB\")\n",
    "    print(f\"Decreased by {(100 * (start_mem - end_mem) / start_mem):.1f}%\")\n",
    "\n",
    "    return df\n",
    "\n",
    "reduced_chunks = [reduce_memory_usage(chunk) for chunk in chunks]\n",
    "final_merged_data = pd.concat(reduced_chunks, ignore_index=True)\n",
    "\n",
    "# Save the reduced memory dataset\n",
    "reduced_memory_data_path = \"C:/Users/Elakkiya/Downloads/Horse Race Prediction/final_merged_data_reduced_memory.csv\"\n",
    "final_merged_data.to_csv(reduced_memory_data_path, index=False)\n"
   ]
  },
  {
   "cell_type": "code",
   "execution_count": null,
   "id": "c208fada-ab91-41ab-a593-600dff90e571",
   "metadata": {},
   "outputs": [],
   "source": []
  }
 ],
 "metadata": {
  "kernelspec": {
   "display_name": "Python 3 (ipykernel)",
   "language": "python",
   "name": "python3"
  },
  "language_info": {
   "codemirror_mode": {
    "name": "ipython",
    "version": 3
   },
   "file_extension": ".py",
   "mimetype": "text/x-python",
   "name": "python",
   "nbconvert_exporter": "python",
   "pygments_lexer": "ipython3",
   "version": "3.10.15"
  }
 },
 "nbformat": 4,
 "nbformat_minor": 5
}
